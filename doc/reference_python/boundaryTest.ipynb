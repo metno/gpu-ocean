{
 "cells": [
  {
   "cell_type": "markdown",
   "metadata": {},
   "source": [
    "```\n",
    "This notebook sets up and runs a set of benchmarks to compare\n",
    "different numerical discretizations of the SWEs\n",
    "\n",
    "Copyright (C) 2016  SINTEF ICT\n",
    "\n",
    "This program is free software: you can redistribute it and/or modify\n",
    "it under the terms of the GNU General Public License as published by\n",
    "the Free Software Foundation, either version 3 of the License, or\n",
    "(at your option) any later version.\n",
    "\n",
    "This program is distributed in the hope that it will be useful,\n",
    "but WITHOUT ANY WARRANTY; without even the implied warranty of\n",
    "MERCHANTABILITY or FITNESS FOR A PARTICULAR PURPOSE.  See the\n",
    "GNU General Public License for more details.\n",
    "\n",
    "You should have received a copy of the GNU General Public License\n",
    "along with this program.  If not, see <http://www.gnu.org/licenses/>.\n",
    "```"
   ]
  },
  {
   "cell_type": "code",
   "execution_count": null,
   "metadata": {
    "collapsed": false,
    "scrolled": false
   },
   "outputs": [],
   "source": [
    "#Lets have matplotlib \"inline\"\n",
    "%matplotlib inline\n",
    "%config InlineBackend.figure_format = 'retina'\n",
    "\n",
    "#Import packages we need\n",
    "import numpy as np\n",
    "from matplotlib import animation, rc\n",
    "from matplotlib import pyplot as plt\n",
    "\n",
    "import os\n",
    "import pyopencl\n",
    "import datetime\n",
    "import sys\n",
    "\n",
    "#Finally, import our simulator\n",
    "from SWESimulators import FBL, CTCS, DataOutput\n",
    "\n",
    "#Set large figure sizes\n",
    "rc('figure', figsize=(16.0, 12.0))\n",
    "rc('animation', html='html5')\n",
    "\n",
    "#Finally, import our simulator\n",
    "from SWESimulators import FBL, CTCS, LxF, FORCE, HLL, HLL2, KP07, KP07_dimsplit, WAF, CDKLM16, DataOutput, PlotHelper, Common"
   ]
  },
  {
   "cell_type": "code",
   "execution_count": null,
   "metadata": {
    "collapsed": false
   },
   "outputs": [],
   "source": [
    "#Make sure we get compiler output from OpenCL\n",
    "os.environ[\"PYOPENCL_COMPILER_OUTPUT\"] = \"1\"\n",
    "\n",
    "#Set which CL device to use, and disable kernel caching\n",
    "if (str.lower(sys.platform).startswith(\"linux\")):\n",
    "    os.environ[\"PYOPENCL_CTX\"] = \"0\"\n",
    "else:\n",
    "    os.environ[\"PYOPENCL_CTX\"] = \"1\"\n",
    "os.environ[\"CUDA_CACHE_DISABLE\"] = \"1\"\n",
    "os.environ[\"PYOPENCL_COMPILER_OUTPUT\"] = \"1\"\n",
    "os.environ[\"PYOPENCL_NO_CACHE\"] = \"1\"\n",
    "\n",
    "#Create OpenCL context\n",
    "cl_ctx = pyopencl.create_some_context()\n",
    "print \"Using \", cl_ctx.devices[0].name"
   ]
  },
  {
   "cell_type": "code",
   "execution_count": null,
   "metadata": {
    "collapsed": false
   },
   "outputs": [],
   "source": [
    "#Create output directory for images\n",
    "imgdir='images_' + datetime.datetime.now().strftime(\"%Y_%m_%d-%H_%M_%S\")\n",
    "os.makedirs(imgdir)\n",
    "print \"Saving images to \" + imgdir"
   ]
  },
  {
   "cell_type": "code",
   "execution_count": null,
   "metadata": {
    "collapsed": false,
    "scrolled": false
   },
   "outputs": [],
   "source": [
    "# Forward backward linear\n",
    "nx = 100\n",
    "ny = 200\n",
    "\n",
    "dx = 200.0\n",
    "dy = 200.0\n",
    "\n",
    "dt = 1\n",
    "g = 9.81\n",
    "f = 0.0\n",
    "r = 0.0\n",
    "\n",
    "print(np.sqrt(2*17**2) )\n",
    "\n",
    "h0 = np.ones((ny, nx), dtype=np.float32) * 60;\n",
    "eta0 = np.zeros((ny, nx), dtype=np.float32);\n",
    "u0 = np.zeros((ny, nx+1), dtype=np.float32);\n",
    "v0 = np.zeros((ny+1, nx), dtype=np.float32);\n",
    "\n",
    "#Create bump in center of domain for testing\n",
    "x_center = dx*nx*0.3\n",
    "y_center = dy*ny*0.2\n",
    "size = (0.015* min(nx, ny)*min(dx, dy))**2\n",
    "#size = 500.0*min(dx,dy)\n",
    "print (\"Size: \" + str(size) + \" (vs old size: \" + str(500.0*min(dx,dy)) + \")\")\n",
    "for j in range(ny):\n",
    "    for i in range(nx):\n",
    "        x = dx*i - x_center\n",
    "        y = dy*j - y_center\n",
    "        if (np.sqrt(x**2 + y**2) < size):\n",
    "            eta0[j, i] = np.exp(-(x**2/size+y**2/size))\n",
    "            \n",
    "#Initialize simulator\n",
    "reload(FBL)\n",
    "\n",
    "sim = FBL.FBL(cl_ctx, \\\n",
    "              h0, eta0, u0, v0, \\\n",
    "              nx, ny, \\\n",
    "              dx, dy, dt, \\\n",
    "              g, f, r, \\\n",
    "              boundary_conditions=Common.BoundaryConditions(1,2,1,2))\n",
    "\n",
    "\n",
    "#Calculate radius from center of bump for plotting\n",
    "y_coords, x_coords = np.mgrid[0:ny*dy:dy, 0:nx*dx:dx]\n",
    "x_coords = np.subtract(x_coords, x_center)\n",
    "y_coords = np.subtract(y_coords, y_center)\n",
    "radius = np.sqrt(np.multiply(x_coords, x_coords) + np.multiply(y_coords, y_coords))\n",
    "\n",
    "\n",
    "fig = plt.figure()\n",
    "plotter = PlotHelper.PlotHelper(fig, x_coords, y_coords, radius, eta0, u0, v0)\n",
    "\n",
    "\n",
    "def animate(i):\n",
    "    if (i>0):\n",
    "        t = sim.step(10.0)\n",
    "    else:\n",
    "        t = 0.0\n",
    "    eta1, u1, v1 = sim.download()\n",
    "\n",
    "    plotter.plot(eta1, u1, v1);\n",
    "    fig.suptitle(\"FBL Time = \" + \"{:04.0f}\".format(t) + \" s\", fontsize=18)\n",
    "\n",
    "    if (i%10 == 0):\n",
    "        print \"{:03.0f}\".format(100*i / 20.0) + \" % => t=\" + str(t)\n",
    "        fig.savefig(imgdir + \"/{:010.0f}_fbl.png\".format(t))\n",
    "            \n",
    "anim = animation.FuncAnimation(fig, animate, range(50), interval=100)\n",
    "plt.close(anim._fig)\n",
    "anim"
   ]
  },
  {
   "cell_type": "code",
   "execution_count": null,
   "metadata": {
    "collapsed": false
   },
   "outputs": [],
   "source": [
    "a = [1,2,3,4]\n",
    "a[1]"
   ]
  }
 ],
 "metadata": {
  "git": {
   "suppress_outputs": true
  },
  "kernelspec": {
   "display_name": "Python 2",
   "language": "python",
   "name": "python2"
  },
  "language_info": {
   "codemirror_mode": {
    "name": "ipython",
    "version": 2
   },
   "file_extension": ".py",
   "mimetype": "text/x-python",
   "name": "python",
   "nbconvert_exporter": "python",
   "pygments_lexer": "ipython2",
   "version": "2.7.12"
  }
 },
 "nbformat": 4,
 "nbformat_minor": 0
}