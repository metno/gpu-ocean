{
 "cells": [
  {
   "cell_type": "markdown",
   "metadata": {},
   "source": [
    "```\n",
    "This notebook sets up and runs a set of benchmarks to compare\n",
    "different numerical discretizations of the SWEs\n",
    "\n",
    "Copyright (C) 2016  SINTEF ICT\n",
    "\n",
    "This program is free software: you can redistribute it and/or modify\n",
    "it under the terms of the GNU General Public License as published by\n",
    "the Free Software Foundation, either version 3 of the License, or\n",
    "(at your option) any later version.\n",
    "\n",
    "This program is distributed in the hope that it will be useful,\n",
    "but WITHOUT ANY WARRANTY; without even the implied warranty of\n",
    "MERCHANTABILITY or FITNESS FOR A PARTICULAR PURPOSE.  See the\n",
    "GNU General Public License for more details.\n",
    "\n",
    "You should have received a copy of the GNU General Public License\n",
    "along with this program.  If not, see <http://www.gnu.org/licenses/>.\n",
    "```"
   ]
  },
  {
   "cell_type": "code",
   "execution_count": null,
   "metadata": {
    "collapsed": false
   },
   "outputs": [],
   "source": [
    "#Lets have matplotlib \"inline\"\n",
    "%matplotlib inline\n",
    "%config InlineBackend.figure_format = 'retina'\n",
    "\n",
    "#Import packages we need\n",
    "import numpy as np\n",
    "import os\n",
    "import sys\n",
    "import pyopencl\n",
    "from matplotlib import animation, rc\n",
    "from matplotlib import pyplot as plt\n",
    "\n",
    "#Finally, import our simulator\n",
    "from SWESimulators import FBL, CTCS, DataOutput\n",
    "\n",
    "#Set large figure sizes\n",
    "rc('figure', figsize=(16.0, 12.0))\n",
    "rc('animation', html='html5')\n",
    "\n",
    "#Finally, import our simulator\n",
    "from SWESimulators import FBL, CTCS, LxF, KP07, DataOutput, PlotHelper"
   ]
  },
  {
   "cell_type": "code",
   "execution_count": null,
   "metadata": {
    "collapsed": false
   },
   "outputs": [],
   "source": [
    "#Make sure we get compiler output from OpenCL\n",
    "os.environ[\"PYOPENCL_COMPILER_OUTPUT\"] = \"1\"\n",
    "\n",
    "#Set which CL device to use, and disable kernel caching\n",
    "if (str.lower(sys.platform).startswith(\"linux\")):\n",
    "    os.environ[\"PYOPENCL_CTX\"] = \"0\"\n",
    "else:\n",
    "    os.environ[\"PYOPENCL_CTX\"] = \"1\"\n",
    "os.environ[\"CUDA_CACHE_DISABLE\"] = \"1\"\n",
    "os.environ[\"PYOPENCL_COMPILER_OUTPUT\"] = \"1\"\n",
    "os.environ[\"PYOPENCL_NO_CACHE\"] = \"1\"\n",
    "\n",
    "#Create OpenCL context\n",
    "cl_ctx = pyopencl.create_some_context()\n",
    "print \"Using \", cl_ctx.devices[0].name"
   ]
  },
  {
   "cell_type": "code",
   "execution_count": null,
   "metadata": {
    "collapsed": false,
    "scrolled": false
   },
   "outputs": [],
   "source": [
    "#Centered in time, centered in space\n",
    "\n",
    "nx = 800\n",
    "ny = 1000\n",
    "\n",
    "dx = 50000\n",
    "dy = 50000\n",
    "\n",
    "dt = 100\n",
    "g = 9.81\n",
    "f = 1.2e-4\n",
    "r = 0.0\n",
    "H0 = 1000.0\n",
    "A = 0.0 # A is diffusion coefficient multiplied by depth.\n",
    "\n",
    "h0 = np.ones((ny+2, nx+2), dtype=np.float32, order='C') * H0;\n",
    "eta0 = np.zeros((ny+2, nx+2), dtype=np.float32, order='C');\n",
    "u0 = np.zeros((ny+2, nx+1), dtype=np.float32, order='C');\n",
    "v0 = np.zeros((ny+1, nx+2), dtype=np.float32, order='C');\n",
    "\n",
    "# Initialization\n",
    "x_center = dx*nx/2.0\n",
    "y_center = dy*ny/2.0\n",
    "y_center1 = dy*(ny-100)/2.0\n",
    "y_center2 = dy*(ny+100)/2.0\n",
    "\n",
    "for j in range(-1, ny+1):\n",
    "    for i in range(-1, nx+1):\n",
    "        x = dx*i - x_center \n",
    "        y = dy*j - y_center \n",
    "        y1 = dy*j - y_center1\n",
    "        y2 = dy*j - y_center2\n",
    "\n",
    "        #Create bump in center of domain for testing\n",
    "#        size = 50*min(dx, dy)\n",
    "#        eta0[j+1, i+1] = 0.2*np.exp(-((x/size)**2+(y1/size)**2)) - \\\n",
    "#            0.3*np.exp(-((x/(2*size))**2+(y2/(2*size))**2))\n",
    "\n",
    "        # Initial smooth step\n",
    "        inirad = np.sqrt(x**2 + y**2)\n",
    "        inirad1 = np.sqrt(x**2 + y1**2)\n",
    "        inirad2 = np.sqrt(x**2 + y2**2)\n",
    "        L = 15*dx\n",
    "        D = 50*dx\n",
    "        etaamp = 0.2\n",
    "        eta0[j+1, i+1] = 0.5*etaamp*(1.0+np.tanh((-inirad+D)/L))\n",
    "        \n",
    "#        eta0[j+1, i+1] = 0.5*etaamp*(1.0+np.tanh((-inirad1+D)/L)) - \\\n",
    "#            0.5*etaamp*(1.0+np.tanh((-inirad2+D)/L)) \n",
    "\n",
    "    \n",
    "    \n",
    "#Initialize simulator\n",
    "reload(CTCS)\n",
    "sim = CTCS.CTCS(cl_ctx, \\\n",
    "                h0, eta0, u0, v0, \\\n",
    "                nx, ny, \\\n",
    "                dx, dy, dt, \\\n",
    "                g, f, r, A)\n",
    "\n",
    "\n",
    "#Calculate radius from center of bump for plotting\n",
    "y_coords, x_coords = np.mgrid[0:ny*dy:dy, 0:nx*dx:dx]\n",
    "x_coords = np.subtract(x_coords, x_center)\n",
    "y_coords = np.subtract(y_coords, y_center)\n",
    "radius = np.sqrt(np.multiply(x_coords, x_coords) + np.multiply(y_coords, y_coords))\n",
    "\n",
    "# PlotHelper script is in SWEsimulators folder\n",
    "fig = plt.figure()\n",
    "plotter = PlotHelper.PlotHelper(fig, x_coords, y_coords, radius, eta0[1:-1, 1:-1], u0[1:-1, :], v0[:, 1:-1])\n",
    "\n",
    "simrange = 300\n",
    "\n",
    "def animate(i):\n",
    "    if (i>0):\n",
    "        t = sim.step(1000.0)\n",
    "    else:\n",
    "        t = 0.0\n",
    "    eta1, u1, v1 = sim.download()\n",
    "\n",
    "    plotter.plot(eta1[1:-1, 1:-1], u1[1:-1, :], v1[:, 1:-1]);\n",
    "    fig.suptitle(\"CTCS Time = \" + \"{:04.0f}\".format(t) + \" s\", fontsize=18)\n",
    "\n",
    "    if (i%10 == 0):\n",
    "        print \"{:03.0f}\".format(100*i / simrange) + \" % => t=\" + str(t)\n",
    "        fig.savefig(\"{:010.0f}_ctcs.png\".format(t))\n",
    "\n",
    "anim = animation.FuncAnimation(fig, animate, range(simrange), interval=100)\n",
    "plt.close(anim._fig)\n",
    "anim"
   ]
  },
  {
   "cell_type": "code",
   "execution_count": null,
   "metadata": {
    "collapsed": false
   },
   "outputs": [],
   "source": [
    "eta, hu, hv = sim.download()\n",
    "plt.plot(eta[ny/2,nx/2-250:nx/2+250],'k-x')\n",
    "plt.ylim((-0.5,0.5))\n"
   ]
  },
  {
   "cell_type": "code",
   "execution_count": null,
   "metadata": {
    "collapsed": false
   },
   "outputs": [],
   "source": [
    "def kleinGordonBalance(eta, H, eta_0, nx, ny, dx, dy, f, g):\n",
    "    # Expect 0 ghost cells only\n",
    "    c = np.sqrt(g*H)\n",
    "    a = c/f\n",
    "    constant = 1/(a*a)\n",
    "    #print \"a: \", a\n",
    "    #print \"dx, dy:\", dx, dy\n",
    "   \n",
    "    eta_xx = np.zeros_like(eta)\n",
    "    eta_yy = np.zeros_like(eta)\n",
    "    laplace_eta = np.zeros_like(eta)\n",
    "        \n",
    "    eta_yy[1:-1, :] = (eta[:-2,:] -2*eta[1:-1,:] + eta[2:, :])/(dy*dy)\n",
    "    eta_xx[:, 1:-1] = (eta[:, :-2] - 2*eta[:, 1:-1] + eta[:, 2:])/(dx*dx)\n",
    "    laplace_eta = eta_xx + eta_yy\n",
    "   \n",
    "    kg = laplace_eta - constant*(eta - eta_0)\n",
    "    #geoBalance = (Ay + Bx + Cx )/D - 1\n",
    "    #geoBalance = (Ay + Bx + Cx - D)/(0.5*(Ay + Bx + Cx + D))\n",
    "    return kg\n",
    "   \n",
    "KG_CTCS = kleinGordonBalance(eta[3:-3, 3:-3], H0, \\\n",
    "                              eta0[3:-3, 3:-3], \\\n",
    "                              nx, ny, \\\n",
    "                              dx, dy, \\\n",
    "                              f, g)\n",
    "plt.imshow(KG_CTCS)\n",
    "plt.colorbar()"
   ]
  },
  {
   "cell_type": "markdown",
   "metadata": {},
   "source": []
  },
  {
   "cell_type": "code",
   "execution_count": null,
   "metadata": {
    "collapsed": true
   },
   "outputs": [],
   "source": []
  }
 ],
 "metadata": {
  "git": {
   "suppress_outputs": true
  },
  "kernelspec": {
   "display_name": "Python 2",
   "language": "python",
   "name": "python2"
  },
  "language_info": {
   "codemirror_mode": {
    "name": "ipython",
    "version": 2
   },
   "file_extension": ".py",
   "mimetype": "text/x-python",
   "name": "python",
   "nbconvert_exporter": "python",
   "pygments_lexer": "ipython2",
   "version": "2.7.12"
  }
 },
 "nbformat": 4,
 "nbformat_minor": 0
}