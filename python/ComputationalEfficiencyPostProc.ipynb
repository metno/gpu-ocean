{
 "cells": [
  {
   "cell_type": "markdown",
   "metadata": {},
   "source": [
    "```\n",
    "This notebook sets up and runs a set of benchmarks to compare\n",
    "different numerical discretizations of the SWEs\n",
    "\n",
    "Copyright (C) 2016  SINTEF ICT\n",
    "\n",
    "This program is free software: you can redistribute it and/or modify\n",
    "it under the terms of the GNU General Public License as published by\n",
    "the Free Software Foundation, either version 3 of the License, or\n",
    "(at your option) any later version.\n",
    "\n",
    "This program is distributed in the hope that it will be useful,\n",
    "but WITHOUT ANY WARRANTY; without even the implied warranty of\n",
    "MERCHANTABILITY or FITNESS FOR A PARTICULAR PURPOSE.  See the\n",
    "GNU General Public License for more details.\n",
    "\n",
    "You should have received a copy of the GNU General Public License\n",
    "along with this program.  If not, see <http://www.gnu.org/licenses/>.\n",
    "```"
   ]
  },
  {
   "cell_type": "markdown",
   "metadata": {},
   "source": [
    "## Meassuring computational efficiency - Post-Processing\n",
    "\n",
    "This notebook assumes that the benchmarkse experiments for meassuring computational efficiency of the different schemes are already executed, and the results are stored in a JSON file.\n",
    "\n",
    "The analysis and plotting will be performed here."
   ]
  },
  {
   "cell_type": "markdown",
   "metadata": {},
   "source": [
    "#### Import modules and set up environment"
   ]
  },
  {
   "cell_type": "code",
   "execution_count": null,
   "metadata": {
    "collapsed": false
   },
   "outputs": [],
   "source": [
    "#Lets have matplotlib \"inline\"\n",
    "%matplotlib inline\n",
    "%config InlineBackend.figure_format = 'retina'\n",
    "\n",
    "#Import packages we need\n",
    "import numpy as np\n",
    "from matplotlib import animation, rc\n",
    "from matplotlib import pyplot as plt\n",
    "\n",
    "import os\n",
    "import datetime\n",
    "import sys\n",
    "import time\n",
    "import json\n",
    "\n",
    "\n",
    "#Set large figure sizes\n",
    "rc('figure', figsize=(16.0, 12.0))\n",
    "rc('animation', html='html5')\n"
   ]
  },
  {
   "cell_type": "code",
   "execution_count": null,
   "metadata": {
    "collapsed": false
   },
   "outputs": [],
   "source": [
    "#Create output directory for images\n",
    "json_dir='computationalEfficiencyResults/'\n",
    "json_file = json_dir + 'all_simulators_2018_01_10-12_23_37.json'\n",
    "data = json.load(open(json_file))\n",
    "\n",
    "fig = plt.figure(figsize=(5,4))\n",
    "ax = plt.subplot(111)\n",
    "for sim in data['simulators']:\n",
    "    print sim['sim_name']\n",
    "    domain_sizes = []\n",
    "    mega_cells_per_secs = []\n",
    "    for res in sim['results']:\n",
    "        domain_size = res['nx']*res['ny']\n",
    "        num_iterations = res['T_end']/res['dt']\n",
    "        wall_clock = res['wall_clock_time']\n",
    "        mega_cells_per_sec = 1e-6*domain_size*num_iterations / wall_clock\n",
    "        \n",
    "        domain_sizes.append(domain_size*1e-6)\n",
    "        mega_cells_per_secs.append(mega_cells_per_sec)\n",
    "    plt.plot(domain_sizes, mega_cells_per_secs, '-*', label=sim['sim_name'])\n",
    "lgd = ax.legend(loc='center left', bbox_to_anchor=(1, 0.5))\n",
    "plt.xlabel('Domain size (megacells)')\n",
    "plt.ylabel('Megacells/s')\n",
    "plt.grid()\n",
    "figureFileName = json_file.replace(\".json\", \".png\")\n",
    "fig.savefig(figureFileName, bbox_extra_artists=(lgd,), bbox_inches='tight')\n"
   ]
  },
  {
   "cell_type": "code",
   "execution_count": null,
   "metadata": {
    "collapsed": true
   },
   "outputs": [],
   "source": []
  }
 ],
 "metadata": {
  "git": {
   "suppress_outputs": true
  },
  "kernelspec": {
   "display_name": "Python 2",
   "language": "python",
   "name": "python2"
  },
  "language_info": {
   "codemirror_mode": {
    "name": "ipython",
    "version": 2
   },
   "file_extension": ".py",
   "mimetype": "text/x-python",
   "name": "python",
   "nbconvert_exporter": "python",
   "pygments_lexer": "ipython2",
   "version": "2.7.12"
  }
 },
 "nbformat": 4,
 "nbformat_minor": 0
}