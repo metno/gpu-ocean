{
 "cells": [
  {
   "cell_type": "markdown",
   "metadata": {},
   "source": [
    "```\n",
    "This notebook sets up and runs a set of benchmarks to compare\n",
    "different numerical discretizations of the SWEs\n",
    "\n",
    "Copyright (C) 2016  SINTEF ICT\n",
    "\n",
    "This program is free software: you can redistribute it and/or modify\n",
    "it under the terms of the GNU General Public License as published by\n",
    "the Free Software Foundation, either version 3 of the License, or\n",
    "(at your option) any later version.\n",
    "\n",
    "This program is distributed in the hope that it will be useful,\n",
    "but WITHOUT ANY WARRANTY; without even the implied warranty of\n",
    "MERCHANTABILITY or FITNESS FOR A PARTICULAR PURPOSE.  See the\n",
    "GNU General Public License for more details.\n",
    "\n",
    "You should have received a copy of the GNU General Public License\n",
    "along with this program.  If not, see <http://www.gnu.org/licenses/>.\n",
    "```"
   ]
  },
  {
   "cell_type": "markdown",
   "metadata": {},
   "source": [
    "# Basic Particle Filter\n",
    "\n",
    "In this notebook we will make test implementations of basic particle filters.\n",
    "\n",
    "The aim is to find a decent implementation of the particles, which can be used by both simulators and particle filter.\n",
    "\n",
    "All post-processing of particles will be done on the CPU in this first iteration."
   ]
  },
  {
   "cell_type": "markdown",
   "metadata": {},
   "source": [
    "## Overview of basic resampling strategies\n",
    "\n",
    "The following four resampling algorithms are described in Section 3a) in van Leeuven's 2009 review paper.\n",
    "\n",
    "The starting point is a prior distribution of model states with pdf $p(\\psi^0)$, from which $N$ model state samples (particles) $\\psi_i^0$, $i = 1,...,N$ are drawn.\n",
    "Run the simulation model on all particles $\\psi_i^n = f(\\psi_i^{n-1})$, or in our case `sim.step(t)`. This is the same as sampling from the $p(\\psi^n | \\psi_i^{n-1})$.\n",
    "At this point we see an observation $d$.\n",
    "\n",
    "Now, define a posterior distribution $p(\\psi^n | d)$. **Think a bit here before writing more** - from this we obtain weights $w_i$.\n",
    "\n",
    "\n",
    "The most basic resampling strategies are as follows:\n",
    "### Probabilistic resampling\n",
    "Use the weights as a discrete distribution and sample directly from this.\n",
    "\n",
    "### Residual sampling\n",
    "Here, we first resample particles deterministic based on their weights, so that particle $i$ is resampled `np.floor`$(Nw_i)$ times. Define the left-over weights as $w^*_i = Nw_i \\% 1$, and use $w^*_i$ as a discrete distribution. Draw particles from the descrete distribution defined by $w^*_i$ until the ensemble consists of $N$ particles again.\n",
    "\n",
    "\n",
    "### Stochastic Universal sampling\n",
    "Let each weight represent a bucket on the line $[0, 1]$ with length $w_i$, and draw a random number $u \\sim U[0, 1/N]$.\n",
    "Put $N$ line pieces starting from $u$ with lengths $1/N$ on the line $[0,1]$. \n",
    "The bucket in which each line piece ends defines the particle that is resampled for each of the $N$ line pieces.\n",
    "\n",
    "### Monte Carlo Metropolis-Hastings sampling\n",
    "This sampling scheme is described very algorithmicly in the paper (2009, van Leeuwen) already, section 3a4).\n"
   ]
  },
  {
   "cell_type": "markdown",
   "metadata": {},
   "source": [
    "#### Import modules and set up environment"
   ]
  },
  {
   "cell_type": "code",
   "execution_count": null,
   "metadata": {
    "collapsed": false
   },
   "outputs": [],
   "source": [
    "#Lets have matplotlib \"inline\"\n",
    "%matplotlib inline\n",
    "%config InlineBackend.figure_format = 'retina'\n",
    "\n",
    "#Import packages we need\n",
    "import numpy as np\n",
    "from matplotlib import animation, rc\n",
    "from matplotlib import pyplot as plt\n",
    "from matplotlib import gridspec\n",
    "\n",
    "\n",
    "import os\n",
    "import pyopencl\n",
    "import datetime\n",
    "import sys\n",
    "\n",
    "#Set large figure sizes\n",
    "rc('figure', figsize=(16.0, 12.0))\n",
    "rc('animation', html='html5')\n",
    "\n",
    "#Import our simulator\n",
    "from SWESimulators import CTCS, CDKLM16, PlotHelper, Common\n",
    "#Import initial condition and bathymetry generating functions:\n",
    "from SWESimulators.BathymetryAndICs import *\n",
    "from SWESimulators import CPUDrifter\n",
    "from SWESimulators import Resampling"
   ]
  },
  {
   "cell_type": "code",
   "execution_count": null,
   "metadata": {
    "collapsed": false
   },
   "outputs": [],
   "source": [
    "#Make sure we get compiler output from OpenCL\n",
    "os.environ[\"PYOPENCL_COMPILER_OUTPUT\"] = \"1\"\n",
    "\n",
    "#Set which CL device to use, and disable kernel caching\n",
    "if (str.lower(sys.platform).startswith(\"linux\")):\n",
    "    os.environ[\"PYOPENCL_CTX\"] = \"0\"\n",
    "else:\n",
    "    os.environ[\"PYOPENCL_CTX\"] = \"1\"\n",
    "os.environ[\"CUDA_CACHE_DISABLE\"] = \"1\"\n",
    "os.environ[\"PYOPENCL_COMPILER_OUTPUT\"] = \"1\"\n",
    "os.environ[\"PYOPENCL_NO_CACHE\"] = \"1\"\n",
    "\n",
    "#Create OpenCL context\n",
    "cl_ctx = pyopencl.create_some_context()\n",
    "print \"Using \", cl_ctx.devices[0].name"
   ]
  },
  {
   "cell_type": "markdown",
   "metadata": {},
   "source": [
    "## Thoughts on code structure\n",
    "\n",
    "The observation will in these initial cases be a chosen model realization. When initializing a data assimilation with N particles, N+1 particles should be created and distributed on simulators.\n",
    "\n",
    "One hypothesis for our ocean simulator is that integrating 100 particles within the same simulation is equally expensive as integrating 1 particle. Each particle integration should be done with a single thread on the GPU, so all 100 particles will can be processed in parallel.\n",
    "\n",
    "If this assumption is true, it is best to have all particle positions continuous in memory. Hence, it will be implemented as an struct of array."
   ]
  },
  {
   "cell_type": "markdown",
   "metadata": {
    "collapsed": false
   },
   "source": [
    "## Create random particles, and create random observation\n",
    "\n",
    "Particles are created in a GlobalParticle class, which holds the positions of all ensemble member particles, and one additional particle which serves as our observation.\n",
    "This class should have all computational functionality that relies on the relationships between particles and the observation, and the ensemble itself.\n",
    "\n",
    "Filtering and resampling of particles does not belong in this class.\n",
    "\n",
    "List of functions that could be useful (and which of them are implemented):\n",
    "- [x] initialize uniform on unit square\n",
    "- [ ] initialize gaussian \n",
    "- [x] Calculate distances from observation\n",
    "- [x] get weights from Gaussian distribution\n",
    "- [x] get weights from Cauchy distribution\n",
    "- [x] find ensemble mean position\n",
    "- [ ] find ensemble variance\n",
    "- [ ] set observation to a given coordinate\n",
    "- [x] copy function\n",
    "\n",
    "**About distances**: In order to calculate distances in a unified way, information about boundary conditions needs to be known by the class. E.g., the distance between a particle at $(0.99, 0.99)$ from an observation at $(0.01, 0.02)$ on a unit square domain, is about $\\sqrt{2}$. However, with periodic boundary conditions, their distance is only $0.05$.\n",
    "\n",
    "Let the domain size be $(L_x, L_y)$, and define the particle and observation positions as $(x_p, y_p)$ and $(x_o, y_o)$, respectively.\n",
    "The minimal distance with a periodic boundary can then be found by\n",
    "$$ d_{x,min} = \\min \\left\\{ |x_p - x_o|, |(x_p - L_x) - x_o|, |(x_p + L_x) - x_o| \\right\\}$$\n",
    "$$ d_{y,min} = \\min \\left\\{ |y_p - y_o|, |(y_p - L_y) - y_o|, |(y_p + L_y) - y_o| \\right\\}$$\n",
    "and \n",
    "$$ d_{min} = \\sqrt{ d_{x,min}^2 + d_{y,min}^2}$$\n",
    "\n",
    "** About ensemble mean position**: When finding the mean position of particles, the above considerations needs to be taken as well. The ensemble mean position should be found by the coordinate position which results in the minimal distance given above.\n",
    "In other words, the position we should consider for the mean is\n",
    "$$ x^*_p = {\\arg\\min}_{x \\in \\{x_p, x_p \\pm L_x \\}} |x - x_o|, $$\n",
    "$$ y^*_p = {\\arg\\min}_{y \\in \\{y_p, y_p \\pm L_y \\}} |y - y_o|. $$"
   ]
  },
  {
   "cell_type": "markdown",
   "metadata": {},
   "source": [
    "## Small test with Particle classs"
   ]
  },
  {
   "cell_type": "code",
   "execution_count": null,
   "metadata": {
    "collapsed": false
   },
   "outputs": [],
   "source": [
    "# Initialize an ensemble of particles:\n",
    "reload(CPUDrifter)\n",
    "N = 100\n",
    "observation_variance = 0.08\n",
    "resample_variance = 0.005\n",
    "bc = 2\n",
    "boundaryConditions = Common.BoundaryConditions(bc,bc,bc,bc)\n",
    "mainGlobalParticles = CPUDrifter.CPUDrifter(N, observation_variance, boundaryConditions=boundaryConditions)\n",
    "mainGlobalParticles.initializeParticles()\n",
    "\n",
    "###\n",
    "mainGlobalParticles.positions[-1,0] = 0.1\n",
    "mainGlobalParticles.positions[-1,1] = 0.5\n",
    "###\n",
    "\n",
    "# The particles are by now drawn from the prior distribution\n",
    "\n",
    "# Here, the simulation/time integration should take place\n",
    "\n",
    "# Inspect initial ensemble\n",
    "mainGlobalParticles.plotDistanceInfo(title=\"Initial particles\")\n",
    "print \"Observation: \", mainGlobalParticles.getObservationPosition()\n",
    "\n",
    "print \"Mean: \", mainGlobalParticles.getEnsembleMean()\n",
    "\n"
   ]
  },
  {
   "cell_type": "code",
   "execution_count": null,
   "metadata": {
    "collapsed": false,
    "scrolled": false
   },
   "outputs": [],
   "source": [
    "print \"Testing distance calculation over periodic boundary conditions\"\n",
    "test_N = 3\n",
    "far   = \"far      \"\n",
    "close = \"close    \"\n",
    "test_solutions = np.array([[[far, far, far], [far, close, far]], [[far, far, close], [close, close, close]]])\n",
    "for test_bc_ns in [1, 2]:\n",
    "    for test_bc_ew in [1, 2]:\n",
    "        test_boundaryConditions = Common.BoundaryConditions(test_bc_ns, test_bc_ew, test_bc_ns, test_bc_ew)\n",
    "        test_particles = CPUDrifter.CPUDrifter(test_N, boundaryConditions=test_boundaryConditions)\n",
    "        test_particles.positions[0,:] = [0.9, 0.9]\n",
    "        test_particles.positions[1,:] = [0.9, 0.1]\n",
    "        test_particles.positions[2,:] = [0.1, 0.9]\n",
    "        test_particles.positions[3,:] = [0.1, 0.1]\n",
    "        print \"(test_bc_ns, test_bc_ew)\", (test_bc_ns, test_bc_ew)\n",
    "        print test_particles.getDistances()\n",
    "        print test_solutions[test_bc_ns-1, test_bc_ew-1, :]\n",
    "        print \"--------------------\"\n",
    "print test_particles.positions\n",
    "#test_particles.plotDistanceInfo()\n",
    "\n",
    "print \"--------------------------\"\n",
    "print \"Testing enforcement of periodic boundary conditions\"\n",
    "\n",
    "test_N = 5\n",
    "test_bc = 2\n",
    "test_boundaryConditions = Common.BoundaryConditions(test_bc, test_bc, test_bc, test_bc)\n",
    "test_particles = CPUDrifter.CPUDrifter(test_N, boundaryConditions=test_boundaryConditions)\n",
    "test_particles.positions[0,:] = [0.5, 0.6]\n",
    "test_particles.positions[1,:] = [0.6, 0.5]\n",
    "test_particles.positions[2,:] = [-0.1, 0.5]\n",
    "test_particles.positions[3,:] = [0.5, -0.1]\n",
    "test_particles.positions[4,:] = [1.1, 1.1]\n",
    "test_particles.positions[-1,:] = [0.5, 0.5]\n",
    "test_particles.plotDistanceInfo()\n",
    "test_particles.enforceBoundaryConditions()\n",
    "test_particles.plotDistanceInfo()\n",
    "#print test_particles.getDistances()\n",
    "print test_particles.positions\n",
    "#test_particles.plotDistanceInfo()\n",
    "\n"
   ]
  },
  {
   "cell_type": "markdown",
   "metadata": {},
   "source": [
    "## Probabilistic Resampling"
   ]
  },
  {
   "cell_type": "code",
   "execution_count": null,
   "metadata": {
    "collapsed": false
   },
   "outputs": [],
   "source": [
    "globalParticles = mainGlobalParticles.copy()\n",
    "globalParticles.plotDistanceInfo(title=\"Initial particles\")\n",
    "\n",
    "Resampling.probabilisticResampling(globalParticles, reinitialization_variance=0.0)\n",
    "globalParticles.plotDistanceInfo(title=\"From probabilistic resampling (identical resampling)\")\n",
    "\n",
    "globalParticles = mainGlobalParticles.copy()\n",
    "Resampling.probabilisticResampling(globalParticles, reinitialization_variance=resample_variance)\n",
    "globalParticles.plotDistanceInfo(title=\"From probabilistic resampling (gaussian resampling)\")"
   ]
  },
  {
   "cell_type": "markdown",
   "metadata": {},
   "source": [
    "## Residual Sampling"
   ]
  },
  {
   "cell_type": "code",
   "execution_count": null,
   "metadata": {
    "collapsed": false,
    "scrolled": false
   },
   "outputs": [],
   "source": [
    "reload(Resampling)\n",
    "globalParticles = mainGlobalParticles.copy()\n",
    "globalParticles.plotDistanceInfo(title=\"Initial particles\")\n",
    "\n",
    "Resampling.residualSampling(globalParticles, reinitialization_variance=resample_variance)\n",
    "globalParticles.plotDistanceInfo(title=\"From residual sampling\")\n",
    "\n",
    "resize_ensemble_enabled = False\n",
    "if resize_ensemble_enabled:\n",
    "    globalParticles = mainGlobalParticles.copy()\n",
    "    Resampling.residualSampling(globalParticles, reinitialization_variance=resample_variance, \\\n",
    "                                                               onlyDeterministic=True)\n",
    "    globalParticles.plotDistanceInfo(title=\"From residual sampling - Deterministic part only\")\n",
    "\n",
    "    globalParticles = mainGlobalParticles.copy()\n",
    "    Resampling.residualSampling(globalParticles, reinitialization_variance=resample_variance,\\\n",
    "                                                                onlyStochastic=True)\n",
    "    globalParticles.plotDistanceInfo(title=\"From residual sampling - Stochastic part only\")\n"
   ]
  },
  {
   "cell_type": "markdown",
   "metadata": {
    "collapsed": true
   },
   "source": [
    "## Stochastic Universal Sampling"
   ]
  },
  {
   "cell_type": "code",
   "execution_count": null,
   "metadata": {
    "collapsed": false
   },
   "outputs": [],
   "source": [
    "reload(Resampling)\n",
    "globalParticles = mainGlobalParticles.copy()\n",
    "globalParticles.plotDistanceInfo(title=\"Initial particles\")\n",
    "\n",
    "Resampling.stochasticUniversalSampling(globalParticles, reinitialization_variance=resample_variance)\n",
    "globalParticles.plotDistanceInfo(title=\"From Stochastic universal sampling\")\n"
   ]
  },
  {
   "cell_type": "markdown",
   "metadata": {
    "collapsed": true
   },
   "source": [
    "## Monte Carlo Metropolis-Hasting"
   ]
  },
  {
   "cell_type": "code",
   "execution_count": null,
   "metadata": {
    "collapsed": false,
    "scrolled": false
   },
   "outputs": [],
   "source": [
    "globalParticles = mainGlobalParticles.copy()\n",
    "globalParticles.plotDistanceInfo(title=\"Initial particles\")\n",
    "\n",
    "Resampling.metropolisHastingSampling(globalParticles, reinitialization_variance=resample_variance)\n",
    "globalParticles.plotDistanceInfo(title=\"From Monte Carlo Metropolis-Hasting\")\n",
    "\n",
    "print \"First particle is automatically chosen - position: \", globalParticles.positions[0,:]"
   ]
  },
  {
   "cell_type": "markdown",
   "metadata": {
    "collapsed": true
   },
   "source": [
    "# Na\u00efve drift trajectories in the SWE simulators\n",
    "\n",
    "Here, we will make a naive implementation of particles drifting within our simplified ocean models.\n",
    "For simplicity, a non-staggered implementation is chosen, as it makes it easier to evaluate the velocity field.\n"
   ]
  },
  {
   "cell_type": "code",
   "execution_count": null,
   "metadata": {
    "collapsed": false
   },
   "outputs": [],
   "source": [
    "# DEFINE PARAMETERS\n",
    "\n",
    "#Coriolis well balanced reconstruction scheme\n",
    "nx = 50\n",
    "ny = 50\n",
    "\n",
    "dx = 4.0\n",
    "dy = 4.0\n",
    "\n",
    "dt = 0.1\n",
    "g = 9.81\n",
    "\n",
    "f = 0.5\n",
    "r = 0.0\n",
    "\n",
    "waterHeight = 10\n",
    "\n",
    "# WIND\n",
    "wind = Common.WindStressParams(type=99)\n",
    "\n",
    "ghosts = np.array([2,2,2,2]) # north, east, south, west\n",
    "validDomain = np.array([2,2,2,2])\n",
    "boundaryConditions = Common.BoundaryConditions(2,2,2,2)\n",
    "\n",
    "# Define which cell index which has lower left corner as position (0,0)\n",
    "x_zero_ref = 2\n",
    "y_zero_ref = 2\n",
    "\n",
    "dataShape = (ny + ghosts[0]+ghosts[2], \n",
    "             nx + ghosts[1]+ghosts[3])\n",
    "\n",
    "eta0 = np.zeros(dataShape, dtype=np.float32, order='C');\n",
    "u0 = np.zeros(dataShape, dtype=np.float32, order='C');\n",
    "v0 = np.zeros(dataShape, dtype=np.float32, order='C');\n",
    "\n",
    "# Bathymetry:\n",
    "Hi = np.ones((dataShape[0]+1, dataShape[1]+1), dtype=np.float32, order='C')*waterHeight\n",
    "\n",
    "# Add disturbance:\n",
    "addBump(eta0, nx, ny, dx, dy, 0.3, 0.5, 0.05, validDomain)\n",
    "addBump(eta0, nx, ny, dx, dy, 0.7, 0.2, 0.10, validDomain)\n",
    "addBump(eta0, nx, ny, dx, dy, 0.1, 0.8, 0.03, validDomain)\n",
    "eta0 = eta0*0.3\n",
    "\n",
    "#Calculate radius from center of bump for plotting\n",
    "x_center = dx*nx/2.0\n",
    "y_center = dy*ny/2.0\n",
    "y_coords, x_coords = np.mgrid[0:ny*dy:dy, 0:nx*dx:dx]\n",
    "#x_coords = np.subtract(x_coords, x_center)\n",
    "#y_coords = np.subtract(y_coords, y_center)\n",
    "radius = np.sqrt(np.multiply(x_coords, x_coords) + np.multiply(y_coords, y_coords))\n",
    "\n"
   ]
  },
  {
   "cell_type": "code",
   "execution_count": null,
   "metadata": {
    "collapsed": false
   },
   "outputs": [],
   "source": [
    "np.random.seed(4)\n",
    "\n",
    "## Define a bunch of particles to be released within the given domain\n",
    "numParticles = 50\n",
    "observation_variance = 5*dx\n",
    "resample_variance = 10*dx\n",
    "\n",
    "constOceanParticles = CPUDrifter.CPUDrifter(numParticles, observation_variance, boundaryConditions)\n",
    "constOceanParticles.initializeParticles(dx*nx, dy*ny)\n",
    "\n",
    "constOceanParticles.plotDistanceInfo(title=\"Initial particles\")\n",
    "\n",
    "copyOfConstOceanParticles = constOceanParticles.copy()\n",
    "Resampling.residualSampling(copyOfConstOceanParticles, reinitialization_variance=resample_variance)\n",
    "copyOfConstOceanParticles.plotDistanceInfo(title=\"From probabilistic resampling (gaussian resampling)\")"
   ]
  },
  {
   "cell_type": "code",
   "execution_count": null,
   "metadata": {
    "collapsed": false
   },
   "outputs": [],
   "source": [
    "def particleDrifter(particles, eta, hu, hv, H0, dt, nx, ny, dx, dy, x_zero_ref, y_zero_ref, \\\n",
    "                    sensitivity=1, doPrint=False):\n",
    "    # Change positions by reference\n",
    "    positions = particles.positions\n",
    "    \n",
    "    numParticles = positions.shape[0]\n",
    "    # Loop over particles\n",
    "    for i in range(numParticles):\n",
    "        if doPrint: print \"---------- Particle \" + str(i) + \" ---------------\"\n",
    "        x0, y0 = positions[i,0], positions[i,1]\n",
    "        if doPrint: print \"(x0, y0): \", (x0,y0)\n",
    "        \n",
    "        # First, find which cell each particle is in\n",
    "        \n",
    "        # In x-direction:\n",
    "        cell_id_x = int(np.ceil(x0/dx) + x_zero_ref)\n",
    "        cell_id_y = int(np.ceil(y0/dy) + y_zero_ref)\n",
    "        \n",
    "        if (cell_id_x < 0 or cell_id_x > nx + 4 or cell_id_y < 0 or cell_id_y > ny + 4):\n",
    "            print \"ERROR! Cell id \" + str((cell_id_x, cell_id_y)) + \" is outside of the domain!\"\n",
    "            print \"\\t\\Particle position is: \" + str((x0, y0))\n",
    "        \n",
    "        if doPrint: print \"cell values in x-direction: \", ((cell_id_x-2-0.5)*dx, (cell_id_x-2+0.5)*dx)\n",
    "        if doPrint: print \"cell values in y-direction: \", ((cell_id_y-2-0.5)*dy, (cell_id_y-2+0.5)*dy)\n",
    "        \n",
    "        h = waterHeight + eta[cell_id_y, cell_id_x]\n",
    "        u = hu[cell_id_y, cell_id_x]\n",
    "        v = hv[cell_id_y, cell_id_x]\n",
    "        \n",
    "        if doPrint: print \"Velocity: \", (u, v)\n",
    "        \n",
    "        x1 = sensitivity*u*dt + x0\n",
    "        y1 = sensitivity*v*dt + y0\n",
    "        if doPrint: print \"(x1, y1): \", (positions[i,0], positions[i,1])\n",
    "        \n",
    "        positions[i,0] = x1\n",
    "        positions[i,1] = y1\n",
    "        \n",
    "    \n",
    "    # Check what we assume is periodic boundary conditions    \n",
    "    particles.enforceBoundaryConditions()\n",
    "    #applyPeriodicBoundaryConditionsToParticles(positions, nx, ny, dx, dy)\n",
    "        \n",
    "        \n",
    "#eta1, hu1, hv1 = sim.download()\n",
    "#particleDrifter(oceanParticles.positions, eta1, hu1, hv1, waterHeight, \\\n",
    "#                dt, nx, ny, dx, dy, x_zero_ref, y_zero_ref, \\\n",
    "#                doPrint=True)"
   ]
  },
  {
   "cell_type": "code",
   "execution_count": null,
   "metadata": {
    "collapsed": false,
    "scrolled": false
   },
   "outputs": [],
   "source": [
    "\n",
    "oceanParticles = constOceanParticles.copy()\n",
    "\n",
    "#Clean up old simulator if any:\n",
    "if 'sim' in globals():\n",
    "    sim.cleanUp()\n",
    "    \n",
    "#Initialize simulator\n",
    "reload(CDKLM16)\n",
    "reload(PlotHelper)\n",
    "sim = CDKLM16.CDKLM16(cl_ctx, eta0, u0, v0, Hi, \\\n",
    "                nx, ny, dx, dy, dt, g, f, r, \\\n",
    "                boundary_conditions=boundaryConditions)\n",
    "\n",
    "fig = plt.figure()\n",
    "plotter = PlotHelper.PlotHelper(fig, x_coords, y_coords, radius, \n",
    "                                eta0[validDomain[2]:-validDomain[0], validDomain[3]:-validDomain[1]], \n",
    "                                u0[validDomain[2]:-validDomain[0], validDomain[3]:-validDomain[1]], \n",
    "                                v0[validDomain[2]:-validDomain[0], validDomain[3]:-validDomain[1]])\n",
    "\n",
    "plotter.showParticles(oceanParticles)\n",
    "\n",
    "T = 200\n",
    "sensitivity = 20\n",
    "loopsPerFrame = 10\n",
    "oceanParticleSets = [oceanParticles.copy()]\n",
    "plotTitles = [\"Initial ensemble\"]\n",
    "def animate(i):\n",
    "    if (i>0):\n",
    "        for j in range(loopsPerFrame):\n",
    "            t = sim.step(dt)\n",
    "            eta1, hu1, hv1 = sim.download()\n",
    "\n",
    "            particleDrifter(oceanParticles, eta1, hu1, hv1, waterHeight, \\\n",
    "                            dt, nx, ny, dx, dy, x_zero_ref, y_zero_ref, sensitivity=sensitivity)\n",
    "\n",
    "    else:\n",
    "        t = 0.0\n",
    "\n",
    "    eta1, hu1, hv1 = sim.download()\n",
    "    plotter.plot(eta1[validDomain[2]:-validDomain[0], validDomain[3]:-validDomain[1]], \n",
    "                 hu1[validDomain[2]:-validDomain[0], validDomain[3]:-validDomain[1]], \n",
    "                 hv1[validDomain[2]:-validDomain[0], validDomain[3]:-validDomain[1]]);\n",
    "    \n",
    "    plotter.showParticles(oceanParticles)\n",
    "    \n",
    "    fig.suptitle(\"CDKLM16 with CPU drift (high sensitivity) using residualSampling - Time = \" + \"{:04.0f}\".format(t) + \" s\", fontsize=18)\n",
    "    \n",
    "    if (i%50 == 0 and i > 0):\n",
    "        oceanParticleSets.append(oceanParticles.copy())\n",
    "        plotTitles.append(\"Before particle filter at t = \" + str(t))\n",
    "        \n",
    "        Resampling.residualSampling(oceanParticles, reinitialization_variance=resample_variance)\n",
    "        \n",
    "        oceanParticleSets.append(oceanParticles.copy())\n",
    "        plotTitles.append(\"After particle filter at t = \" + str(t))\n",
    "\n",
    "    if (i%20 == 0):\n",
    "        print \"{:03.0f}\".format(100*i / T) + \" % => t=\" + str(t) + \"\\tMax eta: \" + str(np.max(eta1)) + \\\n",
    "        \"\\tMax hu: \" + str(np.max(hu1)) + \\\n",
    "        \"\\tMax hv: \" + str(np.max(hv1))\n",
    "        print \"\\t\\tObservation pos: \", oceanParticles.getObservationPosition()\n",
    "                     \n",
    "anim = animation.FuncAnimation(fig, animate, range(T), interval=100)\n",
    "plt.close(anim._fig)\n",
    "anim"
   ]
  },
  {
   "cell_type": "code",
   "execution_count": null,
   "metadata": {
    "collapsed": false,
    "scrolled": false
   },
   "outputs": [],
   "source": [
    "for i in range(len(oceanParticleSets)):\n",
    "    oceanParticleSets[i].plotDistanceInfo(title=plotTitles[i])"
   ]
  },
  {
   "cell_type": "code",
   "execution_count": null,
   "metadata": {
    "collapsed": false
   },
   "outputs": [],
   "source": [
    "fig = plt.figure(figsize=(4,4))\n",
    "posis = np.array([[0.1, 0.2, 0.3, 0.4],[0.2, 0.4, 0.6, 0.8]])\n",
    "print posis\n",
    "scat = plt.scatter(x=posis[0,:], y=posis[1,:])\n",
    "plt.xlim(0,1)\n",
    "plt.ylim(0,1)\n",
    "plt.grid()\n",
    "posis[0,:] = posis[0,:]*1.8\n",
    "print posis\n",
    "scat.set_offsets(posis.T)\n"
   ]
  },
  {
   "cell_type": "code",
   "execution_count": null,
   "metadata": {
    "collapsed": false
   },
   "outputs": [],
   "source": []
  },
  {
   "cell_type": "code",
   "execution_count": null,
   "metadata": {
    "collapsed": false
   },
   "outputs": [],
   "source": [
    "#### Sorting example from https://stackoverflow.com/a/21077060\n",
    "\n",
    "people = np.array(['Jim', 'Pam', 'Micheal', 'Dwight'])\n",
    "ages = np.array([27, 25, 4, 9])\n",
    "sorted_indices = ages.argsort()\n",
    "print people[sorted_indices]"
   ]
  },
  {
   "cell_type": "code",
   "execution_count": null,
   "metadata": {
    "collapsed": false
   },
   "outputs": [],
   "source": []
  }
 ],
 "metadata": {
  "git": {
   "suppress_outputs": true
  },
  "kernelspec": {
   "display_name": "Python 2",
   "language": "python",
   "name": "python2"
  },
  "language_info": {
   "codemirror_mode": {
    "name": "ipython",
    "version": 2
   },
   "file_extension": ".py",
   "mimetype": "text/x-python",
   "name": "python",
   "nbconvert_exporter": "python",
   "pygments_lexer": "ipython2",
   "version": "2.7.12"
  }
 },
 "nbformat": 4,
 "nbformat_minor": 0
}