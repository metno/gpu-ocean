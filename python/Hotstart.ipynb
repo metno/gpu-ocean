{
 "cells": [
  {
   "cell_type": "markdown",
   "metadata": {},
   "source": [
    "# Hotstart with nc-files"
   ]
  },
  {
   "cell_type": "markdown",
   "metadata": {},
   "source": [
    "Simple example of hotstart using nc-file from an earlier simulation. Simulation paramters are read from nc-file and the last timestep is used as initial conditions for the new (hotstarted) simulation."
   ]
  },
  {
   "cell_type": "markdown",
   "metadata": {},
   "source": [
    "## Setup and initialization"
   ]
  },
  {
   "cell_type": "code",
   "execution_count": 1,
   "metadata": {
    "collapsed": false,
    "scrolled": false
   },
   "outputs": [],
   "source": [
    "#Lets have matplotlib \"inline\"\n",
    "%matplotlib inline\n",
    "%config InlineBackend.figure_format = 'retina'\n",
    "\n",
    "#Import packages we need\n",
    "import numpy as np\n",
    "from matplotlib import animation, rc\n",
    "from matplotlib import pyplot as plt\n",
    "\n",
    "import os\n",
    "import pyopencl\n",
    "import datetime\n",
    "import sys\n",
    "import glob\n",
    "\n",
    "#Finally, import our simulator\n",
    "from SWESimulators import FBL, CTCS, SimWriter\n",
    "\n",
    "#Set large figure sizes\n",
    "rc('figure', figsize=(16.0, 12.0))\n",
    "rc('animation', html='html5')\n",
    "\n",
    "#Import our simulator\n",
    "from SWESimulators import FBL, CTCS, LxF, KP07, CDKLM16, SimWriter, SimReader, PlotHelper, Common\n",
    "#Import initial condition and bathymetry generating functions:\n",
    "from SWESimulators.BathymetryAndICs import *"
   ]
  },
  {
   "cell_type": "code",
   "execution_count": 2,
   "metadata": {
    "collapsed": false
   },
   "outputs": [],
   "source": [
    "#Make sure we get compiler output from OpenCL\n",
    "os.environ[\"PYOPENCL_COMPILER_OUTPUT\"] = \"1\"\n",
    "\n",
    "#Set which CL device to use, and disable kernel caching\n",
    "if (str.lower(sys.platform).startswith(\"linux\")):\n",
    "    os.environ[\"PYOPENCL_CTX\"] = \"0\"\n",
    "else:\n",
    "    os.environ[\"PYOPENCL_CTX\"] = \"1\"\n",
    "os.environ[\"CUDA_CACHE_DISABLE\"] = \"1\"\n",
    "os.environ[\"PYOPENCL_COMPILER_OUTPUT\"] = \"1\"\n",
    "os.environ[\"PYOPENCL_NO_CACHE\"] = \"1\"\n",
    "\n",
    "#Create OpenCL context\n",
    "cl_ctx = pyopencl.create_some_context()\n",
    "print \"Using \", cl_ctx.devices[0].name"
   ]
  },
  {
   "cell_type": "code",
   "execution_count": 3,
   "metadata": {
    "collapsed": false
   },
   "outputs": [],
   "source": [
    "#Create output directory for images\n",
    "imgdir='images_' + datetime.datetime.now().strftime(\"%Y_%m_%d-%H_%M_%S\")\n",
    "os.makedirs(imgdir)\n",
    "print \"Saving images to \" + imgdir"
   ]
  },
  {
   "cell_type": "markdown",
   "metadata": {},
   "source": [
    "## Make nc-file"
   ]
  },
  {
   "cell_type": "code",
   "execution_count": 7,
   "metadata": {
    "collapsed": false,
    "scrolled": false
   },
   "outputs": [],
   "source": [
    "#Clean up old simulator if any:\n",
    "if 'sim' in globals():\n",
    "    sim.cleanUp()\n",
    "    \n",
    "#Centered in time, centered in space\n",
    "nx = 100\n",
    "ny = 200\n",
    "\n",
    "dx = 200.0\n",
    "dy = 200.0\n",
    "\n",
    "width = nx * dx\n",
    "height = ny * dy\n",
    "\n",
    "dt = 1\n",
    "g = 9.81\n",
    "r = 0.0\n",
    "A = 1\n",
    "f = 0.01\n",
    "\n",
    "#wind = Common.WindStressParams(type=0, tau0=3.0, rho=1025, alpha=1.0/(100*dx))\n",
    "wind = Common.WindStressParams(type=99)\n",
    "\n",
    "    \n",
    "\n",
    "bcSettings = 1\n",
    "ghosts = [1,1,1,1] # north, east, south, west\n",
    "if (bcSettings == 1):\n",
    "    boundaryConditions = Common.BoundaryConditions()\n",
    "    # Wall boundary conditions\n",
    "elif (bcSettings == 2):\n",
    "    # periodic boundary conditions\n",
    "    boundaryConditions = Common.BoundaryConditions(2,2,2,2)\n",
    "elif bcSettings == 3:\n",
    "    # periodic north-south\n",
    "    boundaryConditions = Common.BoundaryConditions(2,1,2,1)\n",
    "else:\n",
    "    # periodic east-west\n",
    "    boundaryConditions = Common.BoundaryConditions(1,2,1,2)\n",
    "\n",
    "h0 = np.ones((ny+2, nx+2), dtype=np.float32, order='C') * 60;\n",
    "#addTopographyBump(h0, nx, ny, dx, dy, ghosts, 40)\n",
    "\n",
    "eta0 = np.zeros((ny+2, nx+2), dtype=np.float32, order='C');\n",
    "u0 = np.zeros((ny+2, nx+1+2), dtype=np.float32, order='C');\n",
    "v0 = np.zeros((ny+1+2, nx+2), dtype=np.float32, order='C');\n",
    "\n",
    "#Create bump in to lower left of domain for testing\n",
    "x_center = dx*nx*0.3\n",
    "y_center = dy*ny*0.2\n",
    "makeCentralBump(eta0, 0.0, nx, ny, dx, dy, ghosts)\n",
    "#makeUpperCornerBump(eta0, nx, ny, dx, dy, ghosts)\n",
    "#addDualVortexStaggered(eta0, u0, v0, nx, ny, dx, dy, ghosts)\n",
    "    \n",
    "\n",
    "#Initialize simulator\n",
    "reload(CTCS)\n",
    "sim = CTCS.CTCS(cl_ctx, \\\n",
    "                h0, eta0, u0, v0, \\\n",
    "                nx, ny, \\\n",
    "                dx, dy, dt, \\\n",
    "                g, f, r, A, \\\n",
    "                wind_stress=wind, \\\n",
    "                boundary_conditions=boundaryConditions, \\\n",
    "                write_netcdf=True)\n",
    "\n",
    "\n",
    "#Calculate radius from center of bump for plotting\n",
    "y_coords, x_coords = np.mgrid[0:ny*dy:dy, 0:nx*dx:dx]\n",
    "x_coords = np.subtract(x_coords, x_center)\n",
    "y_coords = np.subtract(y_coords, y_center)\n",
    "radius = np.sqrt(np.multiply(x_coords, x_coords) + np.multiply(y_coords, y_coords))\n",
    "\n",
    "ghosts = [-1,1,-1,1]\n",
    "\n",
    "fig = plt.figure()\n",
    "plotter = PlotHelper.PlotHelper(fig, x_coords, y_coords, radius, eta0[1:-1, 1:-1], u0[1:-1, :], v0[:, 1:-1])\n",
    "\n",
    "T = 50\n",
    "def animate(i):\n",
    "    if (i>0):\n",
    "        t = sim.step(10.0)\n",
    "    else:\n",
    "        t = 0.0\n",
    "    eta1, u1, v1 = sim.download()\n",
    "\n",
    "    plotter.plot(eta1[1:-1, 1:-1], u1[1:-1, :], v1[:, 1:-1]);\n",
    "    fig.suptitle(\"CTCS Time = \" + \"{:04.0f}\".format(t) + \" s\", fontsize=18)\n",
    "\n",
    "    if (i%10 == 0):\n",
    "        print \"{:03.0f}\".format(100.0*i / T) + \" % => t=\" + str(t)\n",
    "        fig.savefig(imgdir + \"/{:010.0f}_ctcs.png\".format(t))\n",
    "\n",
    "#anim = animation.FuncAnimation(fig, animate, range(T), interval=100)\n",
    "#plt.close(anim._fig)\n",
    "#anim\n",
    "\n",
    "#eta1, u1, v1 = sim.download()\n",
    "    \n",
    "for i in range(10):\n",
    "    if (i>0):\n",
    "        t = sim.step(10.0)\n",
    "    else:\n",
    "        t = 0.0\n",
    "    eta1, u1, v1 = sim.download()\n",
    "\n",
    "    print \"i: \" + str(i) + \" t: \" + str(t)"
   ]
  },
  {
   "cell_type": "code",
   "execution_count": 8,
   "metadata": {
    "collapsed": false
   },
   "outputs": [],
   "source": [
    "# Close nc-file\n",
    "sim.cleanUp()"
   ]
  },
  {
   "cell_type": "markdown",
   "metadata": {},
   "source": [
    "## Hotstart simulation from nc-file"
   ]
  },
  {
   "cell_type": "code",
   "execution_count": 5,
   "metadata": {
    "collapsed": false
   },
   "outputs": [],
   "source": [
    "# utility function to print last produced nc-file\n",
    "nc_files = glob.glob(os.path.join(\".\", \"netcdf_\" + datetime.datetime.now().strftime(\"%Y_%m_%d\"), \"*\"))\n",
    "if not nc_files:\n",
    "    raise Exception(\"No nc-files produced today!\")\n",
    "print max(nc_files)"
   ]
  },
  {
   "cell_type": "code",
   "execution_count": 8,
   "metadata": {
    "collapsed": false
   },
   "outputs": [],
   "source": [
    "nc_files = glob.glob(os.path.join(\".\", \"netcdf_\" + datetime.datetime.now().strftime(\"%Y_%m_%d\"), \"*\"))\n",
    "if not nc_files:\n",
    "    raise Exception(\"No nc-files produced today!\")\n",
    "filename =  max(nc_files)\n",
    "\n",
    "#Clean up old simulator if any:\n",
    "if 'sim' in globals():\n",
    "    sim.cleanUp()\n",
    "\n",
    "#Initialize simulator at time time0, using last recorded time step as initial conditions\n",
    "reload(CTCS)\n",
    "sim = CTCS.CTCS.fromfilename(cl_ctx, \\\n",
    "                filename, \\\n",
    "                cont_write_netcdf=True)\n",
    "\n",
    "nx = sim.nx\n",
    "ny = sim.ny\n",
    "\n",
    "dx = sim.dx\n",
    "dy = sim.dy\n",
    "\n",
    "eta0, u0, v0 = sim.download()\n",
    "\n",
    "#Calculate radius from center of bump for plotting\n",
    "y_coords, x_coords = np.mgrid[0:ny*dy:dy, 0:nx*dx:dx]\n",
    "x_center = dx*nx*0.3\n",
    "y_center = dy*ny*0.2\n",
    "x_coords = np.subtract(x_coords, x_center)\n",
    "y_coords = np.subtract(y_coords, y_center)\n",
    "radius = np.sqrt(np.multiply(x_coords, x_coords) + np.multiply(y_coords, y_coords))\n",
    "\n",
    "ghosts = [-1,1,-1,1]\n",
    "\n",
    "fig = plt.figure()\n",
    "plotter = PlotHelper.PlotHelper(fig, x_coords, y_coords, radius, eta0[1:-1, 1:-1], u0[1:-1, :], v0[:, 1:-1])\n",
    "\n",
    "T = 50\n",
    "def animate(i):\n",
    "    if (i>0):\n",
    "        t = sim.step(10.0)\n",
    "    else:\n",
    "        t = 0.0\n",
    "    eta1, u1, v1 = sim.download()\n",
    "\n",
    "    plotter.plot(eta1[1:-1, 1:-1], u1[1:-1, :], v1[:, 1:-1]);\n",
    "    fig.suptitle(\"CTCS Time = \" + \"{:04.0f}\".format(t) + \" s\", fontsize=18)\n",
    "\n",
    "    if (i%10 == 0):\n",
    "        print \"{:03.0f}\".format(100.0*i / T) + \" % => t=\" + str(t)\n",
    "        fig.savefig(imgdir + \"/{:010.0f}_ctcs.png\".format(t))\n",
    "\n",
    "#anim = animation.FuncAnimation(fig, animate, range(T), interval=100)\n",
    "#plt.close(anim._fig)\n",
    "#anim\n",
    "\n",
    "#eta1, u1, v1 = sim.download()\n",
    "    \n",
    "for i in range(10):\n",
    "    if (i>0):\n",
    "        t = sim.step(10.0)\n",
    "    else:\n",
    "        t = sim.t\n",
    "    eta1, u1, v1 = sim.download()\n",
    "\n",
    "    print \"i: \" + str(i) + \" t: \" + str(t)"
   ]
  },
  {
   "cell_type": "code",
   "execution_count": 9,
   "metadata": {
    "collapsed": false
   },
   "outputs": [],
   "source": [
    "# Close nc-file\n",
    "sim.cleanUp()"
   ]
  },
  {
   "cell_type": "code",
   "execution_count": null,
   "metadata": {
    "collapsed": true
   },
   "outputs": [],
   "source": []
  }
 ],
 "metadata": {
  "git": {
   "suppress_outputs": true
  },
  "kernelspec": {
   "display_name": "Python 2",
   "language": "python",
   "name": "python2"
  },
  "language_info": {
   "codemirror_mode": {
    "name": "ipython",
    "version": 2
   },
   "file_extension": ".py",
   "mimetype": "text/x-python",
   "name": "python",
   "nbconvert_exporter": "python",
   "pygments_lexer": "ipython2",
   "version": "2.7.12"
  }
 },
 "nbformat": 4,
 "nbformat_minor": 0
}