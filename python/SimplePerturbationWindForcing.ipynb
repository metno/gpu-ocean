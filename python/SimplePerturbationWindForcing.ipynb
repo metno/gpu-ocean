{
 "cells": [
  {
   "cell_type": "markdown",
   "metadata": {},
   "source": [
    "# Na\u00efve pertubation of windforcing"
   ]
  },
  {
   "cell_type": "markdown",
   "metadata": {},
   "source": [
    "Simple example of pertubation of windforcing in simulations, using only wind direction and wind speed as input."
   ]
  },
  {
   "cell_type": "markdown",
   "metadata": {},
   "source": [
    "## Setup and initialization"
   ]
  },
  {
   "cell_type": "code",
   "execution_count": null,
   "metadata": {
    "collapsed": false,
    "scrolled": false
   },
   "outputs": [],
   "source": [
    "#Lets have matplotlib \"inline\"\n",
    "%matplotlib inline\n",
    "%config InlineBackend.figure_format = 'retina'\n",
    "\n",
    "#Import packages we need\n",
    "import numpy as np\n",
    "from matplotlib import animation, rc\n",
    "from matplotlib import pyplot as plt\n",
    "\n",
    "import os\n",
    "import pyopencl\n",
    "import datetime\n",
    "import sys\n",
    "import glob\n",
    "import math as m\n",
    "\n",
    "#Set large figure sizes\n",
    "rc('figure', figsize=(16.0, 12.0))\n",
    "rc('animation', html='html5')\n",
    "\n",
    "#Import our simulator\n",
    "from SWESimulators import FBL, CTCS, SimWriter, PlotHelper, Common\n",
    "#Import initial condition and bathymetry generating functions:\n",
    "from SWESimulators.BathymetryAndICs import *"
   ]
  },
  {
   "cell_type": "code",
   "execution_count": null,
   "metadata": {
    "collapsed": false
   },
   "outputs": [],
   "source": [
    "#Make sure we get compiler output from OpenCL\n",
    "os.environ[\"PYOPENCL_COMPILER_OUTPUT\"] = \"1\"\n",
    "\n",
    "#Set which CL device to use, and disable kernel caching\n",
    "if (str.lower(sys.platform).startswith(\"linux\")):\n",
    "    os.environ[\"PYOPENCL_CTX\"] = \"0\"\n",
    "else:\n",
    "    os.environ[\"PYOPENCL_CTX\"] = \"1\"\n",
    "os.environ[\"CUDA_CACHE_DISABLE\"] = \"1\"\n",
    "os.environ[\"PYOPENCL_COMPILER_OUTPUT\"] = \"1\"\n",
    "os.environ[\"PYOPENCL_NO_CACHE\"] = \"1\"\n",
    "\n",
    "#Create OpenCL context\n",
    "cl_ctx = pyopencl.create_some_context()\n",
    "print \"Using \", cl_ctx.devices[0].name"
   ]
  },
  {
   "cell_type": "code",
   "execution_count": null,
   "metadata": {
    "collapsed": false
   },
   "outputs": [],
   "source": [
    "#Create output directory for images\n",
    "imgdir='images_' + datetime.datetime.now().strftime(\"%Y_%m_%d-%H_%M_%S\")\n",
    "os.makedirs(imgdir)\n",
    "print \"Saving images to \" + imgdir"
   ]
  },
  {
   "cell_type": "code",
   "execution_count": null,
   "metadata": {
    "collapsed": false
   },
   "outputs": [],
   "source": [
    "def wind_u(wind_speed, wind_direction):\n",
    "    return -wind_speed * m.sin(wind_direction * 0.01745329)\n",
    "\n",
    "def wind_v(wind_speed, wind_direction):\n",
    "    return -wind_speed * m.cos(wind_direction * 0.01745329)\n",
    "\n",
    "u = wind_u(5.0, 0.0)\n",
    "v = wind_v(5.0, 0.0)\n",
    "\n",
    "print u\n",
    "print v"
   ]
  },
  {
   "cell_type": "markdown",
   "metadata": {},
   "source": [
    "## Make nc-file"
   ]
  },
  {
   "cell_type": "code",
   "execution_count": null,
   "metadata": {
    "collapsed": false,
    "scrolled": false
   },
   "outputs": [],
   "source": [
    "#Clean up old simulator if any:\n",
    "if 'sim' in globals():\n",
    "    sim.cleanUp()\n",
    "    \n",
    "#Centered in time, centered in space\n",
    "nx = 500\n",
    "ny = 400\n",
    "\n",
    "dx = 200.0\n",
    "dy = 200.0\n",
    "\n",
    "width = nx * dx\n",
    "height = ny * dy\n",
    "\n",
    "dt = 1\n",
    "g = 9.81\n",
    "r = 0.0\n",
    "A = 1\n",
    "f = 0.01\n",
    "#f = 0.0\n",
    "\n",
    "#wind = Common.WindStressParams(type=0, tau0=3.0, rho=1025, alpha=1.0/(100*dx))\n",
    "wind = Common.WindStressParams(type=50, wind_speed=5.0, wind_direction=0.0)\n",
    "#wind = Common.WindStressParams(type=99)\n",
    "\n",
    "    \n",
    "\n",
    "bcSettings = 2\n",
    "ghosts = [1,1,1,1] # north, east, south, west\n",
    "if (bcSettings == 1):\n",
    "    boundaryConditions = Common.BoundaryConditions()\n",
    "    # Wall boundary conditions\n",
    "elif (bcSettings == 2):\n",
    "    # periodic boundary conditions\n",
    "    boundaryConditions = Common.BoundaryConditions(2,2,2,2)\n",
    "elif bcSettings == 3:\n",
    "    # periodic north-south\n",
    "    boundaryConditions = Common.BoundaryConditions(2,1,2,1)\n",
    "else:\n",
    "    # periodic east-west\n",
    "    boundaryConditions = Common.BoundaryConditions(1,2,1,2)\n",
    "\n",
    "h0 = np.ones((ny+2, nx+2), dtype=np.float32, order='C') * 60;\n",
    "\n",
    "eta0 = np.zeros((ny+2, nx+2), dtype=np.float32, order='C');\n",
    "u0 = np.zeros((ny+2, nx+1+2), dtype=np.float32, order='C');\n",
    "v0 = np.zeros((ny+1+2, nx+2), dtype=np.float32, order='C');\n",
    "\n",
    "#Create bump in domain for testing\n",
    "x_center = dx*nx*0.5\n",
    "y_center = dy*ny*0.5\n",
    "#makeCentralBump(eta0, 0.0, nx, ny, dx, dy, ghosts)\n",
    "    \n",
    "\n",
    "#Initialize simulator\n",
    "reload(CTCS)\n",
    "# NOTE! offset_x and offset_y is chosen to produce 'reasonable' lonlat-values using the bogus\n",
    "# projection variable currently added by SimNetCDFWriter.\n",
    "sim = CTCS.CTCS(cl_ctx, \\\n",
    "                h0, eta0, u0, v0, \\\n",
    "                nx, ny, \\\n",
    "                dx, dy, dt, \\\n",
    "                g, f, r, A, \\\n",
    "                wind_stress=wind, \\\n",
    "                boundary_conditions=boundaryConditions, \\\n",
    "                ignore_ghostcells=True, \\\n",
    "                write_netcdf=True, \\\n",
    "                offset_x=-2000000.0, offset_y=-1000000.0)\n",
    "\n",
    "\n",
    "#Calculate radius from center of bump for plotting\n",
    "y_coords, x_coords = np.mgrid[0:ny*dy:dy, 0:nx*dx:dx]\n",
    "x_coords = np.subtract(x_coords, x_center)\n",
    "y_coords = np.subtract(y_coords, y_center)\n",
    "radius = np.sqrt(np.multiply(x_coords, x_coords) + np.multiply(y_coords, y_coords))\n",
    "\n",
    "ghosts = [-1,1,-1,1]\n",
    "\n",
    "fig = plt.figure()\n",
    "plotter = PlotHelper.PlotHelper(fig, x_coords, y_coords, radius, eta0[1:-1, 1:-1], u0[1:-1, :], v0[:, 1:-1])\n",
    "\n",
    "T = 50\n",
    "def animate(i):\n",
    "    if (i>0):\n",
    "        t = sim.step(10.0)\n",
    "    else:\n",
    "        t = 0.0\n",
    "    eta1, u1, v1 = sim.download()\n",
    "\n",
    "    plotter.plot(eta1[1:-1, 1:-1], u1[1:-1, :], v1[:, 1:-1]);\n",
    "    fig.suptitle(\"CTCS Time = \" + \"{:04.0f}\".format(t) + \" s\", fontsize=18)\n",
    "\n",
    "    if (i%10 == 0):\n",
    "        print \"{:03.0f}\".format(100.0*i / T) + \" % => t=\" + str(t)\n",
    "        fig.savefig(imgdir + \"/{:010.0f}_ctcs.png\".format(t))\n",
    "\n",
    "#anim = animation.FuncAnimation(fig, animate, range(T), interval=100)\n",
    "#plt.close(anim._fig)\n",
    "#anim\n",
    "    \n",
    "for i in range(100):\n",
    "    if (i>0):\n",
    "        t = sim.step(10.0)\n",
    "    else:\n",
    "        t = 0.0\n",
    "    eta1, u1, v1 = sim.download()\n",
    "\n",
    "    print \"i: \" + str(i) + \" t: \" + str(t)"
   ]
  },
  {
   "cell_type": "code",
   "execution_count": null,
   "metadata": {
    "collapsed": false
   },
   "outputs": [],
   "source": [
    "# Close nc-file\n",
    "sim.cleanUp()"
   ]
  },
  {
   "cell_type": "code",
   "execution_count": null,
   "metadata": {
    "collapsed": true
   },
   "outputs": [],
   "source": []
  }
 ],
 "metadata": {
  "git": {
   "suppress_outputs": true
  },
  "kernelspec": {
   "display_name": "Python 2",
   "language": "python",
   "name": "python2"
  },
  "language_info": {
   "codemirror_mode": {
    "name": "ipython",
    "version": 2
   },
   "file_extension": ".py",
   "mimetype": "text/x-python",
   "name": "python",
   "nbconvert_exporter": "python",
   "pygments_lexer": "ipython2",
   "version": "2.7.12"
  }
 },
 "nbformat": 4,
 "nbformat_minor": 0
}