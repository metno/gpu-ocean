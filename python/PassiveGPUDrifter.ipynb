{
 "cells": [
  {
   "cell_type": "markdown",
   "metadata": {},
   "source": [
    "```\n",
    "This notebook sets up and runs a set of benchmarks to compare\n",
    "different numerical discretizations of the SWEs\n",
    "\n",
    "Copyright (C) 2016  SINTEF ICT\n",
    "\n",
    "This program is free software: you can redistribute it and/or modify\n",
    "it under the terms of the GNU General Public License as published by\n",
    "the Free Software Foundation, either version 3 of the License, or\n",
    "(at your option) any later version.\n",
    "\n",
    "This program is distributed in the hope that it will be useful,\n",
    "but WITHOUT ANY WARRANTY; without even the implied warranty of\n",
    "MERCHANTABILITY or FITNESS FOR A PARTICULAR PURPOSE.  See the\n",
    "GNU General Public License for more details.\n",
    "\n",
    "You should have received a copy of the GNU General Public License\n",
    "along with this program.  If not, see <http://www.gnu.org/licenses/>.\n",
    "```"
   ]
  },
  {
   "cell_type": "markdown",
   "metadata": {},
   "source": [
    "# Passive drift functionality on GPU\n",
    "\n",
    "This notebook serves as the laboratory for prototyping implementations of passive drift of an object along simulation results from our simplified ocean models.\n",
    "\n",
    "These drift functions will be used to speed up our basic particle filter application, trying to predict passive drift in a chaotic ocean - see BasicParticleFilter.ipynb.\n",
    "\n",
    "The goals will be\n",
    "- [ ] Make a singleGPUPassiveDrifterEnsamble class, holding data positions on the GPU, but where data assimilation part is executed on the CPU.\n",
    "- [ ] ???"
   ]
  },
  {
   "cell_type": "markdown",
   "metadata": {},
   "source": [
    "#### Import modules and set up environment"
   ]
  },
  {
   "cell_type": "code",
   "execution_count": null,
   "metadata": {
    "collapsed": false
   },
   "outputs": [],
   "source": [
    "#Lets have matplotlib \"inline\"\n",
    "%matplotlib inline\n",
    "%config InlineBackend.figure_format = 'retina'\n",
    "\n",
    "#Import packages we need\n",
    "import numpy as np\n",
    "from matplotlib import animation, rc\n",
    "from matplotlib import pyplot as plt\n",
    "from matplotlib import gridspec\n",
    "\n",
    "\n",
    "import os\n",
    "import pyopencl\n",
    "import datetime\n",
    "import sys\n",
    "\n",
    "#Set large figure sizes\n",
    "rc('figure', figsize=(16.0, 12.0))\n",
    "rc('animation', html='html5')\n",
    "\n",
    "#Import our simulator\n",
    "from SWESimulators import CTCS, CDKLM16, PlotHelper, Common\n",
    "#Import initial condition and bathymetry generating functions:\n",
    "from SWESimulators.BathymetryAndICs import *\n",
    "from SWESimulators import Particles\n",
    "from SWESimulators import Resampling"
   ]
  },
  {
   "cell_type": "code",
   "execution_count": null,
   "metadata": {
    "collapsed": false
   },
   "outputs": [],
   "source": [
    "#Make sure we get compiler output from OpenCL\n",
    "os.environ[\"PYOPENCL_COMPILER_OUTPUT\"] = \"1\"\n",
    "\n",
    "#Set which CL device to use, and disable kernel caching\n",
    "if (str.lower(sys.platform).startswith(\"linux\")):\n",
    "    os.environ[\"PYOPENCL_CTX\"] = \"0\"\n",
    "else:\n",
    "    os.environ[\"PYOPENCL_CTX\"] = \"1\"\n",
    "os.environ[\"CUDA_CACHE_DISABLE\"] = \"1\"\n",
    "os.environ[\"PYOPENCL_COMPILER_OUTPUT\"] = \"1\"\n",
    "os.environ[\"PYOPENCL_NO_CACHE\"] = \"1\"\n",
    "\n",
    "#Create OpenCL context\n",
    "cl_ctx = pyopencl.create_some_context()\n",
    "print \"Using \", cl_ctx.devices[0].name"
   ]
  },
  {
   "cell_type": "markdown",
   "metadata": {},
   "source": [
    "## Thoughts on code structure\n",
    "\n",
    "The observation will in these initial cases be a chosen model realization. When initializing a data assimilation with N particles, N+1 particles should be created and distributed on simulators.\n",
    "\n",
    "One hypothesis for our ocean simulator is that integrating 100 particles within the same simulation is equally expensive as integrating 1 particle. Each particle integration should be done with a single thread on the GPU, so all 100 particles will can be processed in parallel.\n",
    "\n",
    "If this assumption is true, it is best to have all particle positions continuous in memory. Hence, it will be implemented as an struct of array."
   ]
  },
  {
   "cell_type": "markdown",
   "metadata": {
    "collapsed": false
   },
   "source": [
    "## Create random particles, and create random observation\n",
    "**(This text is mainly copy-paste from BasicParticleFilter.ipynb)**\n",
    "\n",
    "Particles are created in a GlobalParticle class, which holds the positions of all ensemble member particles, and one additional particle which serves as our observation.\n",
    "This class should have all computational functionality that relies on the relationships between particles and the observation, and the ensemble itself.\n",
    "\n",
    "Filtering and resampling of particles does not belong in this class.\n",
    "\n",
    "List of functions that could be useful (and which of them are implemented):\n",
    "- [ ] initialize uniform on unit square\n",
    "- [ ] \n",
    "- [w] initialize gaussian \n",
    "- [w] Calculate distances from observation\n",
    "- [w] get weights from Gaussian distribution\n",
    "- [w] get weights from Cauchy distribution\n",
    "- [w] find ensemble mean position\n",
    "- [w] find ensemble variance\n",
    "- [w] set observation to a given coordinate\n",
    "- [w] copy function\n",
    "\n",
    "**About distances**: In order to calculate distances in a unified way, information about boundary conditions needs to be known by the class. E.g., the distance between a particle at $(0.99, 0.99)$ from an observation at $(0.01, 0.02)$ on a unit square domain, is about $\\sqrt{2}$. However, with periodic boundary conditions, their distance is only $0.05$.\n",
    "\n",
    "Let the domain size be $(L_x, L_y)$, and define the particle and observation positions as $(x_p, y_p)$ and $(x_o, y_o)$, respectively.\n",
    "The minimal distance with a periodic boundary can then be found by\n",
    "$$ d_{x,min} = \\min \\left\\{ |x_p - x_o|, |(x_p - L_x) - x_o|, |(x_p + L_x) - x_o| \\right\\}$$\n",
    "$$ d_{y,min} = \\min \\left\\{ |y_p - y_o|, |(y_p - L_y) - y_o|, |(y_p + L_y) - y_o| \\right\\}$$\n",
    "and \n",
    "$$ d_{min} = \\sqrt{ d_{x,min}^2 + d_{y,min}^2}$$\n",
    "\n",
    "** About ensemble mean position**: When finding the mean position of particles, the above considerations needs to be taken as well. The ensemble mean position should be found by the coordinate position which results in the minimal distance given above.\n",
    "In other words, the position we should consider for the mean is\n",
    "$$ x^*_p = {\\arg\\min}_{x \\in \\{x_p, x_p \\pm L_x \\}} |x - x_o|, $$\n",
    "$$ y^*_p = {\\arg\\min}_{y \\in \\{y_p, y_p \\pm L_y \\}} |y - y_o|. $$"
   ]
  },
  {
   "cell_type": "markdown",
   "metadata": {},
   "source": [
    "## The SingleGPUPassiveDrifterEnsemble class"
   ]
  },
  {
   "cell_type": "code",
   "execution_count": null,
   "metadata": {
    "collapsed": false
   },
   "outputs": [],
   "source": [
    "poses = particlesHost = np.zeros((10 + 1, 2))\n",
    "print poses.shape\n",
    "print poses.dtype\n",
    "poses = poses.astype(np.float32, order='C')\n",
    "print poses.dtype"
   ]
  },
  {
   "cell_type": "code",
   "execution_count": null,
   "metadata": {
    "collapsed": false
   },
   "outputs": [],
   "source": [
    "# Read some simulator field from netcfd:\n",
    "netcdf_file_name = \"netcdf_2018_02_12/CDKLM16_2018_02_12-16_52_49.nc\"\n",
    "reload(CDKLM16)\n",
    "if 'sim' in globals():\n",
    "    sim.cleanUp()\n",
    "sim = CDKLM16.CDKLM16.fromfilename(cl_ctx, \\\n",
    "                                   netcdf_file_name, \\\n",
    "                                   cont_write_netcdf=False)\n",
    "#eta0, hu0, hv0 = sim.download()\n",
    "Hi = sim.downloadBathymetry()[0]"
   ]
  },
  {
   "cell_type": "code",
   "execution_count": null,
   "metadata": {
    "collapsed": false,
    "scrolled": false
   },
   "outputs": [],
   "source": [
    "reload(Particles)\n",
    "class SingleGPUPassiveDrifterEnsemble(Particles.GlobalParticles):\n",
    "    def __init__(self, cl_ctx, numParticles, \\\n",
    "                 observation_variance=0.1, \\\n",
    "                 boundaryConditions=Common.BoundaryConditions(), \\\n",
    "                 cl_queue=None, \\\n",
    "                 block_width = 64):\n",
    "        # Define OpenCL environment:\n",
    "        self.cl_ctx = cl_ctx\n",
    "        self.block_width = block_width\n",
    "        self.block_height = 1\n",
    "        \n",
    "        # TODO: Where should the cl_queue come from?\n",
    "        # For sure, the drifter and the ocean simulator should use \n",
    "        # the same queue...\n",
    "        self.cl_queue = cl_queue\n",
    "        if self.cl_queue is None:\n",
    "            self.cl_queue = pyopencl.CommandQueue(self.cl_ctx)\n",
    "        \n",
    "        self.numParticles = numParticles\n",
    "        self.obs_index = self.numParticles\n",
    "        self.observation_variance = observation_variance\n",
    "        self.sensitivity = 1.0\n",
    "        \n",
    "        self.domain_size_x = 1.0\n",
    "        self.domain_size_y = 1.0\n",
    "        self.boundaryConditions = boundaryConditions\n",
    "        \n",
    "        self.particlesHost = np.zeros((self.numParticles + 1, 2)).astype(np.float32, order='C')\n",
    "        self.particlesDevice = None # TODO: Change to allocate\n",
    "        \n",
    "        self.driftKernels = Common.get_kernel(self.cl_ctx,\\\n",
    "            \"driftKernels.opencl\", self.block_width, self.block_height)\n",
    "        self.local_size = (self.block_width, self.block_height)\n",
    "        self.global_size = (int(np.ceil((self.numParticles + 2)/float(self.block_width))*self.block_width), \n",
    "                            self.block_height )\n",
    "        \n",
    "        #print \"local_size: \", self.local_size\n",
    "        #print \"global_size: \", self.global_size\n",
    "        #print \"numParticles + obs: \", self.numParticles + 1\n",
    "        # remember: shape = (y, x)\n",
    "        \n",
    "        \n",
    "    def initializeParticles(self, domain_size_x = 1.0, domain_size_y = 1.0):\n",
    "        \n",
    "         # Initialize in unit square\n",
    "        self.particlesHost = np.random.rand(self.numParticles + 1, 2)        \n",
    "        # Ensure that the observation is in the middle 0.5x0.5 square:\n",
    "        self.particlesHost[self.obs_index, :] = self.particlesHost[self.obs_index]*0.5 + 0.25\n",
    "        \n",
    "        # Map to given square\n",
    "        self.particlesHost[:,0] = self.particlesHost[:,0]*domain_size_x\n",
    "        self.particlesHost[:,1] = self.particlesHost[:,1]*domain_size_y\n",
    "        \n",
    "        self.domain_size_x = domain_size_x\n",
    "        self.domain_size_y = domain_size_y\n",
    "        self.particlesHost = self.particlesHost.astype(np.float32, order='C')\n",
    "        \n",
    "        if self.particlesDevice is not None:\n",
    "            self.particlesDevice.release()\n",
    "        \n",
    "        # TODO: Change to upload\n",
    "        self.particlesDevice = Common.OpenCLArray2D(cl_ctx, \\\n",
    "                                                    2, self.numParticles+1, 0, 0, \\\n",
    "                                                    self.particlesHost)\n",
    "\n",
    "    def setParticlePositions(self, newParticlePositions):\n",
    "        ### Need to attache the observation to the newParticlePositions, and then upload\n",
    "        # to the GPU\n",
    "        newPositionsAll = np.concatenate((partpos, np.array([gpu2.getObservationPosition()])), \\\n",
    "                                         axis=0)\n",
    "        print newPositionsAll\n",
    "        self.particlesDevice.upload(self.cl_queue, newPositionsAll)\n",
    "        \n",
    "    def setSensitivity(self, sensitivity):\n",
    "        self.sensitivity = sensitivity\n",
    "        \n",
    "    def getParticlePositions(self):\n",
    "        allParticles = self.particlesDevice.download(self.cl_queue)\n",
    "        return allParticles[:-1, :]\n",
    "    \n",
    "    def getObservationPosition(self):\n",
    "        allParticles = self.particlesDevice.download(self.cl_queue)\n",
    "        return allParticles[self.obs_index, :]\n",
    "    \n",
    "    def drift(self, eta, hu, hv, H0, nx, ny, dx, dy, dt, \\\n",
    "              x_zero_ref, y_zero_ref):\n",
    "        \n",
    "        self.driftKernels.passiveDrifterKernel(self.cl_queue, self.global_size, self.local_size, \\\n",
    "                                               nx, ny, dx, dy, dt, x_zero_ref, y_zero_ref, \\\n",
    "                                               eta.data, eta.pitch, \\\n",
    "                                               hu.data, hu.pitch, \\\n",
    "                                               hv.data, hv.pitch, \\\n",
    "                                               H0, \\\n",
    "                                               np.int32(self.boundaryConditions.isPeriodicNorthSouth()), \\\n",
    "                                               np.int32(self.boundaryConditions.isPeriodicEastWest()), \\\n",
    "                                               np.int32(self.numParticles), \\\n",
    "                                               self.particlesDevice.data, \\\n",
    "                                               self.particlesDevice.pitch, \\\n",
    "                                               np.float32(self.sensitivity))\n",
    "\n",
    "    def setCLQueue(self, cl_queue):\n",
    "        self.cl_queue = cl_queue\n",
    "        \n",
    "    def cleanUp(self):\n",
    "        if (self.particlesDevice is not None):\n",
    "            self.particlesDevice.release()\n",
    "\n",
    "#Clean up old simulator if any:\n",
    "if 'gpuParticles' in globals():\n",
    "    gpuParticles.cleanUp()\n",
    "    \n",
    "numParticles = 100\n",
    "observation_variance = 5*sim.dx\n",
    "gpuParticles = SingleGPUPassiveDrifterEnsemble(cl_ctx, numParticles,\n",
    "                                               observation_variance=observation_variance,\n",
    "                                               boundaryConditions=sim.boundary_conditions)\n",
    "gpuParticles.initializeParticles(sim.nx*sim.dx, sim.ny*sim.dy)\n",
    "fig = plt.figure(figsize=(5,5))\n",
    "# Plot host data:\n",
    "plt.plot(gpuParticles.particlesHost[:-1,0], \\\n",
    "         gpuParticles.particlesHost[:-1,1], 'yo')\n",
    "plt.plot(gpuParticles.particlesHost[-1,0], \\\n",
    "         gpuParticles.particlesHost[-1,1], 'ro')\n",
    "# Plot device data:\n",
    "plt.plot(gpuParticles.getParticlePositions()[:,0], \\\n",
    "         gpuParticles.getParticlePositions()[:,1], 'k+')\n",
    "plt.plot(gpuParticles.getObservationPosition()[0], \\\n",
    "         gpuParticles.getObservationPosition()[1], 'k+')\n",
    "\n",
    "# Drift\n",
    "for i in range(20):\n",
    "    for j in range(1000):\n",
    "        gpuParticles.drift(sim.cl_data.h0, sim.cl_data.hu0, sim.cl_data.hv0, np.max(Hi), \\\n",
    "                           sim.nx, sim.ny, sim.dx, sim.dy, sim.dt, \\\n",
    "                           np.int32(2), np.int32(2))\n",
    "    \n",
    "    # Plot device data:\n",
    "    plt.plot(gpuParticles.getParticlePositions()[:,0], \\\n",
    "             gpuParticles.getParticlePositions()[:,1], 'r.')\n",
    "    plt.plot(gpuParticles.getObservationPosition()[0], \\\n",
    "             gpuParticles.getObservationPosition()[1], 'b.')\n",
    "\n",
    "print gpuParticles.getDomainSizeX()\n",
    "gpuParticles.plotDistanceInfo()"
   ]
  },
  {
   "cell_type": "code",
   "execution_count": null,
   "metadata": {
    "collapsed": false
   },
   "outputs": [],
   "source": [
    "numParticles = 20\n",
    "observation_variance = 0.1\n",
    "gpu2 = SingleGPUPassiveDrifterEnsemble(cl_ctx, numParticles,\n",
    "                                               observation_variance=observation_variance,\n",
    "                                               boundaryConditions=sim.boundary_conditions)\n",
    "gpu2.initializeParticles()\n",
    "gpu2.plotDistanceInfo()\n",
    "\n",
    "partpos = gpu2.getParticlePositions()\n",
    "partpos = partpos*0.1 + 0.5 + np.array([1, 1])\n",
    "gpu2.setParticlePositions(partpos)\n",
    "gpu2.plotDistanceInfo()\n"
   ]
  },
  {
   "cell_type": "code",
   "execution_count": null,
   "metadata": {
    "collapsed": false
   },
   "outputs": [],
   "source": []
  },
  {
   "cell_type": "code",
   "execution_count": null,
   "metadata": {
    "collapsed": true
   },
   "outputs": [],
   "source": []
  },
  {
   "cell_type": "markdown",
   "metadata": {
    "collapsed": true
   },
   "source": [
    "# Na\u00efve drift trajectories in the SWE simulators\n",
    "\n",
    "Here, we will make a naive implementation of particles drifting within our simplified ocean models.\n",
    "For simplicity, a non-staggered implementation is chosen, as it makes it easier to evaluate the velocity field.\n"
   ]
  },
  {
   "cell_type": "code",
   "execution_count": null,
   "metadata": {
    "collapsed": false
   },
   "outputs": [],
   "source": [
    "# DEFINE PARAMETERS\n",
    "\n",
    "#Coriolis well balanced reconstruction scheme\n",
    "nx = 50\n",
    "ny = 50\n",
    "\n",
    "dx = 4.0\n",
    "dy = 4.0\n",
    "\n",
    "dt = 0.1\n",
    "g = 9.81\n",
    "\n",
    "f = 0.5\n",
    "r = 0.0\n",
    "\n",
    "waterHeight = 10\n",
    "\n",
    "# WIND\n",
    "wind = Common.WindStressParams(type=99)\n",
    "\n",
    "ghosts = np.array([2,2,2,2]) # north, east, south, west\n",
    "validDomain = np.array([2,2,2,2])\n",
    "boundaryConditions = Common.BoundaryConditions(2,2,2,2)\n",
    "\n",
    "# Define which cell index which has lower left corner as position (0,0)\n",
    "x_zero_ref = 2\n",
    "y_zero_ref = 2\n",
    "\n",
    "dataShape = (ny + ghosts[0]+ghosts[2], \n",
    "             nx + ghosts[1]+ghosts[3])\n",
    "\n",
    "eta0 = np.zeros(dataShape, dtype=np.float32, order='C');\n",
    "u0 = np.zeros(dataShape, dtype=np.float32, order='C');\n",
    "v0 = np.zeros(dataShape, dtype=np.float32, order='C');\n",
    "\n",
    "# Bathymetry:\n",
    "Hi = np.ones((dataShape[0]+1, dataShape[1]+1), dtype=np.float32, order='C')*waterHeight\n",
    "\n",
    "# Add disturbance:\n",
    "addBump(eta0, nx, ny, dx, dy, 0.3, 0.5, 0.05, validDomain)\n",
    "addBump(eta0, nx, ny, dx, dy, 0.7, 0.2, 0.10, validDomain)\n",
    "addBump(eta0, nx, ny, dx, dy, 0.1, 0.8, 0.03, validDomain)\n",
    "eta0 = eta0*0.3\n",
    "\n",
    "#Calculate radius from center of bump for plotting\n",
    "x_center = dx*nx/2.0\n",
    "y_center = dy*ny/2.0\n",
    "y_coords, x_coords = np.mgrid[0:ny*dy:dy, 0:nx*dx:dx]\n",
    "#x_coords = np.subtract(x_coords, x_center)\n",
    "#y_coords = np.subtract(y_coords, y_center)\n",
    "radius = np.sqrt(np.multiply(x_coords, x_coords) + np.multiply(y_coords, y_coords))\n",
    "\n"
   ]
  },
  {
   "cell_type": "code",
   "execution_count": null,
   "metadata": {
    "collapsed": false
   },
   "outputs": [],
   "source": [
    "np.random.seed(4)\n",
    "\n",
    "numParticles = 50\n",
    "observation_variance = 5*dx\n",
    "resample_variance = 10*dx\n",
    "\n",
    "## Define a bunch of particles to be released within the given domain\n",
    "gpuParticles = SingleGPUPassiveDrifterEnsemble(cl_ctx, numParticles,\n",
    "                                               observation_variance=observation_variance,\n",
    "                                               boundaryConditions=sim.boundary_conditions)\n",
    "gpuParticles.initializeParticles(sim.nx*sim.dx, sim.ny*sim.dy)\n",
    "\n",
    "gpuParticles.plotDistanceInfo(title=\"Initial particles\")\n"
   ]
  },
  {
   "cell_type": "code",
   "execution_count": null,
   "metadata": {
    "collapsed": true
   },
   "outputs": [],
   "source": [
    "## BasicParticleFilter.ipynb here defined the drift function"
   ]
  },
  {
   "cell_type": "code",
   "execution_count": null,
   "metadata": {
    "collapsed": false,
    "scrolled": false
   },
   "outputs": [],
   "source": [
    "\n",
    "#Clean up old simulator if any:\n",
    "if 'sim' in globals():\n",
    "    sim.cleanUp()\n",
    "    \n",
    "#Initialize simulator\n",
    "reload(CDKLM16)\n",
    "reload(PlotHelper)\n",
    "sim = CDKLM16.CDKLM16(cl_ctx, eta0, u0, v0, Hi, \\\n",
    "                nx, ny, dx, dy, dt, g, f, r, \\\n",
    "                boundary_conditions=boundaryConditions,\n",
    "                write_netcdf=False)\n",
    "\n",
    "gpuParticles.setSensitivity(1)\n",
    "sim.attachDrifters(gpuParticles)\n",
    "\n",
    "fig = plt.figure()\n",
    "plotter = PlotHelper.PlotHelper(fig, x_coords, y_coords, radius, \n",
    "                                eta0[validDomain[2]:-validDomain[0], validDomain[3]:-validDomain[1]], \n",
    "                                u0[validDomain[2]:-validDomain[0], validDomain[3]:-validDomain[1]], \n",
    "                                v0[validDomain[2]:-validDomain[0], validDomain[3]:-validDomain[1]])\n",
    "\n",
    "plotter.showParticles(gpuParticles)\n",
    "\n",
    "T = 50\n",
    "sub_t = 1000*dt\n",
    "#loopsPerFrame = 10\n",
    "#oceanParticleSets = [oceanParticles.copy()]\n",
    "#plotTitles = [\"Initil ensemble\"]\n",
    "\n",
    "def animate(i):\n",
    "    if (i>0):\n",
    "        t = sim.step(sub_t)\n",
    "    else:\n",
    "        t = 0.0\n",
    "\n",
    "    eta1, hu1, hv1 = sim.download()\n",
    "    plotter.plot(eta1[validDomain[2]:-validDomain[0], validDomain[3]:-validDomain[1]], \n",
    "                 hu1[validDomain[2]:-validDomain[0], validDomain[3]:-validDomain[1]], \n",
    "                 hv1[validDomain[2]:-validDomain[0], validDomain[3]:-validDomain[1]]);\n",
    "    \n",
    "    plotter.showParticles(gpuParticles)\n",
    "     \n",
    "    fig.suptitle(\"CDKLM16 with passive GPU drift - Time = \" + \"{:04.0f}\".format(t) + \" s\", fontsize=18)\n",
    "    \n",
    "    #if (i%50 == 0 and i > 0):\n",
    "    #    oceanParticleSets.append(oceanParticles.copy())\n",
    "    #    plotTitles.append(\"Before particle filter at t = \" + str(t))\n",
    "    #    \n",
    "    #    resampledOceanParticles = Resampling.residualSampling(oceanParticles, reinitialization_variance=resample_variance)\n",
    "    #    oceanParticles.positions = resampledOceanParticles.positions\n",
    "    #    \n",
    "    #    oceanParticleSets.append(resampledOceanParticles.copy())\n",
    "    #    plotTitles.append(\"After particle filter at t = \" + str(t))\n",
    "    \n",
    "    if (i%20 == 0):\n",
    "        print \"{:03.0f}\".format(100*i / T) + \" % => t=\" + str(t) + \"\\tMax eta: \" + str(np.max(eta1)) + \\\n",
    "        \"\\tMax hu: \" + str(np.max(hu1)) + \\\n",
    "        \"\\tMax hv: \" + str(np.max(hv1))\n",
    "        print \"\\t\\tObservation pos: \", oceanParticles.getObservationPosition()\n",
    "                     \n",
    "anim = animation.FuncAnimation(fig, animate, range(T), interval=100)\n",
    "plt.close(anim._fig)\n",
    "anim\n",
    "\n",
    "### Create a field to start from:\n",
    "#sim.step(dt*T*10)\n",
    "#eta1, hu1, hv1 = sim.download()\n",
    "#plotter.plot(eta1[validDomain[2]:-validDomain[0], validDomain[3]:-validDomain[1]], \n",
    "#             hu1[validDomain[2]:-validDomain[0], validDomain[3]:-validDomain[1]], \n",
    "#             hv1[validDomain[2]:-validDomain[0], validDomain[3]:-validDomain[1]])\n",
    "#sim.cleanUp()"
   ]
  },
  {
   "cell_type": "code",
   "execution_count": null,
   "metadata": {
    "collapsed": false
   },
   "outputs": [],
   "source": []
  },
  {
   "cell_type": "code",
   "execution_count": null,
   "metadata": {
    "collapsed": false,
    "scrolled": false
   },
   "outputs": [],
   "source": [
    "for i in range(len(oceanParticleSets)):\n",
    "    oceanParticleSets[i].plotDistanceInfo(title=plotTitles[i])"
   ]
  },
  {
   "cell_type": "code",
   "execution_count": null,
   "metadata": {
    "collapsed": false
   },
   "outputs": [],
   "source": [
    "fig = plt.figure(figsize=(4,4))\n",
    "posis = np.array([[0.1, 0.2, 0.3, 0.4],[0.2, 0.4, 0.6, 0.8]])\n",
    "print posis\n",
    "scat = plt.scatter(x=posis[0,:], y=posis[1,:])\n",
    "plt.xlim(0,1)\n",
    "plt.ylim(0,1)\n",
    "plt.grid()\n",
    "posis[0,:] = posis[0,:]*1.8\n",
    "print posis\n",
    "scat.set_offsets(posis.T)\n"
   ]
  },
  {
   "cell_type": "code",
   "execution_count": null,
   "metadata": {
    "collapsed": false
   },
   "outputs": [],
   "source": []
  },
  {
   "cell_type": "code",
   "execution_count": null,
   "metadata": {
    "collapsed": false
   },
   "outputs": [],
   "source": [
    "#### Sorting example from https://stackoverflow.com/a/21077060\n",
    "\n",
    "people = np.array(['Jim', 'Pam', 'Micheal', 'Dwight'])\n",
    "ages = np.array([27, 25, 4, 9])\n",
    "sorted_indices = ages.argsort()\n",
    "print people[sorted_indices]"
   ]
  },
  {
   "cell_type": "code",
   "execution_count": null,
   "metadata": {
    "collapsed": false
   },
   "outputs": [],
   "source": [
    "np.random.seed(13264)\n",
    "np.random.rand(4)"
   ]
  }
 ],
 "metadata": {
  "git": {
   "suppress_outputs": true
  },
  "kernelspec": {
   "display_name": "Python 2",
   "language": "python",
   "name": "python2"
  },
  "language_info": {
   "codemirror_mode": {
    "name": "ipython",
    "version": 2
   },
   "file_extension": ".py",
   "mimetype": "text/x-python",
   "name": "python",
   "nbconvert_exporter": "python",
   "pygments_lexer": "ipython2",
   "version": "2.7.12"
  }
 },
 "nbformat": 4,
 "nbformat_minor": 0
}