{
 "cells": [
  {
   "cell_type": "markdown",
   "metadata": {},
   "source": [
    "```\n",
    "This notebook sets up and runs a set of benchmarks to compare\n",
    "different numerical discretizations of the SWEs\n",
    "\n",
    "Copyright (C) 2018  SINTEF ICT\n",
    "\n",
    "This program is free software: you can redistribute it and/or modify\n",
    "it under the terms of the GNU General Public License as published by\n",
    "the Free Software Foundation, either version 3 of the License, or\n",
    "(at your option) any later version.\n",
    "\n",
    "This program is distributed in the hope that it will be useful,\n",
    "but WITHOUT ANY WARRANTY; without even the implied warranty of\n",
    "MERCHANTABILITY or FITNESS FOR A PARTICULAR PURPOSE.  See the\n",
    "GNU General Public License for more details.\n",
    "\n",
    "You should have received a copy of the GNU General Public License\n",
    "along with this program.  If not, see <http://www.gnu.org/licenses/>.\n",
    "```"
   ]
  },
  {
   "cell_type": "code",
   "execution_count": null,
   "metadata": {
    "collapsed": true
   },
   "outputs": [],
   "source": [
    "#Lets have matplotlib \"inline\"\n",
    "%matplotlib inline\n",
    "%config InlineBackend.figure_format = 'retina'\n",
    "\n",
    "#Import packages we need\n",
    "import numpy as np\n",
    "from matplotlib import animation, rc\n",
    "from matplotlib import pyplot as plt\n",
    "\n",
    "import os\n",
    "import pycuda\n",
    "import pycuda.driver as cuda\n",
    "import logging\n",
    "from pycuda.compiler import SourceModule\n",
    "import datetime\n",
    "import sys\n",
    "\n",
    "sys.path.insert(0, os.path.abspath(os.path.join(os.getcwd(), '../')))\n",
    "\n",
    "#Set large figure sizes\n",
    "rc('figure', figsize=(8.0, 6.0))\n",
    "rc('animation', html='html5')\n",
    "\n",
    "#Import our simulator\n",
    "from SWESimulators import PlotHelper, Common, WindStress, IPythonMagic\n",
    "#Import initial condition and bathymetry generating functions:\n",
    "from SWESimulators.BathymetryAndICs import *"
   ]
  },
  {
   "cell_type": "code",
   "execution_count": null,
   "metadata": {
    "collapsed": false
   },
   "outputs": [],
   "source": [
    "%setup_logging interpolation.log\n",
    "%cuda_context_handler gpu_ctx"
   ]
  },
  {
   "cell_type": "code",
   "execution_count": null,
   "metadata": {
    "collapsed": false
   },
   "outputs": [],
   "source": [
    "# Create data\n",
    "tex_nx, tex_ny = 3, 2\n",
    "nx, ny = 50, 50\n",
    "width, height = 50, 50\n",
    "dx, dy = np.float32(width/nx), np.float32(height/ny)\n",
    "sx = np.linspace(1.0, 2.0, tex_nx, dtype=np.float32)\n",
    "sy = np.linspace(2.0, 3.0, tex_ny, dtype=np.float32)\n",
    "X = np.outer(sy, sx)\n",
    "Y = 10 - X*X\n",
    "\n",
    "plt.figure()\n",
    "plt.imshow(X, interpolation='none', origin='lower')\n",
    "plt.colorbar()\n",
    "\n",
    "plt.figure()\n",
    "plt.imshow(Y,interpolation='none', origin='lower')\n",
    "plt.colorbar()"
   ]
  },
  {
   "cell_type": "code",
   "execution_count": null,
   "metadata": {
    "collapsed": false,
    "scrolled": true
   },
   "outputs": [],
   "source": [
    "with Common.Timer(\"Compilation\") as t:\n",
    "    #Compile and get function\n",
    "    interpolation_module = gpu_ctx.get_kernel(\"Interpolation.cu\")\n",
    "    \n",
    "    #Create stream, block, and grid\n",
    "    stream = cuda.Stream()\n",
    "    block=(16, 16, 1)\n",
    "    grid=(int(np.ceil(nx / float(block[0]))), int(np.ceil(ny / float(block[1]))))\n",
    "    \n",
    "    \n",
    "    def setTexture(texref, numpy_array):            \n",
    "        #Upload data to GPU and bind to texture reference\n",
    "        texref.set_array(cuda.np_to_array(numpy_array, order=\"C\"))\n",
    "\n",
    "        # Set texture parameters\n",
    "        texref.set_filter_mode(cuda.filter_mode.LINEAR) #bilinear interpolation\n",
    "        texref.set_address_mode(0, cuda.address_mode.CLAMP) #no indexing outside domain\n",
    "        texref.set_address_mode(1, cuda.address_mode.CLAMP)\n",
    "        texref.set_flags(cuda.TRSF_NORMALIZED_COORDINATES) #Use [0, 1] indexing\n",
    "    \n",
    "    #Get texture reference from module\n",
    "    texref_curr = interpolation_module.get_texref(\"my_texture_current\")\n",
    "    setTexture(texref_curr, X)\n",
    "    \n",
    "    texref_next = interpolation_module.get_texref(\"my_texture_next\")\n",
    "    setTexture(texref_next, Y)\n",
    "    \n",
    "    interpolation_kernel = interpolation_module.get_function(\"interpolationTest\")\n",
    "    interpolation_kernel.prepare(\"iifffPi\", texrefs=[texref_curr, texref_next])\n",
    "    \n",
    "    # Allocate output data\n",
    "    output_gpu = Common.CUDAArray2D(stream, nx, ny, 0, 0, np.zeros((ny, nx), dtype=np.float32))\n",
    "    \n",
    "print(\"Compilation etc took \" + str(t.secs))"
   ]
  },
  {
   "cell_type": "code",
   "execution_count": null,
   "metadata": {
    "collapsed": false,
    "scrolled": false
   },
   "outputs": [],
   "source": [
    "for t in np.linspace(0.0, 1.0, 4):\n",
    "    interpolation_kernel.prepared_async_call(grid, block, stream, \n",
    "                                             nx, ny,\n",
    "                                             dx, dy,\n",
    "                                             t,\n",
    "                                             output_gpu.data.gpudata, output_gpu.pitch)\n",
    "    output = output_gpu.download(stream)\n",
    "    stream.synchronize()\n",
    "    \n",
    "    plt.figure()\n",
    "    plt.imshow(output, interpolation='none', origin='lower')\n",
    "    plt.colorbar()\n",
    "    plt.title(str(t))\n"
   ]
  },
  {
   "cell_type": "code",
   "execution_count": null,
   "metadata": {
    "collapsed": true
   },
   "outputs": [],
   "source": [
    "nx = 100\n",
    "ny = 200\n",
    "\n",
    "dx = 200.0\n",
    "dy = 200.0\n",
    "\n",
    "dt = 1.0\n",
    "g = 9.81\n",
    "f = 0.012\n",
    "r = 0.0\n",
    "\n",
    "T = 5\n",
    "\n",
    "#wind = WindStress.UniformAlongShoreWindStress(tau0=3.0, rho=1025, alpha=1.0/(100*dx)) \n",
    "ones = np.ones((4,8), dtype=np.float32)*0.25\n",
    "t = [2, 3, 4, 10]\n",
    "X = [ones, ones, -2*ones, -2*ones]\n",
    "Y = [2*ones, -ones, -ones, 2*ones]\n",
    "wind = WindStress.WindStress(t, X, Y)"
   ]
  },
  {
   "cell_type": "code",
   "execution_count": null,
   "metadata": {
    "collapsed": false,
    "scrolled": false
   },
   "outputs": [],
   "source": [
    "ghosts = [1,1,1,1] # north, east, south, west\n",
    "\n",
    "dataShape = (ny + ghosts[0]+ghosts[2], \n",
    "             nx + ghosts[1]+ghosts[3])\n",
    "\n",
    "h0 = np.ones(dataShape, dtype=np.float32, order='C') * 60;\n",
    "addTopographyBump(h0, nx, ny, dx, dy, ghosts, 40)\n",
    "\n",
    "eta0 = np.zeros(dataShape, dtype=np.float32, order='C');\n",
    "u0 = np.zeros((dataShape[0], dataShape[1]+1), dtype=np.float32, order='C');\n",
    "v0 = np.zeros((dataShape[0]+1, dataShape[1]), dtype=np.float32, order='C'); \n",
    "\n",
    "#Initialize simulator\n",
    "from SWESimulators.CTCS import CTCS\n",
    "sim = CTCS(gpu_ctx, \\\n",
    "              h0, eta0, u0, v0, \\\n",
    "              nx, ny, \\\n",
    "              dx, dy, dt, \\\n",
    "              g, f, r, \\\n",
    "              wind_stress=wind)\n",
    "   \n",
    "for i in range(T):\n",
    "    t = sim.step(50*dt)\n",
    "    eta1, u1, v1 = sim.download(interior_domain_only=True)\n",
    "\n",
    "    plt.figure()\n",
    "    plt.title(\"FBL Time = \" + \"{:04.0f}\".format(t) + \" s\", fontsize=18)\n",
    "    plt.subplot(1,3,1)\n",
    "    plt.imshow(eta1)\n",
    "    plt.subplot(1,3,2)\n",
    "    plt.imshow(u1)\n",
    "    plt.subplot(1,3,3)\n",
    "    plt.imshow(v1)"
   ]
  },
  {
   "cell_type": "code",
   "execution_count": null,
   "metadata": {
    "collapsed": false
   },
   "outputs": [],
   "source": [
    "ghosts = [0,0,0,0] # north, east, south, west\n",
    "\n",
    "dataShape = (ny + ghosts[0]+ghosts[2], \n",
    "             nx + ghosts[1]+ghosts[3])\n",
    "\n",
    "h0 = np.ones(dataShape, dtype=np.float32, order='C') * 60;\n",
    "addTopographyBump(h0, nx, ny, dx, dy, ghosts, 40)\n",
    "\n",
    "eta0 = np.zeros(dataShape, dtype=np.float32, order='C');\n",
    "u0 = np.zeros((dataShape[0], dataShape[1]+1), dtype=np.float32, order='C');\n",
    "v0 = np.zeros((dataShape[0]+1, dataShape[1]), dtype=np.float32, order='C'); \n",
    "\n",
    "#Initialize simulator\n",
    "from SWESimulators.FBL import FBL\n",
    "sim = FBL(gpu_ctx, \\\n",
    "              h0, eta0, u0, v0, \\\n",
    "              nx, ny, \\\n",
    "              dx, dy, dt, \\\n",
    "              g, f, r, \\\n",
    "              wind_stress=wind)\n",
    "   \n",
    "for i in range(T):\n",
    "    t = sim.step(50*dt)\n",
    "    eta1, u1, v1 = sim.download(interior_domain_only=True)\n",
    "\n",
    "    plt.figure()\n",
    "    plt.title(\"FBL Time = \" + \"{:04.0f}\".format(t) + \" s\", fontsize=18)\n",
    "    plt.subplot(1,3,1)\n",
    "    plt.imshow(eta1)\n",
    "    plt.subplot(1,3,2)\n",
    "    plt.imshow(u1)\n",
    "    plt.subplot(1,3,3)\n",
    "    plt.imshow(v1)"
   ]
  },
  {
   "cell_type": "code",
   "execution_count": null,
   "metadata": {
    "collapsed": false,
    "scrolled": false
   },
   "outputs": [],
   "source": [
    "ghosts = [2,2,2,2] # north, east, south, west\n",
    "\n",
    "dataShape = (ny + ghosts[0]+ghosts[2], \n",
    "             nx + ghosts[1]+ghosts[3])\n",
    "\n",
    "Hi = np.ones((dataShape[0]+1, dataShape[1]+1), dtype=np.float32, order='C') * 60;\n",
    "addTopographyBump(Hi, nx, ny, dx, dy, ghosts, 40)\n",
    "\n",
    "eta0 = np.zeros(dataShape, dtype=np.float32, order='C');\n",
    "u0 = np.zeros(dataShape, dtype=np.float32, order='C');\n",
    "v0 = np.zeros(dataShape, dtype=np.float32, order='C'); \n",
    "\n",
    "#Initialize simulator\n",
    "from SWESimulators.CDKLM16 import CDKLM16\n",
    "sim = CDKLM16(gpu_ctx, \\\n",
    "              eta0, u0, v0, Hi, \\\n",
    "              nx, ny, \\\n",
    "              dx, dy, dt, \\\n",
    "              g, f, r, \\\n",
    "              wind_stress=wind)\n",
    "   \n",
    "for i in range(T):\n",
    "    t = sim.step(50*dt)\n",
    "    eta1, u1, v1 = sim.download(interior_domain_only=True)\n",
    "\n",
    "    plt.figure()\n",
    "    plt.title(\"FBL Time = \" + \"{:04.0f}\".format(t) + \" s\", fontsize=18)\n",
    "    plt.subplot(1,3,1)\n",
    "    plt.imshow(eta1)\n",
    "    plt.subplot(1,3,2)\n",
    "    plt.imshow(u1)\n",
    "    plt.subplot(1,3,3)\n",
    "    plt.imshow(v1)"
   ]
  },
  {
   "cell_type": "code",
   "execution_count": null,
   "metadata": {
    "collapsed": false
   },
   "outputs": [],
   "source": [
    "ghosts = [2,2,2,2] # north, east, south, west\n",
    "\n",
    "dataShape = (ny + ghosts[0]+ghosts[2], \n",
    "             nx + ghosts[1]+ghosts[3])\n",
    "\n",
    "Hi = np.ones((dataShape[0]+1, dataShape[1]+1), dtype=np.float32, order='C') * 60;\n",
    "addTopographyBump(Hi, nx, ny, dx, dy, ghosts, 40)\n",
    "\n",
    "eta0 = np.zeros(dataShape, dtype=np.float32, order='C');\n",
    "u0 = np.zeros(dataShape, dtype=np.float32, order='C');\n",
    "v0 = np.zeros(dataShape, dtype=np.float32, order='C'); \n",
    "\n",
    "#Initialize simulator\n",
    "from SWESimulators.KP07 import KP07\n",
    "sim = KP07(gpu_ctx, \\\n",
    "              eta0, Hi, u0, v0, \\\n",
    "              nx, ny, \\\n",
    "              dx, dy, dt, \\\n",
    "              g, f, r, \\\n",
    "              wind_stress=wind)\n",
    "   \n",
    "for i in range(T):\n",
    "    t = sim.step(50*dt)\n",
    "    eta1, u1, v1 = sim.download(interior_domain_only=True)\n",
    "\n",
    "    plt.figure()\n",
    "    plt.title(\"FBL Time = \" + \"{:04.0f}\".format(t) + \" s\", fontsize=18)\n",
    "    plt.subplot(1,3,1)\n",
    "    plt.imshow(eta1)\n",
    "    plt.subplot(1,3,2)\n",
    "    plt.imshow(u1)\n",
    "    plt.subplot(1,3,3)\n",
    "    plt.imshow(v1)"
   ]
  },
  {
   "cell_type": "code",
   "execution_count": null,
   "metadata": {
    "collapsed": true
   },
   "outputs": [],
   "source": []
  }
 ],
 "metadata": {
  "git": {
   "suppress_outputs": true
  },
  "kernelspec": {
   "display_name": "Python 3",
   "language": "python",
   "name": "python3"
  },
  "language_info": {
   "codemirror_mode": {
    "name": "ipython",
    "version": 3
   },
   "file_extension": ".py",
   "mimetype": "text/x-python",
   "name": "python",
   "nbconvert_exporter": "python",
   "pygments_lexer": "ipython3",
   "version": "3.5.2"
  }
 },
 "nbformat": 4,
 "nbformat_minor": 2
}