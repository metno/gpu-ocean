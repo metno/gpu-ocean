{
 "cells": [
  {
   "cell_type": "markdown",
   "metadata": {},
   "source": [
    "```\n",
    "This notebook sets up and runs a set of benchmarks to compare\n",
    "different numerical discretizations of the SWEs\n",
    "\n",
    "Copyright (C) 2016  SINTEF ICT\n",
    "\n",
    "This program is free software: you can redistribute it and/or modify\n",
    "it under the terms of the GNU General Public License as published by\n",
    "the Free Software Foundation, either version 3 of the License, or\n",
    "(at your option) any later version.\n",
    "\n",
    "This program is distributed in the hope that it will be useful,\n",
    "but WITHOUT ANY WARRANTY; without even the implied warranty of\n",
    "MERCHANTABILITY or FITNESS FOR A PARTICULAR PURPOSE.  See the\n",
    "GNU General Public License for more details.\n",
    "\n",
    "You should have received a copy of the GNU General Public License\n",
    "along with this program.  If not, see <http://www.gnu.org/licenses/>.\n",
    "```"
   ]
  },
  {
   "cell_type": "markdown",
   "metadata": {},
   "source": [
    "## Linear Coriolis term\n",
    "\n",
    "The coriolis parameter is modeled as a linear function\n",
    "$$f = \\tilde{f}\u00a0+ \\beta y$$\n",
    "where $y=0$ currently represent the lower boundary of the first non-ghost-cell of the domain."
   ]
  },
  {
   "cell_type": "markdown",
   "metadata": {},
   "source": [
    "#### Import modules and set up environment"
   ]
  },
  {
   "cell_type": "code",
   "execution_count": null,
   "metadata": {
    "collapsed": false
   },
   "outputs": [],
   "source": [
    "#Lets have matplotlib \"inline\"\n",
    "%matplotlib inline\n",
    "%config InlineBackend.figure_format = 'retina'\n",
    "\n",
    "#Import packages we need\n",
    "import numpy as np\n",
    "from matplotlib import animation, rc\n",
    "from matplotlib import pyplot as plt\n",
    "\n",
    "import os\n",
    "import pyopencl\n",
    "import datetime\n",
    "import sys\n",
    "\n",
    "#Set large figure sizes\n",
    "rc('figure', figsize=(16.0, 12.0))\n",
    "rc('animation', html='html5')\n",
    "\n",
    "#Import our simulator\n",
    "from SWESimulators import FBL, CTCS,KP07, CDKLM16, PlotHelper, Common\n",
    "#Import initial condition and bathymetry generating functions:\n",
    "from SWESimulators.BathymetryAndICs import *"
   ]
  },
  {
   "cell_type": "code",
   "execution_count": null,
   "metadata": {
    "collapsed": false
   },
   "outputs": [],
   "source": [
    "#Make sure we get compiler output from OpenCL\n",
    "os.environ[\"PYOPENCL_COMPILER_OUTPUT\"] = \"1\"\n",
    "\n",
    "#Set which CL device to use, and disable kernel caching\n",
    "if (str.lower(sys.platform).startswith(\"linux\")):\n",
    "    os.environ[\"PYOPENCL_CTX\"] = \"0\"\n",
    "else:\n",
    "    os.environ[\"PYOPENCL_CTX\"] = \"1\"\n",
    "os.environ[\"CUDA_CACHE_DISABLE\"] = \"1\"\n",
    "os.environ[\"PYOPENCL_COMPILER_OUTPUT\"] = \"1\"\n",
    "os.environ[\"PYOPENCL_NO_CACHE\"] = \"1\"\n",
    "\n",
    "#Create OpenCL context\n",
    "cl_ctx = pyopencl.create_some_context()\n",
    "print \"Using \", cl_ctx.devices[0].name"
   ]
  },
  {
   "cell_type": "code",
   "execution_count": null,
   "metadata": {
    "collapsed": false
   },
   "outputs": [],
   "source": [
    "#Create output directory for images\n",
    "imgdir='images_linearCoriolis_' + datetime.datetime.now().strftime(\"%Y_%m_%d-%H_%M_%S\")\n",
    "os.makedirs(imgdir)\n",
    "print \"Saving images to \" + imgdir"
   ]
  },
  {
   "cell_type": "markdown",
   "metadata": {},
   "source": [
    "## Parameters\n",
    "\n",
    "Kai and G\u00f6ran: Go nuts and make changes here :)"
   ]
  },
  {
   "cell_type": "code",
   "execution_count": null,
   "metadata": {
    "collapsed": false
   },
   "outputs": [],
   "source": [
    "nx = 100\n",
    "ny = 200\n",
    "\n",
    "dx = 200.0\n",
    "dy = 200.0\n",
    "\n",
    "# The simulation have the following structure:\n",
    "# for 1:T\n",
    "#     simulate until t = t0 + sub_t \n",
    "#     add plot to animation\n",
    "\n",
    "#T = 200\n",
    "#sub_t = 300.0\n",
    "\n",
    "T = 100\n",
    "sub_t = 20.0\n",
    "\n",
    "dt = 0.5\n",
    "\n",
    "\n",
    "g = 9.81\n",
    "r = 0.0\n",
    "\n",
    "# Eddy viscocity parameter\n",
    "A = 1\n",
    "\n",
    "# Coriolis parameters: f + beta * y\n",
    "f = 0.02\n",
    "beta = 0.0002/dy\n",
    "\n",
    "wind = Common.WindStressParams(type=99) # type = 99 corresponds to no wind.\n",
    "\n",
    "# Boundary condions\n",
    "# 1: reflective wall, \n",
    "# 2: periodic, \n",
    "# 3: open (flow relaxation scheme), \n",
    "bcSettings = 3\n",
    "\n",
    "\n",
    "waterHeight = 60\n",
    "\n",
    "#Calculate radius from center for plotting\n",
    "x_center = dx*nx*0.5\n",
    "y_center = dy*ny*0.5\n",
    "y_coords, x_coords = np.mgrid[0:ny*dy:dy, 0:nx*dx:dx]\n",
    "x_coords = np.subtract(x_coords, x_center)\n",
    "y_coords = np.subtract(y_coords, y_center)\n",
    "radius = np.sqrt(np.multiply(x_coords, x_coords) + np.multiply(y_coords, y_coords))\n",
    "\n",
    "reload(Common)"
   ]
  },
  {
   "cell_type": "markdown",
   "metadata": {},
   "source": [
    "### Creating velocity field from arbitrary initial $\\eta$\n",
    "\n",
    "Makes approximations based on central differences for\n",
    "$$ hv = \\frac{gh}{f} \\frac{\\partial \\eta}{\\partial x} $$\n",
    "and\n",
    "$$ hu = \\frac{gh}{f} \\frac{\\partial \\eta}{\\partial y} $$\n"
   ]
  },
  {
   "cell_type": "code",
   "execution_count": null,
   "metadata": {
    "collapsed": true
   },
   "outputs": [],
   "source": [
    "def initializeBalancedVelocityFieldStaggered(eta, H, hu, hv, f, beta, g, nx, ny, dx, dy, ghosts):\n",
    "    for j in range(1, ny+ghosts[0]+ghosts[2]-1):\n",
    "        coriolis = f + beta*j*dy\n",
    "        for i in range(1, nx+ghosts[1]+ghosts[3]-1):\n",
    "            eta_pluss = (eta[j+1, i] + eta[j+1, i-1])/2.0\n",
    "            eta_minus = (eta[j-1, i] + eta[j-1, i-1])/2.0\n",
    "            h_mid = (eta[j,i] + H[j,i] + eta[j, i-1] + H[j,i-1])/2.0\n",
    "            hu[j,i] = -(g/coriolis)*h_mid*(eta_pluss - eta_minus)/(2.0*dy)\n",
    "    for j in range(1, ny+ghosts[0]+ghosts[2]-1):\n",
    "        coriolis = f + beta*j*dy\n",
    "        for i in range(1, nx+ghosts[1]+ghosts[3]-1):\n",
    "            eta_pluss = (eta[j, i+1] + eta[j-1, i+1])/2.0\n",
    "            eta_minus = (eta[j, i-1] + eta[j-1, i-1])/2.0\n",
    "            h_mid = (eta[j,i] + H[j,i] + eta[j-1,i] + H[j-1,i])/2.0\n",
    "            hv[j,i] =  (g/coriolis)*h_mid*(eta_pluss - eta_minus)/(2.0*dx)"
   ]
  },
  {
   "cell_type": "markdown",
   "metadata": {},
   "source": [
    "## Centered in time, centered in space"
   ]
  },
  {
   "cell_type": "code",
   "execution_count": null,
   "metadata": {
    "collapsed": false,
    "scrolled": false
   },
   "outputs": [],
   "source": [
    "#Centered in time, centered in space\n",
    "\n",
    "#Clean up old simulator if any:\n",
    "if 'ctcs_sim' in globals():\n",
    "    ctcs_sim.cleanUp()\n",
    "\n",
    "ghosts = [1,1,1,1] # north, east, south, west\n",
    "if (bcSettings == 1):\n",
    "    boundaryConditions = Common.BoundaryConditions()\n",
    "    # Wall boundary conditions\n",
    "elif (bcSettings == 2):\n",
    "    # periodic boundary conditions\n",
    "    boundaryConditions = Common.BoundaryConditions(2,2,2,2)\n",
    "elif bcSettings == 3:\n",
    "    validDomain = [10, 10, 10, 10]\n",
    "    boundaryConditions = Common.BoundaryConditions(3,3,3,3, spongeCells=validDomain)\n",
    "    ghosts = [10, 10, 10, 10]\n",
    "    \n",
    "dataShape = (ny + ghosts[0]+ghosts[2], \n",
    "             nx + ghosts[1]+ghosts[3])\n",
    "\n",
    "h0 = np.ones(dataShape, dtype=np.float32, order='C') * waterHeight;\n",
    "eta0 = np.zeros(dataShape, dtype=np.float32, order='C');\n",
    "u0 = np.zeros((dataShape[0], dataShape[1]+1), dtype=np.float32, order='C');\n",
    "v0 = np.zeros((dataShape[0]+1, dataShape[1]), dtype=np.float32, order='C');    \n",
    "\n",
    "# Add initial conditions (implemented in SWESimulators/BathymetryAndICs.py)\n",
    "#addCentralBump(eta0, nx, ny, dx, dy, ghosts)\n",
    "addWideDebugBump(eta0, nx, ny, dx, dy, 0.5, 0.5, 20, ghosts)\n",
    "initializeBalancedVelocityFieldStaggered(eta0, h0, u0, v0, f, beta, g, nx, ny, dx, dy, ghosts)\n",
    "\n",
    "\n",
    "#Initialize simulator\n",
    "reload(CTCS)\n",
    "ctcs_sim = CTCS.CTCS(cl_ctx, \\\n",
    "                     h0, eta0, u0, v0, \\\n",
    "                     nx, ny, dx, dy, dt, \\\n",
    "                     g, f, r, A, \\\n",
    "                     coriolis_beta=beta, \\\n",
    "                     wind_stress=wind, \\\n",
    "                     write_netcdf=False, \\\n",
    "                     boundary_conditions=boundaryConditions )\n",
    "\n",
    "\n",
    "fig = plt.figure()\n",
    "plotter = PlotHelper.PlotHelper(fig, x_coords, y_coords, radius, \n",
    "                                eta0[validDomain[2]:-validDomain[0], validDomain[3]:-validDomain[1]] , \n",
    "                                u0[validDomain[2]:-validDomain[0], validDomain[3]+1:-validDomain[1]], \n",
    "                                v0[validDomain[2]+1:-validDomain[0], validDomain[3]:-validDomain[1]])\n",
    "\n",
    "def animate(i):\n",
    "    if (i>0):\n",
    "        t = ctcs_sim.step(sub_t)\n",
    "    else:\n",
    "        t = 0.0\n",
    "    eta1, u1, v1 = ctcs_sim.download()\n",
    "    \n",
    "    # To increase the amplitude of the plot, increase this brighten parameter\n",
    "    brighten = 1.0\n",
    "    \n",
    "    plotter.plot(brighten*(eta1[validDomain[2]:-validDomain[0], validDomain[3]:-validDomain[1]]), \n",
    "                 brighten*u1[validDomain[2]:-validDomain[0], validDomain[3]+1:-validDomain[1]], \n",
    "                 brighten*v1[validDomain[2]+1:-validDomain[0], validDomain[3]:-validDomain[1]])\n",
    "    fig.suptitle(\"CTCS Time = \" + \"{:04.0f}\".format(t) + \" s\", fontsize=18)\n",
    "\n",
    "    if (i%20 == 0):\n",
    "        print \"{:03.0f}\".format(100.0*i / T) + \" % => t=\" + str(t) +  \"\\tMax h: \" + str(np.max(eta1 + 60)) + \\\n",
    "        \"\\tMax u: \" + str(np.max(u1)) + \"\\tMax v: \" + str(np.max(v1))\n",
    "        fig.savefig(imgdir + \"/{:010.0f}_ctcs.png\".format(t))\n",
    "\n",
    "anim = animation.FuncAnimation(fig, animate, range(T), interval=100)\n",
    "plt.close(anim._fig)\n",
    "anim"
   ]
  },
  {
   "cell_type": "code",
   "execution_count": null,
   "metadata": {
    "collapsed": false
   },
   "outputs": [],
   "source": [
    "\n"
   ]
  },
  {
   "cell_type": "code",
   "execution_count": null,
   "metadata": {
    "collapsed": false
   },
   "outputs": [],
   "source": []
  },
  {
   "cell_type": "code",
   "execution_count": null,
   "metadata": {
    "collapsed": true
   },
   "outputs": [],
   "source": []
  }
 ],
 "metadata": {
  "git": {
   "suppress_outputs": true
  },
  "kernelspec": {
   "display_name": "Python 2",
   "language": "python",
   "name": "python2"
  },
  "language_info": {
   "codemirror_mode": {
    "name": "ipython",
    "version": 2
   },
   "file_extension": ".py",
   "mimetype": "text/x-python",
   "name": "python",
   "nbconvert_exporter": "python",
   "pygments_lexer": "ipython2",
   "version": "2.7.12"
  }
 },
 "nbformat": 4,
 "nbformat_minor": 0
}