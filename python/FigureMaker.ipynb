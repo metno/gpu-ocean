{
 "cells": [
  {
   "cell_type": "markdown",
   "metadata": {},
   "source": [
    "```\n",
    "This notebook sets up and runs a set of benchmarks to compare\n",
    "different numerical discretizations of the SWEs\n",
    "\n",
    "Copyright (C) 2016  SINTEF ICT\n",
    "\n",
    "This program is free software: you can redistribute it and/or modify\n",
    "it under the terms of the GNU General Public License as published by\n",
    "the Free Software Foundation, either version 3 of the License, or\n",
    "(at your option) any later version.\n",
    "\n",
    "This program is distributed in the hope that it will be useful,\n",
    "but WITHOUT ANY WARRANTY; without even the implied warranty of\n",
    "MERCHANTABILITY or FITNESS FOR A PARTICULAR PURPOSE.  See the\n",
    "GNU General Public License for more details.\n",
    "\n",
    "You should have received a copy of the GNU General Public License\n",
    "along with this program.  If not, see <http://www.gnu.org/licenses/>.\n",
    "```"
   ]
  },
  {
   "cell_type": "markdown",
   "metadata": {},
   "source": [
    "## Figure maker for comparing schemes\n",
    "\n",
    "This notebook is for creating informative figures for comparing different oceanographic properties between numerical schemes.\n",
    "All data is expected to be read in from NetCDF files.\n",
    "\n"
   ]
  },
  {
   "cell_type": "markdown",
   "metadata": {},
   "source": [
    "#### Import modules and set up environment"
   ]
  },
  {
   "cell_type": "code",
   "execution_count": null,
   "metadata": {
    "collapsed": true
   },
   "outputs": [],
   "source": [
    "#Lets have matplotlib \"inline\"\n",
    "%matplotlib inline\n",
    "%config InlineBackend.figure_format = 'retina'\n",
    "\n",
    "#Import packages we need\n",
    "import numpy as np\n",
    "from matplotlib import animation, rc\n",
    "from matplotlib import pyplot as plt\n",
    "\n",
    "import os\n",
    "import pyopencl\n",
    "import datetime\n",
    "import sys\n",
    "\n",
    "#Set large figure sizes\n",
    "rc('figure', figsize=(5.0, 4.0))\n",
    "rc('animation', html='html5')\n",
    "\n",
    "#Import our Simulation Reader\n",
    "from SWESimulators import SimReader\n"
   ]
  },
  {
   "cell_type": "markdown",
   "metadata": {
    "collapsed": false
   },
   "source": [
    "## Linear Coriolis\n",
    "\n",
    "In this case, slow developing effects caused by non-constant Coriolis forces are considered.\n",
    "Let the Coriolis parameter be defined as \n",
    "$$f(y) = \\tilde{f} + \\beta y,$$\n",
    "on a region with flat bottom topography.\n",
    "Consider then an initial state similar to in the case of Rossby adjustment (ref to equation), and let the boundary be open, so that initial energy is allowed to leave the domain.\n",
    "Instead of the steady state obtained in Section XX, the varying Coriolis will produce slowgoing NAME OF WAVES waves travelling westwards.\n",
    "\n",
    "Capturing slow-developing effects by numerical methods are sometimes challenging, as derivatives have a tendency to be smoothed by certain schemes. \n",
    "This case will therefore test how well the selected numerical schemes can handle such waves.\n"
   ]
  },
  {
   "cell_type": "code",
   "execution_count": null,
   "metadata": {
    "collapsed": true
   },
   "outputs": [],
   "source": [
    "# Define file names\n",
    "folder = \"netcdf_2017_12_11/\"\n",
    "fbl_file_name =   folder+\"FBL_2017_12_11-12_58_34.nc\"\n",
    "ctcs_file_name =  folder+\"CTCS_2017_12_11-13_00_14.nc\"\n",
    "kp07_file_name =  folder+\"KP07_2017_12_11-13_01_27.nc\"\n",
    "cdklm_file_name = folder+\"CDKLM16_2017_12_11-13_01_12.nc\""
   ]
  },
  {
   "cell_type": "code",
   "execution_count": null,
   "metadata": {
    "collapsed": true
   },
   "outputs": [],
   "source": []
  },
  {
   "cell_type": "code",
   "execution_count": null,
   "metadata": {
    "collapsed": false,
    "scrolled": false
   },
   "outputs": [],
   "source": [
    "reload(SimReader)\n",
    "fbl_sim = SimReader.SimNetCDFReader(fbl_file_name)\n",
    "ctcs_sim = SimReader.SimNetCDFReader(ctcs_file_name)\n",
    "kp07_sim = SimReader.SimNetCDFReader(kp07_file_name)\n",
    "cdklm_sim = SimReader.SimNetCDFReader(cdklm_file_name)\n",
    "print \"--------\"\n",
    "fbl_sim.printVariables()\n",
    "print \"--------\"\n",
    "fbl_sim.printAttributes()\n",
    "print fbl_sim.getNumTimeSteps()\n",
    "eta, hu, hv, t = fbl_sim.getLastTimeStep()\n",
    "print t\n",
    "plt.imshow(eta)\n",
    "plt.colorbar()\n",
    "\n",
    "print eta.shape\n",
    "print hu.shape\n",
    "print hv.shape"
   ]
  },
  {
   "cell_type": "code",
   "execution_count": null,
   "metadata": {
    "collapsed": false
   },
   "outputs": [],
   "source": []
  }
 ],
 "metadata": {
  "git": {
   "suppress_outputs": true
  },
  "kernelspec": {
   "display_name": "Python 2",
   "language": "python",
   "name": "python2"
  },
  "language_info": {
   "codemirror_mode": {
    "name": "ipython",
    "version": 2
   },
   "file_extension": ".py",
   "mimetype": "text/x-python",
   "name": "python",
   "nbconvert_exporter": "python",
   "pygments_lexer": "ipython2",
   "version": "2.7.12"
  }
 },
 "nbformat": 4,
 "nbformat_minor": 0
}