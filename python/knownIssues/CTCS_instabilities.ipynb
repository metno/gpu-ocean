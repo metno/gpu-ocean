{
 "cells": [
  {
   "cell_type": "markdown",
   "metadata": {},
   "source": [
    "```\n",
    "This notebook sets up and runs a set of benchmarks to compare\n",
    "different numerical discretizations of the SWEs\n",
    "\n",
    "Copyright (C) 2016  SINTEF ICT\n",
    "\n",
    "This program is free software: you can redistribute it and/or modify\n",
    "it under the terms of the GNU General Public License as published by\n",
    "the Free Software Foundation, either version 3 of the License, or\n",
    "(at your option) any later version.\n",
    "\n",
    "This program is distributed in the hope that it will be useful,\n",
    "but WITHOUT ANY WARRANTY; without even the implied warranty of\n",
    "MERCHANTABILITY or FITNESS FOR A PARTICULAR PURPOSE.  See the\n",
    "GNU General Public License for more details.\n",
    "\n",
    "You should have received a copy of the GNU General Public License\n",
    "along with this program.  If not, see <http://www.gnu.org/licenses/>.\n",
    "```"
   ]
  },
  {
   "cell_type": "markdown",
   "metadata": {},
   "source": [
    "## Instabilities in the CTCS scheme\n",
    "\n",
    "The CTCS scheme is very stability sensitive. As this notebook shows, this is not directly related to $\\Delta t$, but to the \"left over time step\", which is the last timestep in the `sim.step(t)` function. The last step is smaller than $\\Delta t$, and makes sure that the solution reaches exactly time `t`.\n",
    "\n",
    "It seems also that the eddy viscosity parameter, $A$, should be treated with more care. After inspecting the numerical scheme, it seems that $A$\u00a0should depend on both $\\Delta x$ and $\\Delta t$.\n",
    "\n",
    "Based on equation (118) of Roed's MET-report 3/2012, the dimension of $A$ should be $m^2/s$."
   ]
  },
  {
   "cell_type": "code",
   "execution_count": null,
   "metadata": {
    "collapsed": false,
    "scrolled": false
   },
   "outputs": [],
   "source": [
    "#Lets have matplotlib \"inline\"\n",
    "%matplotlib inline\n",
    "%config InlineBackend.figure_format = 'retina'\n",
    "\n",
    "#Import packages we need\n",
    "import numpy as np\n",
    "from matplotlib import animation, rc\n",
    "from matplotlib import pyplot as plt\n",
    "from matplotlib import gridspec as gridspec\n",
    "\n",
    "import os\n",
    "import pyopencl\n",
    "import datetime\n",
    "import sys\n",
    "\n",
    "# requires netcdf4-python (netcdf4-python.googlecode.com)\n",
    "from netCDF4 import Dataset as NetCDFFile\n",
    "\n",
    "#Set large figure sizes\n",
    "rc('figure', figsize=(16.0, 12.0))\n",
    "rc('animation', html='html5')\n",
    "\n",
    "#Finally, import our simulator\n",
    "from SWESimulators import FBL, CTCS, KP07, CDKLM16, RecursiveCDKLM16, DataOutput, SimWriter, PlotHelper, Common\n",
    "from SWESimulators.BathymetryAndICs import *"
   ]
  },
  {
   "cell_type": "code",
   "execution_count": null,
   "metadata": {
    "collapsed": false
   },
   "outputs": [],
   "source": [
    "#Make sure we get compiler output from OpenCL\n",
    "os.environ[\"PYOPENCL_COMPILER_OUTPUT\"] = \"1\"\n",
    "\n",
    "#Set which CL device to use, and disable kernel caching\n",
    "if (str.lower(sys.platform).startswith(\"linux\")):\n",
    "    os.environ[\"PYOPENCL_CTX\"] = \"0\"\n",
    "else:\n",
    "    os.environ[\"PYOPENCL_CTX\"] = \"1\"\n",
    "os.environ[\"CUDA_CACHE_DISABLE\"] = \"1\"\n",
    "os.environ[\"PYOPENCL_COMPILER_OUTPUT\"] = \"1\"\n",
    "os.environ[\"PYOPENCL_NO_CACHE\"] = \"1\"\n",
    "\n",
    "#Create OpenCL context\n",
    "cl_ctx = pyopencl.create_some_context()\n",
    "print \"Using \", cl_ctx.devices[0].name"
   ]
  },
  {
   "cell_type": "code",
   "execution_count": null,
   "metadata": {
    "collapsed": false
   },
   "outputs": [],
   "source": [
    "#Create output directory for images\n",
    "imgdir='images_' + datetime.datetime.now().strftime(\"%Y_%m_%d-%H_%M_%S\")\n",
    "os.makedirs(imgdir)\n",
    "print \"Saving images to \" + imgdir"
   ]
  },
  {
   "cell_type": "markdown",
   "metadata": {},
   "source": [
    "### Simulation with open boundary and CTCS"
   ]
  },
  {
   "cell_type": "code",
   "execution_count": null,
   "metadata": {
    "collapsed": false,
    "scrolled": false
   },
   "outputs": [],
   "source": [
    "if 'sim' in globals():\n",
    "    sim.cleanUp()\n",
    "    \n",
    "#Coriolis well balanced reconstruction scheme\n",
    "nx = 30\n",
    "ny = 60\n",
    "\n",
    "dx = 200.0\n",
    "dy = 200.0\n",
    "\n",
    "dt = 0.95#/5.0\n",
    "g = 9.81\n",
    "\n",
    "A = 100.0   # <-- okay with sim.step(24.75*dt)\n",
    "# A = 1.0     # <-- fails with sim.step(24.75*dt) \n",
    "\n",
    "f = 0.00\n",
    "r = 0.0\n",
    "wind = Common.WindStressParams(type=99)\n",
    "\n",
    "# Numerical Sponge\n",
    "ghosts = [10, 10, 10, 10] # north, east, south, west\n",
    "boundaryConditions = Common.BoundaryConditions(3,3,3,3, spongeCells=ghosts)\n",
    "validDomain = [None, None, 0, 0]\n",
    "    \n",
    "dataShape = (ny + ghosts[0]+ghosts[2], \n",
    "             nx + ghosts[1]+ghosts[3])\n",
    "\n",
    "waterHeight = 60\n",
    "h0 = np.ones(dataShape, dtype=np.float32, order='C') * waterHeight;\n",
    "eta0 = np.zeros(dataShape, dtype=np.float32, order='C');\n",
    "u0 = np.zeros((dataShape[0], dataShape[1]+1), dtype=np.float32, order='C');\n",
    "v0 = np.zeros((dataShape[0]+1, dataShape[1]), dtype=np.float32, order='C');\n",
    "addLowerLeftBump(eta0, nx, ny, dx, dy, ghosts)\n",
    "\n",
    "\n",
    "#Initialize simulator\n",
    "reload(CTCS)\n",
    "reload(Common)\n",
    "sim = CTCS.CTCS(cl_ctx, \\\n",
    "                   h0, eta0, u0, v0, \\\n",
    "                   nx, ny, dx, dy, dt, \\\n",
    "                   g, f, r, A, \\\n",
    "                   wind_stress=wind, \\\n",
    "                   boundary_conditions=boundaryConditions,\n",
    "                   write_netcdf=True)\n",
    "\n",
    "#Calculate radius from center of bump for plotting\n",
    "x_center = dx*(nx+ghosts[0]+ghosts[2])/2.0\n",
    "y_center = dy*(ny+ghosts[1]+ghosts[3])/2.0\n",
    "y_coords, x_coords = np.mgrid[0:(ny+ghosts[0]+ghosts[2])*dy:dy, 0:(nx+ghosts[1]+ghosts[3])*dx:dx]\n",
    "x_coords = np.subtract(x_coords, x_center)\n",
    "y_coords = np.subtract(y_coords, y_center)\n",
    "radius = np.sqrt(np.multiply(x_coords, x_coords) + np.multiply(y_coords, y_coords))\n",
    "\n",
    "fig = plt.figure()\n",
    "plotter = PlotHelper.PlotHelper(fig, x_coords, y_coords, radius, \n",
    "                                eta0[validDomain[2]:validDomain[0], validDomain[3]:validDomain[1]] , \n",
    "                                u0[validDomain[2]:validDomain[0], validDomain[3]+1:validDomain[1]], \n",
    "                                v0[validDomain[2]+1:validDomain[0], validDomain[3]:validDomain[1]])\n",
    "\n",
    "T = 120\n",
    "\n",
    "def animate(i):\n",
    "    if (i>0):\n",
    "        #t = sim.step(5.99999*dt)\n",
    "        #t = sim.step(5*5.0*dt*0.99)\n",
    "        #n = 25\n",
    "        #t = sim.step(n*dt - dt*0.1)\n",
    "        \n",
    "        #t = sim.step(24.75*dt) # Not ok\n",
    "        t = sim.step(24.75*dt) # OK when A = 100.\n",
    "        #t = sim.step(24.975*dt) # OK\n",
    "        #t = sim.step(24.85*dt) # Barely okay\n",
    "        \n",
    "    else:\n",
    "        t = 0.0\n",
    "    eta1, u1, v1 = sim.download()   \n",
    "    brighten = 1 # Increase the values in the animation\n",
    "    \n",
    "    plotter.plot(brighten*(eta1[validDomain[2]:validDomain[0], validDomain[3]:validDomain[1]]), \n",
    "                 brighten*u1[validDomain[2]:validDomain[0], validDomain[3]+1:validDomain[1]], \n",
    "                 brighten*v1[validDomain[2]+1:validDomain[0], validDomain[3]:validDomain[1]]);\n",
    "    fig.suptitle(\"CTCS Time = \" + \"{:04.0f}\".format(t) + \" s\", fontsize=18)\n",
    "\n",
    "    if (i%10 == 0):\n",
    "        print \"{:03.0f}\".format(100*i / T) + \" % => t=\" + str(t) + \"\\t(Min, max) h: \" + str((np.min(eta1),np.max(eta1))) + \\\n",
    "        \"\\tMax (u, v): \" + str((np.max(u1), np.max(v1)))\n",
    "        fig.savefig(imgdir + \"/{:010.0f}_ctcs.png\".format(t))\n",
    "             \n",
    "anim = animation.FuncAnimation(fig, animate, range(T), interval=100)\n",
    "plt.close(anim._fig)\n",
    "anim"
   ]
  },
  {
   "cell_type": "code",
   "execution_count": null,
   "metadata": {
    "collapsed": false
   },
   "outputs": [],
   "source": [
    "sim.cleanUp()"
   ]
  },
  {
   "cell_type": "markdown",
   "metadata": {},
   "source": [
    "**Results:** \n",
    "\n",
    "Eddy viscosity parameter, $A$, is 1.0 unless otherwise stated.\n",
    "\n",
    "\n",
    "* `sim.step(24.75*dt)` becomes unstable (netcdf_2017_10_25/CTCS_2017_10_25-13_59_43.nc)\n",
    "* `sim.step(24.975*dt)` is stable (netcdf_2017_10_25/CTCS_2017_10_25-14_01_33.nc)\n",
    "* `sim.step(24.85*dt)` is barely okay, very close to being unstable (netcdf_2017_10_25/CTCS_2017_10_25-13_58_05.nc)\n",
    "* `sim.step(24.75*dt)` and `A = 100.0` is stable (netcdf_2017_10_25/CTCS_2017_10_25-14_03_16.nc)\n",
    "\n",
    "The parameter $A$ is always multiplied by $\\Delta t$ in the scheme, and should therefore depend on the grid size as well. When using $A = 100$, we have used $A = \\Delta x/2$."
   ]
  }
 ],
 "metadata": {
  "git": {
   "suppress_outputs": true
  },
  "kernelspec": {
   "display_name": "Python 2",
   "language": "python",
   "name": "python2"
  },
  "language_info": {
   "codemirror_mode": {
    "name": "ipython",
    "version": 2
   },
   "file_extension": ".py",
   "mimetype": "text/x-python",
   "name": "python",
   "nbconvert_exporter": "python",
   "pygments_lexer": "ipython2",
   "version": "2.7.12"
  }
 },
 "nbformat": 4,
 "nbformat_minor": 0
}