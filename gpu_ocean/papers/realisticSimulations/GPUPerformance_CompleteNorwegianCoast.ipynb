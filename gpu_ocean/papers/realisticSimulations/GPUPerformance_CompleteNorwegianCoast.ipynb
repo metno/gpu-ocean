{
 "cells": [
  {
   "cell_type": "markdown",
   "metadata": {},
   "source": [
    "```\n",
    "This software is a part of GPU Ocean.\n",
    "\n",
    "Copyright (C) 2020  SINTEF Digital\n",
    "\n",
    "This notebook sets up a simulation of the complete Norwegian coast and\n",
    "meassures the time spent in various parts of the code\n",
    "\n",
    "This program is free software: you can redistribute it and/or modify\n",
    "it under the terms of the GNU General Public License as published by\n",
    "the Free Software Foundation, either version 3 of the License, or\n",
    "(at your option) any later version.\n",
    "\n",
    "This program is distributed in the hope that it will be useful,\n",
    "but WITHOUT ANY WARRANTY; without even the implied warranty of\n",
    "MERCHANTABILITY or FITNESS FOR A PARTICULAR PURPOSE.  See the\n",
    "GNU General Public License for more details.\n",
    "\n",
    "You should have received a copy of the GNU General Public License\n",
    "along with this program.  If not, see <http://www.gnu.org/licenses/>.\n",
    "```"
   ]
  },
  {
   "cell_type": "markdown",
   "metadata": {},
   "source": [
    "# Assessing computational performance"
   ]
  },
  {
   "cell_type": "code",
   "execution_count": 1,
   "metadata": {},
   "outputs": [],
   "source": [
    "#Lets have matplotlib \"inline\"\n",
    "%matplotlib inline\n",
    "\n",
    "import os\n",
    "import sys\n",
    "\n",
    "#Import packages we need\n",
    "import numpy as np\n",
    "from netCDF4 import Dataset\n",
    "import datetime, time\n",
    "from IPython.display import display\n",
    "from IPython.display import clear_output\n",
    "\n",
    "#For plotting\n",
    "import matplotlib\n",
    "from matplotlib import pyplot as plt\n",
    "\n",
    "sys.path.insert(0, os.path.abspath(os.path.join(os.getcwd(), '../../')))\n",
    "\n",
    "from SWESimulators import CDKLM16, Common, IPythonMagic, NetCDFInitialization\n"
   ]
  },
  {
   "cell_type": "code",
   "execution_count": 2,
   "metadata": {},
   "outputs": [],
   "source": [
    "%cuda_context_handler gpu_ctx"
   ]
  },
  {
   "cell_type": "markdown",
   "metadata": {},
   "source": [
    "# Select source url and domain\n",
    "We assume that the NetCDF file is available locally, since otherwise the initialization will depend a lot on your internet connection"
   ]
  },
  {
   "cell_type": "code",
   "execution_count": 3,
   "metadata": {},
   "outputs": [
    {
     "name": "stdout",
     "output_type": "stream",
     "text": [
      "source url: /media/havahol/Seagate Backup Plus Drive/gpu_ocean/cdklm_practicalities/NorKyst-800m_ZDEPTHS_his.an.2019071600.nc\n"
     ]
    }
   ],
   "source": [
    "norkyst800_url = 'https://thredds.met.no/thredds/dodsC/fou-hi/norkyst800m-1h/NorKyst-800m_ZDEPTHS_his.an.2019071600.nc'\n",
    "\n",
    "local_norkyst800_url_havahol = '/media/havahol/Seagate Backup Plus Drive/gpu_ocean/cdklm_practicalities/NorKyst-800m_ZDEPTHS_his.an.2019071600.nc'\n",
    "\n",
    "source_url = norkyst800_url\n",
    "\n",
    "if source_url == norkyst800_url and os.path.exists(local_norkyst800_url_havahol):\n",
    "    source_url = local_norkyst800_url_havahol\n",
    "print('source url: '+source_url)"
   ]
  },
  {
   "cell_type": "code",
   "execution_count": 4,
   "metadata": {},
   "outputs": [],
   "source": [
    "casename = 'complete_coast'\n",
    "\n",
    "folder = casename+\"_\"+datetime.datetime.now().strftime(\"%Y_%m_%d\")\n",
    "os.makedirs(folder, exist_ok=True)"
   ]
  },
  {
   "cell_type": "markdown",
   "metadata": {},
   "source": [
    "# Initialization\n"
   ]
  },
  {
   "cell_type": "code",
   "execution_count": 5,
   "metadata": {},
   "outputs": [
    {
     "name": "stderr",
     "output_type": "stream",
     "text": [
      "This will give inaccurate angle along the border!\n",
      "This will give inaccurate coriolis along the border!\n"
     ]
    },
    {
     "name": "stdout",
     "output_type": "stream",
     "text": [
      "Initialization took 11.79 s\n"
     ]
    }
   ],
   "source": [
    "initialization_start = time.time()\n",
    "data_args = NetCDFInitialization.getInitialConditionsNorKystCases(source_url, casename, download_data=False)\n",
    "sim_args = {\n",
    "    \"gpu_ctx\": gpu_ctx,\n",
    "    \"dt\": 0.0,\n",
    "     }\n",
    "\n",
    "timesteps = data_args[\"timesteps\"][:5]\n",
    "\n",
    "sim = CDKLM16.CDKLM16(**sim_args, **NetCDFInitialization.removeMetadata(data_args))\n",
    "\n",
    "initialization_time = time.time() - initialization_start\n",
    "print('Initialization took '+\"{:.2f}\".format(initialization_time)+' s')"
   ]
  },
  {
   "cell_type": "markdown",
   "metadata": {},
   "source": [
    "# Running the simulation"
   ]
  },
  {
   "cell_type": "code",
   "execution_count": 6,
   "metadata": {},
   "outputs": [],
   "source": [
    "\n",
    "def ncSimulation(sim, filename, timesteps, interior_domain_only=False, num_substeps = 3):\n",
    "    filename = os.path.join(folder, filename)\n",
    "\n",
    "    simulation_times = None\n",
    "    writing_times = None\n",
    "    startup_time = None\n",
    "    ending_time = None\n",
    "    \n",
    "    # Set some common parameters\n",
    "    netcdf_frequency = 1\n",
    "    \n",
    "    \n",
    "    \n",
    "    if (os.path.isfile(filename)):\n",
    "        print(\"File \" + filename + \" already exists, skipping simulation.\")\n",
    "        return\n",
    "    \n",
    "    try:\n",
    "        startup_start = time.time()\n",
    "        ncfile = Dataset(filename, 'w')\n",
    "\n",
    "        var = {}\n",
    "        var['eta'], var['hu'], var['hv'] = sim.download(interior_domain_only=interior_domain_only)\n",
    "        _, var['Hm'] = sim.downloadBathymetry(interior_domain_only=interior_domain_only)\n",
    "\n",
    "        ny, nx = var['eta'].shape\n",
    "\n",
    "        # Create dimensions\n",
    "        ncfile.createDimension('time', None) # unlimited\n",
    "        ncfile.createDimension('x', nx)\n",
    "        ncfile.createDimension('y', ny)\n",
    "\n",
    "        ncvar = {}\n",
    "\n",
    "        # Create variables for dimensions\n",
    "        ncvar['time'] = ncfile.createVariable('time', 'f8', ('time',))\n",
    "        ncvar['x'] = ncfile.createVariable('x', 'f4', ('x',))\n",
    "        ncvar['y'] = ncfile.createVariable('y', 'f4', ('y',))\n",
    "\n",
    "        # Fill dimension variables\n",
    "        ncvar['x'][:] = np.linspace(0, nx*sim.dx, nx)\n",
    "        ncvar['y'][:] = np.linspace(0, ny*sim.dy, ny)\n",
    "\n",
    "        # Create static variables\n",
    "        ncvar['Hm'] = ncfile.createVariable('Hm', 'f8', ('y', 'x',), zlib=True)\n",
    "        ncvar['Hm'][:,:] = var['Hm'][:,:]\n",
    "\n",
    "        # Create time varying data variables\n",
    "        for varname in ['eta', 'hu', 'hv']:\n",
    "            ncvar[varname] = ncfile.createVariable(varname, 'f8', ('time', 'y', 'x',), zlib=True)\n",
    "        ncvar['num_iterations'] = ncfile.createVariable('num_iterations', 'i4', ('time',))\n",
    "\n",
    "        startup_time = time.time() - startup_start\n",
    "        \n",
    "        #Simulate n timesteps\n",
    "        timestep_sizes = timesteps[1:] - timesteps[:-1]\n",
    "        if netcdf_frequency > 1:\n",
    "            timestep_sizes = timestep_sizes/netcdf_frequency\n",
    "            timestep_sizes = np.repeat(timestep_sizes, netcdf_frequency)\n",
    "        \n",
    "        timestep_sizes = np.insert(timestep_sizes, 0, 0)\n",
    "        simulation_times = np.zeros_like(timestep_sizes)\n",
    "        writing_times    = np.zeros_like(timestep_sizes)\n",
    "        \n",
    "        with Common.ProgressPrinter(5) as progress:\n",
    "            for i, timestep_size in enumerate(timestep_sizes):\n",
    "                #Don't simulate if first step (store initial conditions also)\n",
    "                \n",
    "                simulation_start = time.time()\n",
    "                if (timestep_size > 0):\n",
    "                    substep_size = timestep_size / num_substeps\n",
    "                    for j in range(num_substeps):\n",
    "                        sim.updateDt()\n",
    "                        sim.step(substep_size)\n",
    "                # Store simulation timing\n",
    "                simulation_times[i] = time.time() - simulation_start\n",
    "                \n",
    "                writing_start = time.time()\n",
    "                var['eta'], var['hu'], var['hv'] = sim.download(interior_domain_only=False)\n",
    "                ncvar['time'][i] = sim.t\n",
    "                ncvar['num_iterations'][i] = sim.num_iterations\n",
    "\n",
    "                abort=False\n",
    "                for varname in ['eta', 'hu', 'hv']:\n",
    "                    ncvar[varname][i,:,:] = var[varname][:,:] #np.ma.masked_invalid(var[varname][:,:])\n",
    "                    if (np.any(np.isnan(var[varname]))):\n",
    "                        print(\"Variable \" + varname + \" contains NaN values!\")\n",
    "                        abort=True\n",
    "\n",
    "                if (abort):\n",
    "                    print(\"Aborting at t=\" + str(sim.t))\n",
    "                    ncfile.sync()\n",
    "                    break\n",
    "\n",
    "                # Store writing time\n",
    "                writing_times[i] = time.time() - writing_start\n",
    "                \n",
    "                clear_output(wait = True)\n",
    "                \n",
    "                print(progress.getPrintString(i/(len(timestep_sizes)-1)))\n",
    "\n",
    "    except Exception as e:\n",
    "        print(\"Something went wrong:\" + str(e))\n",
    "        raise e\n",
    "    finally:\n",
    "        ending_start = time.time()\n",
    "        ncfile.close()\n",
    "        ending_time = time.time() - ending_start\n",
    "        \n",
    "    return startup_time, simulation_times, writing_times, ending_time"
   ]
  },
  {
   "cell_type": "markdown",
   "metadata": {},
   "source": [
    "# Original resolution"
   ]
  },
  {
   "cell_type": "code",
   "execution_count": 7,
   "metadata": {},
   "outputs": [
    {
     "name": "stdout",
     "output_type": "stream",
     "text": [
      "0% [##############################] 100%. Total: 2m 12s, elapsed: 2m 12s, remaining: 0s\n"
     ]
    }
   ],
   "source": [
    "filename = casename+\"_original_\"+datetime.datetime.now().strftime(\"%Y_%m_%d-%H_%M_%S\")+\".nc\"\n",
    "startup_time, simulation_times, writing_times, ending_time = \\\n",
    "    ncSimulation(sim, filename, timesteps)\n",
    "sim.cleanUp()"
   ]
  },
  {
   "cell_type": "code",
   "execution_count": 8,
   "metadata": {},
   "outputs": [
    {
     "name": "stdout",
     "output_type": "stream",
     "text": [
      "Initialization:  11.792119026184082\n",
      "startup_time:    0.06632375717163086\n",
      "ending_time:     0.4920666217803955\n",
      "simulating,    writing\n",
      "[2.38418579e-06 3.11285236e+01 3.11171839e+01 3.10936799e+01\n",
      " 3.10934830e+01]\n",
      "[0.31024027 2.04635239 2.05815697 2.06335521 2.0562427 ]\n"
     ]
    }
   ],
   "source": [
    "print('Initialization: ', initialization_time)\n",
    "print('startup_time:   ', startup_time)\n",
    "print('ending_time:    ', ending_time )\n",
    "print('simulating,    writing')\n",
    "print(simulation_times)\n",
    "print(writing_times)\n"
   ]
  },
  {
   "cell_type": "markdown",
   "metadata": {},
   "source": [
    "# Low resolution"
   ]
  },
  {
   "cell_type": "code",
   "execution_count": 21,
   "metadata": {},
   "outputs": [
    {
     "name": "stderr",
     "output_type": "stream",
     "text": [
      "This will give inaccurate angle along the border!\n",
      "This will give inaccurate coriolis along the border!\n"
     ]
    }
   ],
   "source": [
    "low_res_init_start = time.time()\n",
    "#Rescaling initial conditions\n",
    "data_args = NetCDFInitialization.getInitialConditionsNorKystCases(source_url, casename, download_data=False)\n",
    "data_args_lowres =  NetCDFInitialization.rescaleInitialConditions(data_args, scale = 0.5)\n",
    "\n",
    "\n",
    "#Setting up simulator, observation, drifters and running as above\n",
    "sim_lowres = CDKLM16.CDKLM16(**sim_args, **NetCDFInitialization.removeMetadata(data_args_lowres))\n",
    "\n",
    "low_res_init_time = time.time() - low_res_init_start"
   ]
  },
  {
   "cell_type": "code",
   "execution_count": 22,
   "metadata": {},
   "outputs": [
    {
     "name": "stdout",
     "output_type": "stream",
     "text": [
      "0% [##############################] 100%. Total: 17s, elapsed: 17s, remaining: 0s\n"
     ]
    }
   ],
   "source": [
    "filename = casename+\"_lowres_\"+datetime.datetime.now().strftime(\"%Y_%m_%d-%H_%M_%S\")+\".nc\"\n",
    "startup_time, simulation_times, writing_times, ending_time = \\\n",
    "    ncSimulation(sim_lowres, filename, timesteps)\n",
    "sim_lowres.cleanUp()"
   ]
  },
  {
   "cell_type": "code",
   "execution_count": 23,
   "metadata": {},
   "outputs": [
    {
     "name": "stdout",
     "output_type": "stream",
     "text": [
      "Initialization:  15.647482872009277\n",
      "startup_time:    0.008220911026000977\n",
      "ending_time:     0.4609107971191406\n",
      "simulating,    writing\n",
      "[2.86102295e-06 3.99219823e+00 3.96007633e+00 3.96133876e+00\n",
      " 3.96116543e+00]\n",
      "[0.06466055 0.39173126 0.39138222 0.54767132 0.5456984 ]\n"
     ]
    }
   ],
   "source": [
    "print('Initialization: ', low_res_init_time)\n",
    "print('startup_time:   ', startup_time)\n",
    "print('ending_time:    ', ending_time )\n",
    "print('simulating,    writing')\n",
    "print(simulation_times)\n",
    "print(writing_times)\n"
   ]
  },
  {
   "cell_type": "markdown",
   "metadata": {},
   "source": [
    "# High resolution"
   ]
  },
  {
   "cell_type": "code",
   "execution_count": 12,
   "metadata": {},
   "outputs": [
    {
     "name": "stderr",
     "output_type": "stream",
     "text": [
      "This will give inaccurate angle along the border!\n",
      "This will give inaccurate coriolis along the border!\n"
     ]
    }
   ],
   "source": [
    "high_res_init_start = time.time()\n",
    "#Rescaling initial conditions\n",
    "data_args = NetCDFInitialization.getInitialConditionsNorKystCases(source_url, casename, download_data=False)\n",
    "data_args_highres =  NetCDFInitialization.rescaleInitialConditions(data_args, scale = 2)\n",
    "\n",
    "\n",
    "#Setting up simulator, observation, drifters and running as above\n",
    "sim_highres = CDKLM16.CDKLM16(**sim_args, **NetCDFInitialization.removeMetadata(data_args_highres))\n",
    "\n",
    "high_res_init_time = time.time() - high_res_init_start"
   ]
  },
  {
   "cell_type": "code",
   "execution_count": 13,
   "metadata": {},
   "outputs": [
    {
     "name": "stdout",
     "output_type": "stream",
     "text": [
      "0% [##############################] 100%. Total: 17m 6s, elapsed: 17m 6s, remaining: 0s\n"
     ]
    }
   ],
   "source": [
    "filename = casename+\"_highres_\"+datetime.datetime.now().strftime(\"%Y_%m_%d-%H_%M_%S\")+\".nc\"\n",
    "startup_time, simulation_times, writing_times, ending_time = \\\n",
    "    ncSimulation(sim_highres, filename, timesteps)\n",
    "sim_highres.cleanUp()"
   ]
  },
  {
   "cell_type": "code",
   "execution_count": 14,
   "metadata": {},
   "outputs": [
    {
     "name": "stdout",
     "output_type": "stream",
     "text": [
      "Initialization:  18.275923490524292\n",
      "startup_time:    0.5963015556335449\n",
      "ending_time:     0.7340054512023926\n",
      "simulating,    writing\n",
      "[3.33786011e-06 2.46630018e+02 2.48069014e+02 2.48639972e+02\n",
      " 2.48637374e+02]\n",
      "[1.91580582 8.00296855 8.01734066 8.04286504 8.04189682]\n"
     ]
    }
   ],
   "source": [
    "print('Initialization: ', high_res_init_time)\n",
    "print('startup_time:   ', startup_time)\n",
    "print('ending_time:    ', ending_time )\n",
    "print('simulating,    writing')\n",
    "print(simulation_times)\n",
    "print(writing_times)\n"
   ]
  },
  {
   "cell_type": "markdown",
   "metadata": {},
   "source": [
    "### Retracting computational cost from the original experiments"
   ]
  },
  {
   "cell_type": "code",
   "execution_count": 32,
   "metadata": {},
   "outputs": [
    {
     "name": "stdout",
     "output_type": "stream",
     "text": [
      "estimate of old per hour cost lowres:    3.369565217391304\n",
      "estimate of old per hour cost orig res:  25.91304347826087\n",
      "estimate of old per hour cost highres:   209.47826086956522\n",
      "\n",
      "lowres writing/simulation:    0.15625 0.15625\n",
      "orig res writing/simulation:  0.08064516129032258 0.16129032258064516\n",
      "highres writing/simulation:   0.03992015968063872 0.1596806387225549\n",
      "\n",
      "lowres writing/simulation:    0.14705882352941177 0.14705882352941177\n",
      "orig res writing/simulation:  0.07722007722007722 0.15444015444015444\n",
      "highres writing/simulation:   0.03818615751789976 0.15274463007159905\n"
     ]
    }
   ],
   "source": [
    "print('estimate of old per hour cost lowres:   ', ((0*60 + 1)*60+29 - 0 - 0.5*23)/23)\n",
    "print('estimate of old per hour cost orig res: ', ((0*60 + 10)*60+42 - 0 - 2*23)/23)\n",
    "print('estimate of old per hour cost highres:  ', ((1*60 + 23)*60+22 - 0 - 8*23)/23)\n",
    "\n",
    "print('')\n",
    "print('lowres writing/simulation:   ', 0.5/3.2  , 0.5/3.2  )\n",
    "print('orig res writing/simulation: ', 2.0/24.8 , (2.0/24.8)*2)\n",
    "print('highres writing/simulation:  ', 8.0/200.4, (8.0/200.4)*4)\n",
    "\n",
    "print('')\n",
    "print('lowres writing/simulation:   ', 0.5/3.4  , 0.5/3.4  )\n",
    "print('orig res writing/simulation: ', 2.0/25.9 , (2.0/25.9)*2)\n",
    "print('highres writing/simulation:  ', 8.0/209.5, (8.0/209.5)*4)"
   ]
  },
  {
   "cell_type": "code",
   "execution_count": 34,
   "metadata": {},
   "outputs": [
    {
     "data": {
      "text/plain": [
       "(27.2, 217.6)"
      ]
     },
     "execution_count": 34,
     "metadata": {},
     "output_type": "execute_result"
    }
   ],
   "source": [
    "(3.4*8, 3.4*8*8)"
   ]
  },
  {
   "cell_type": "markdown",
   "metadata": {},
   "source": [
    "### Scaling of original experiments"
   ]
  },
  {
   "cell_type": "code",
   "execution_count": 43,
   "metadata": {},
   "outputs": [
    {
     "name": "stdout",
     "output_type": "stream",
     "text": [
      "desktop [89, 649, 5002]\n",
      "deskto2 [103.5, 761.3000000000001, 5899.5]\n",
      "laptop:   5.745551601423488 39.51779359430605 6.877980799008981\n",
      "desktop:  7.292134831460674 56.20224719101124 7.707241910631741\n",
      "server:   4.1063829787234045 29.80851063829787 7.259067357512953\n",
      "deskto2:  7.355555555555556 57.0 7.749244712990936\n"
     ]
    }
   ],
   "source": [
    "laptop  = [9*60 + 22, 53*60 + 49, (6*60 + 10)*60 +  9]\n",
    "desktop = [1*60 + 29, 10*60 + 49, (1*60 + 23)*60 + 22]\n",
    "server  = [       47,  3*60 + 13,         23 *60 + 21]\n",
    "\n",
    "deskto2 = [(4+0.5)*23, (31.1+2.0)*23, (248.5+8)*23]\n",
    "\n",
    "print('desktop', desktop)\n",
    "print('deskto2', deskto2)\n",
    "\n",
    "print('laptop:  ',  laptop[1]/laptop[0],   laptop[2]/laptop[0],   laptop[2]/laptop[1])\n",
    "print('desktop: ', desktop[1]/desktop[0], desktop[2]/desktop[0], desktop[2]/desktop[1])\n",
    "print('server:  ',  server[1]/server[0],   server[2]/server[0],   server[2]/server[1])\n",
    "\n",
    "print('deskto2: ', deskto2[1]/deskto2[0], deskto2[2]/deskto2[0], deskto2[2]/deskto2[1])\n"
   ]
  },
  {
   "cell_type": "code",
   "execution_count": 45,
   "metadata": {},
   "outputs": [
    {
     "data": {
      "text/plain": [
       "736.1215932167728"
      ]
     },
     "execution_count": 45,
     "metadata": {},
     "output_type": "execute_result"
    }
   ],
   "source": [
    "np.sqrt(541875)"
   ]
  }
 ],
 "metadata": {
  "kernelspec": {
   "display_name": "Python [conda env:gpuocean_parcels_opendrift]",
   "language": "python",
   "name": "conda-env-gpuocean_parcels_opendrift-py"
  },
  "language_info": {
   "codemirror_mode": {
    "name": "ipython",
    "version": 3
   },
   "file_extension": ".py",
   "mimetype": "text/x-python",
   "name": "python",
   "nbconvert_exporter": "python",
   "pygments_lexer": "ipython3",
   "version": "3.7.6"
  }
 },
 "nbformat": 4,
 "nbformat_minor": 4
}
