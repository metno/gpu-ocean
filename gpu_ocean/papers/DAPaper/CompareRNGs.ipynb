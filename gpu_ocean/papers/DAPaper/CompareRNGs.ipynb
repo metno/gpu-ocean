{
 "cells": [
  {
   "cell_type": "markdown",
   "metadata": {},
   "source": [
    "```\n",
    "This software is a part of GPU Ocean.\n",
    "\n",
    "Copyright (C) 2019  SINTEF Digital\n",
    "\n",
    "The aim of this notebook is to compare the efficiency of using \n",
    "different random number generators for SWE model perturbations.\n",
    "\n",
    "This program is free software: you can redistribute it and/or modify\n",
    "it under the terms of the GNU General Public License as published by\n",
    "the Free Software Foundation, either version 3 of the License, or\n",
    "(at your option) any later version.\n",
    "\n",
    "This program is distributed in the hope that it will be useful,\n",
    "but WITHOUT ANY WARRANTY; without even the implied warranty of\n",
    "MERCHANTABILITY or FITNESS FOR A PARTICULAR PURPOSE.  See the\n",
    "GNU General Public License for more details.\n",
    "\n",
    "You should have received a copy of the GNU General Public License\n",
    "along with this program.  If not, see <http://www.gnu.org/licenses/>.\n",
    "```"
   ]
  },
  {
   "cell_type": "markdown",
   "metadata": {},
   "source": [
    "# Comparing Random Number Generators\n",
    "\n",
    "The aim of this notebook is to compare the efficiency of using \n",
    "different random number generators for SWE model perturbations.\n",
    "\n",
    "We look at initialization and simulation, and compare using curand and LCG."
   ]
  },
  {
   "cell_type": "markdown",
   "metadata": {},
   "source": [
    "## Set environment"
   ]
  },
  {
   "cell_type": "code",
   "execution_count": null,
   "metadata": {},
   "outputs": [],
   "source": [
    "%matplotlib inline\n",
    "%config InlineBackend.figure_format = 'retina'\n",
    "\n",
    "import numpy as np\n",
    "import matplotlib\n",
    "from matplotlib import pyplot as plt\n",
    "from matplotlib import animation, rc\n",
    "\n",
    "import pycuda.driver as cuda\n",
    "import os\n",
    "import sys\n",
    "import datetime\n",
    "import time\n",
    "\n",
    "from importlib import reload\n",
    "sys.path.insert(0, os.path.abspath(os.path.join(os.getcwd(), '../../')))\n",
    "\n",
    "#Set large figure sizes\n",
    "rc('figure', figsize=(16.0, 12.0))\n",
    "rc('animation', html='html5')\n",
    "\n",
    "#Import our simulator\n",
    "from SWESimulators import IPythonMagic, SimReader, Observation, CDKLM16"
   ]
  },
  {
   "cell_type": "code",
   "execution_count": null,
   "metadata": {},
   "outputs": [],
   "source": [
    "%cuda_context_handler gpu_ctx"
   ]
  },
  {
   "cell_type": "code",
   "execution_count": null,
   "metadata": {},
   "outputs": [],
   "source": [
    "initial_memory_available, total_memory = cuda.mem_get_info()\n",
    "print('Available memory: ', initial_memory_available)"
   ]
  },
  {
   "cell_type": "markdown",
   "metadata": {},
   "source": [
    "# The data\n",
    "\n",
    "The data used for this paper is available for download from [the GPU Ocean server](http://gpu-ocean.met.no:9000/gpu_ocean/DAPaper/).\n",
    "\n",
    "Please start with downloading the files `double_jet_ensemble_init.zip` and `double_jet_truth.zip` to this folder, and unzip them so that the following lines of code passes:"
   ]
  },
  {
   "cell_type": "code",
   "execution_count": null,
   "metadata": {},
   "outputs": [],
   "source": [
    "ensemble_init_path = os.path.abspath('double_jet_ensemble_init/')\n",
    "assert len(os.listdir(ensemble_init_path)) == 102, \"Ensemble init folder has wrong number of files\"\n",
    "\n",
    "truth_path = os.path.abspath('double_jet_truth/')\n",
    "assert len(os.listdir(truth_path)) == 4, \"Truth folder has wrong number of files\""
   ]
  },
  {
   "cell_type": "markdown",
   "metadata": {},
   "source": [
    "# Read initial conditions and mean and variance \n",
    "\n",
    "Reading files..."
   ]
  },
  {
   "cell_type": "code",
   "execution_count": null,
   "metadata": {},
   "outputs": [],
   "source": [
    "truth_state_filename = os.path.join(truth_path, \"double_jet_case_truth.nc\")\n",
    "observations_filename = os.path.join(truth_path, \"drifter_observations.pickle\")\n",
    "\n",
    "ensemble_init_file_name = os.path.join(ensemble_init_path, \"double_jet_case_XX.nc\")\n",
    "num_files = 100\n",
    "sim_readers = [None]*num_files\n",
    "for i in range(num_files):\n",
    "    sim_readers[i] = SimReader.SimNetCDFReader(ensemble_init_file_name.replace('XX', str(i).zfill(2)))"
   ]
  },
  {
   "cell_type": "markdown",
   "metadata": {},
   "source": [
    "##  Testing initialization"
   ]
  },
  {
   "cell_type": "code",
   "execution_count": null,
   "metadata": {
    "scrolled": true
   },
   "outputs": [],
   "source": [
    "%%time\n",
    "def initialize_sim_set(use_lcg=False):\n",
    "    tic = time.time()\n",
    "    sim_set = [None]*40\n",
    "    print('started initialization with use_lcg: ', use_lcg)\n",
    "    file_id_start = 0\n",
    "    if use_lcg:\n",
    "        file_id_start = 50\n",
    "    for i in range(40):\n",
    "        file_id = file_id_start + i\n",
    "        sim_set[i] = CDKLM16.CDKLM16.fromfilename(gpu_ctx, \n",
    "                                                  ensemble_init_file_name.replace('XX', str(file_id).zfill(2)),\n",
    "                                                  cont_write_netcdf=False,\n",
    "                                                  use_lcg=use_lcg)\n",
    "        if (i+1)%10 == 0:\n",
    "            toc = time.time()\n",
    "            print('Done with ' + str(i+1) + ' after time: ' + str(round(toc-tic,2)))\n",
    "    toc = time.time()\n",
    "    print('total time: ' + str(round(toc-tic,2)))\n",
    "    return sim_set"
   ]
  },
  {
   "cell_type": "code",
   "execution_count": null,
   "metadata": {},
   "outputs": [],
   "source": [
    "%%time\n",
    "#curand_sims = initialize_sim_set(use_lcg=False)\n",
    "curand_sims = initialize_sim_set(use_lcg=True)\n",
    "\n",
    "curand_memory_available, total_memory = cuda.mem_get_info()\n",
    "print('curand memory available: ', curand_memory_available)\n",
    "print('curand memory consumption (MB): ', (initial_memory_available - curand_memory_available)/1024**2)"
   ]
  },
  {
   "cell_type": "code",
   "execution_count": null,
   "metadata": {},
   "outputs": [],
   "source": [
    "%%time\n",
    "lcg_sims = initialize_sim_set(use_lcg=True)\n",
    "\n",
    "lcg_memory_available, total_memory = cuda.mem_get_info()\n",
    "print('LCG memory available: ', lcg_memory_available)\n",
    "print('LCG memory consumption (MB): ', (curand_memory_available - lcg_memory_available)/1024**2)"
   ]
  },
  {
   "cell_type": "markdown",
   "metadata": {},
   "source": [
    "# Testing simulation"
   ]
  },
  {
   "cell_type": "code",
   "execution_count": null,
   "metadata": {},
   "outputs": [],
   "source": [
    "%%time\n",
    "def simulation_test(sim_set):\n",
    "    tic = time.time()\n",
    "    current_t = sim_set[0].t\n",
    "    next_t = current_t + 2*60*60 # two hours\n",
    "    print('current_t, next_t: ', (current_t, next_t))\n",
    "    for i in range(len(sim_set)):\n",
    "        sim_set[i].dataAssimilationStep(next_t)\n",
    "        if (i+1)%10 == 0:\n",
    "            toc = time.time()\n",
    "            print('Done with ' + str(i+1) + ' after time: ' + str(round(toc-tic,2)))\n",
    "    toc = time.time()\n",
    "    print('Total simulation time with curand: ' + str(round(toc-tic,2)))"
   ]
  },
  {
   "cell_type": "code",
   "execution_count": null,
   "metadata": {},
   "outputs": [],
   "source": [
    "%%time\n",
    "simulation_test(curand_sims)"
   ]
  },
  {
   "cell_type": "code",
   "execution_count": null,
   "metadata": {},
   "outputs": [],
   "source": [
    "%%time\n",
    "simulation_test(lcg_sims)"
   ]
  },
  {
   "cell_type": "markdown",
   "metadata": {},
   "source": [
    "# Sim perturbation only"
   ]
  },
  {
   "cell_type": "code",
   "execution_count": null,
   "metadata": {},
   "outputs": [],
   "source": [
    "%%time\n",
    "def perturbation_only(sim_set):\n",
    "    tic = time.time()\n",
    "    print('started')\n",
    "    for i in range(len(sim_set)):\n",
    "        for p in range(1000):\n",
    "            sim_set[i].perturbState()\n",
    "        if (i+1)%10 == 0:\n",
    "            toc = time.time()\n",
    "            print('Done with ' + str(i+1) + ' after time: ' + str(round(toc-tic,2)))\n",
    "    toc = time.time()\n",
    "    print('Total time: ' + str(round(toc-tic,2)))"
   ]
  },
  {
   "cell_type": "code",
   "execution_count": null,
   "metadata": {},
   "outputs": [],
   "source": [
    "%%time\n",
    "perturbation_only(curand_sims)"
   ]
  },
  {
   "cell_type": "code",
   "execution_count": null,
   "metadata": {},
   "outputs": [],
   "source": [
    "%%time\n",
    "perturbation_only(lcg_sims)"
   ]
  },
  {
   "cell_type": "code",
   "execution_count": null,
   "metadata": {},
   "outputs": [],
   "source": []
  }
 ],
 "metadata": {
  "git": {
   "suppress_outputs": true
  },
  "kernelspec": {
   "display_name": "Python [conda env:gpuocean] *",
   "language": "python",
   "name": "conda-env-gpuocean-py"
  },
  "language_info": {
   "codemirror_mode": {
    "name": "ipython",
    "version": 3
   },
   "file_extension": ".py",
   "mimetype": "text/x-python",
   "name": "python",
   "nbconvert_exporter": "python",
   "pygments_lexer": "ipython3",
   "version": "3.6.7"
  }
 },
 "nbformat": 4,
 "nbformat_minor": 2
}