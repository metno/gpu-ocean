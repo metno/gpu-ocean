{
 "cells": [
  {
   "cell_type": "markdown",
   "metadata": {},
   "source": [
    "```\n",
    "This software is a part of GPU Ocean.\n",
    "\n",
    "Copyright (C) 2019  SINTEF Digital\n",
    "\n",
    "In this notebook we load the generated ensemble to look at the variance\n",
    "of the observed drifters. This is done to come up with a good estimate for\n",
    "the observation covariance matrix, R.\n",
    "\n",
    "This program is free software: you can redistribute it and/or modify\n",
    "it under the terms of the GNU General Public License as published by\n",
    "the Free Software Foundation, either version 3 of the License, or\n",
    "(at your option) any later version.\n",
    "\n",
    "This program is distributed in the hope that it will be useful,\n",
    "but WITHOUT ANY WARRANTY; without even the implied warranty of\n",
    "MERCHANTABILITY or FITNESS FOR A PARTICULAR PURPOSE.  See the\n",
    "GNU General Public License for more details.\n",
    "\n",
    "You should have received a copy of the GNU General Public License\n",
    "along with this program.  If not, see <http://www.gnu.org/licenses/>.\n",
    "```"
   ]
  },
  {
   "cell_type": "markdown",
   "metadata": {},
   "source": [
    "# Investigating the observation variance\n",
    "\n",
    "In this notebook we load the generated ensemble to look at the variance\n",
    "of the observed drifters. This is done to come up with a good estimate for\n",
    "the observation covariance matrix, R."
   ]
  },
  {
   "cell_type": "markdown",
   "metadata": {},
   "source": [
    "## Set environment"
   ]
  },
  {
   "cell_type": "code",
   "execution_count": null,
   "metadata": {},
   "outputs": [],
   "source": [
    "%matplotlib inline\n",
    "%config InlineBackend.figure_format = 'retina'\n",
    "\n",
    "import numpy as np\n",
    "import matplotlib\n",
    "from matplotlib import pyplot as plt\n",
    "from matplotlib import animation, rc\n",
    "\n",
    "\n",
    "import pycuda.driver as cuda\n",
    "import os\n",
    "import sys\n",
    "import datetime\n",
    "\n",
    "from importlib import reload\n",
    "sys.path.insert(0, os.path.abspath(os.path.join(os.getcwd(), '../../')))\n",
    "\n",
    "#Set large figure sizes\n",
    "rc('figure', figsize=(16.0, 12.0))\n",
    "rc('animation', html='html5')\n",
    "\n",
    "#Import our simulator\n",
    "from SWESimulators import IPythonMagic, EnsembleFromFiles, EnsemblePlot, IEWPFOcean\n",
    "from SWESimulators import CDKLM16, ParticleInfo, Observation"
   ]
  },
  {
   "cell_type": "code",
   "execution_count": null,
   "metadata": {},
   "outputs": [],
   "source": [
    "%cuda_context_handler gpu_ctx"
   ]
  },
  {
   "cell_type": "code",
   "execution_count": null,
   "metadata": {},
   "outputs": [],
   "source": [
    "#Create output directory for images\n",
    "#imgdir = 'double_jet'\n",
    "#filename_prefix = imgdir + \"/\" + datetime.datetime.now().strftime(\"%Y_%m_%d-%H_%M_%S\") + \"_\"\n",
    "#os.makedirs(imgdir, exist_ok=True)\n",
    "#print(\"Saving images to \" + imgdir)"
   ]
  },
  {
   "cell_type": "markdown",
   "metadata": {},
   "source": [
    "# The data\n",
    "\n",
    "The data used for this paper is available for download from [the GPU Ocean server](http://gpu-ocean.met.no:9000/gpu_ocean/DAPaper/).\n",
    "\n",
    "Please start with downloading the files `double_jet_ensemble_init.zip` and `double_jet_truth.zip` to this folder, and unzip them so that the following lines of code passes:"
   ]
  },
  {
   "cell_type": "code",
   "execution_count": null,
   "metadata": {},
   "outputs": [],
   "source": [
    "ensemble_init_path = os.path.abspath('double_jet_ensemble_init/')\n",
    "assert len(os.listdir(ensemble_init_path)) == 102, \"Ensemble init folder has wrong number of files\"\n",
    "\n",
    "truth_path = os.path.abspath('double_jet_truth/')\n",
    "assert len(os.listdir(truth_path)) == 4, \"Truth folder has wrong number of files\""
   ]
  },
  {
   "cell_type": "markdown",
   "metadata": {},
   "source": [
    "### Define functions for plotting"
   ]
  },
  {
   "cell_type": "code",
   "execution_count": null,
   "metadata": {},
   "outputs": [],
   "source": [
    "def imshow(im, interpolation=\"None\", title=None, figsize=(4,4), interior=False):\n",
    "    fig = plt.figure(figsize=figsize)\n",
    "    \n",
    "    if interior:\n",
    "        im = plt.imshow(im[2:-2,2:-2], interpolation=interpolation, origin='lower')\n",
    "    else:\n",
    "        im = plt.imshow(im, interpolation=interpolation, origin='lower')\n",
    "    \n",
    "    plt.colorbar()\n",
    "    if title is not None:\n",
    "        plt.title(title)\n",
    "        \n",
    "def imshow3(eta, hu, hv, interpolation=\"None\", title=None, figsize=(12,3), \n",
    "            interior=False, color_bar_from_zero=False):\n",
    "    fig, axs = plt.subplots(1,3, figsize=figsize)\n",
    "    \n",
    "    eta_max = np.max(np.abs(eta))\n",
    "    huv_max = max(np.max(np.abs(hu)), np.max(np.abs(hv)))\n",
    "    eta_min = -eta_max\n",
    "    huv_min = -huv_max\n",
    "    if color_bar_from_zero:\n",
    "        eta_min, huv_min = 0, 0\n",
    "    \n",
    "    if interior:\n",
    "        eta_im = axs[0].imshow(eta[2:-2,2:-2], interpolation=interpolation, origin='lower', vmin=eta_min, vmax=eta_max)\n",
    "    else:\n",
    "        eta_im = axs[0].imshow(eta, interpolation=interpolation, origin='lower', vmin=eta_min, vmax=eta_max)\n",
    "    axs[0].set_title(\"$\\eta$\")\n",
    "    plt.colorbar(eta_im, ax=axs[0])\n",
    "    \n",
    "    if interior:\n",
    "        hu_im = axs[1].imshow(hu[2:-2,2:-2], interpolation=interpolation, origin='lower', vmin=huv_min, vmax=huv_max)\n",
    "    else:\n",
    "        hu_im = axs[1].imshow(hu, interpolation=interpolation, origin='lower', vmin=huv_min, vmax=huv_max)\n",
    "    axs[1].set_title(\"$hu$\")\n",
    "    plt.colorbar(hu_im, ax=axs[1])\n",
    "\n",
    "    if interior:\n",
    "        hv_im = axs[2].imshow(hv[2:-2,2:-2], interpolation=interpolation, origin='lower', vmin=huv_min, vmax=huv_max)\n",
    "    else:\n",
    "        hv_im = axs[2].imshow(hv, interpolation=interpolation, origin='lower', vmin=huv_min, vmax=huv_max)\n",
    "    axs[2].set_title(\"$hv$\")\n",
    "    plt.colorbar(hv_im, ax=axs[2])\n",
    "\n",
    "    if title is not None:\n",
    "        plt.suptitle(title)\n",
    "    plt.tight_layout()\n",
    "    \n",
    "def plotDrifters(observations, sim_reader, t, drifter_set=[]):\n",
    "    drifter_positions = observations.get_drifter_position(t)\n",
    "\n",
    "    fig = plt.figure(figsize=(7,7))\n",
    "    ax = plt.subplot(111)\n",
    "    nx, ny = sim_reader.get('nx'), sim_reader.get('ny')\n",
    "    dx, dy = sim_reader.get('dx'), sim_reader.get('dy')\n",
    "\n",
    "    emptyData =np.ma.masked_where(np.zeros((ny,nx)) > 1, np.zeros((ny,nx)))\n",
    "    ax.imshow(emptyData, origin=\"lower\", extent=[0, nx*dx, 0, ny*dy], cmap='binary')\n",
    "\n",
    "    for i in range(drifter_positions.shape[0]):\n",
    "        color = 'xkcd:pale cyan'\n",
    "        if i in drifter_set:\n",
    "            color = 'xkcd:tomato red'\n",
    "        circ_end = matplotlib.patches.Circle((drifter_positions[i,0], drifter_positions[i,1]),\n",
    "                                             3000, fill=True, zorder=10, color=color)\n",
    "        ax.add_patch(circ_end)\n",
    "\n",
    "    \n",
    "def days_to_sec(days):\n",
    "    return days*24*60*60\n",
    "\n",
    "def truth_time_step(t):\n",
    "    t = t - days_to_sec(3)\n",
    "    return int(t/(60*60))"
   ]
  },
  {
   "cell_type": "markdown",
   "metadata": {},
   "source": [
    "# Read initial conditions and mean and variance \n",
    "\n",
    "Reading files..."
   ]
  },
  {
   "cell_type": "code",
   "execution_count": null,
   "metadata": {},
   "outputs": [],
   "source": [
    "if 'ensemble' in globals():\n",
    "    ensemble.cleanUp()\n",
    "    del ensemble\n",
    "if 'iewpf' in globals():\n",
    "    iewpf.cleanUp()\n",
    "    del iewpf\n",
    "\n",
    "reload(Observation)\n",
    "reload(ParticleInfo)\n",
    "reload(CDKLM16)    \n",
    "reload(EnsembleFromFiles)\n",
    "reload(IEWPFOcean)\n",
    "ensemble = EnsembleFromFiles.EnsembleFromFiles(gpu_ctx, 20,\n",
    "                                               ensemble_init_path, truth_path,\n",
    "                                               15) #10) #0.2) #100)\n",
    "ensemble.configureObservations(drifterSet=[4, 12, 20, 28, 36, 44, 52, 60])\n",
    "iewpf = IEWPFOcean.IEWPFOcean(ensemble)"
   ]
  },
  {
   "cell_type": "code",
   "execution_count": null,
   "metadata": {
    "scrolled": true
   },
   "outputs": [],
   "source": [
    "#endtime = days_to_sec(3) + 5*60\n",
    "#ensemble.stepToObservation(endtime, model_error_final_step=False, progress_info=True)\n",
    "#EnsemblePlot.plotVelocityInfo(ensemble)\n",
    "#print('hei')\n",
    "#iewpf.iewpf_2stage(ensemble, perform_step=False)\n",
    "#EnsemblePlot.plotVelocityInfo(ensemble)\n",
    "#print('hei')\n"
   ]
  },
  {
   "cell_type": "code",
   "execution_count": null,
   "metadata": {
    "scrolled": false
   },
   "outputs": [],
   "source": [
    "%%time\n",
    "################################################\n",
    "#### This is good sketch for actual experiment!\n",
    "################################################\n",
    "\n",
    "info = ParticleInfo.ParticleInfo()\n",
    "info.usePredefinedExtraCells()\n",
    "endtime = days_to_sec(3)\n",
    "\n",
    "for d in range(1): # days\n",
    "    for h in range(24): # hours in a day\n",
    "        #for h in range(4): # hours\n",
    "        for i in range(12): # number of 5 min intervals per hour\n",
    "            drifter_cells = ensemble.getDrifterCells()\n",
    "            for m in range(5): # number of 1 min intervals within 5 min\n",
    "                endtime += 60\n",
    "                #print(\"\\n--------------------------------------------------------\")\n",
    "                #print(\"ensemble.t, endtime, diff\", (ensemble.t, endtime, endtime-ensemble.t))\n",
    "                ensemble.stepToObservation(endtime, model_error_final_step=(m<4))\n",
    "                if m == 4:\n",
    "                    iewpf.iewpf_2stage(ensemble, perform_step=False)\n",
    "                # TODO for each particle: Write hu, hv, eta under drifter positions to file \n",
    "                info.add_state_sample_from_sim(ensemble.particles[0], drifter_cells)\n",
    "    \n",
    "    # Write complete state to NetCDF\n",
    "    # Dump ParticleInfo for this day\n",
    "    print(str( (endtime - days_to_sec(3))/3600) + \" hours into the simulation\")\n",
    "#iewpf.iewpf_2stage(ensemble, perform_step=False)\n",
    "\n"
   ]
  },
  {
   "cell_type": "code",
   "execution_count": null,
   "metadata": {},
   "outputs": [],
   "source": [
    "filename = 'infoPlotTestbz2.bz2'\n",
    "info.to_pickle(filename)"
   ]
  },
  {
   "cell_type": "code",
   "execution_count": null,
   "metadata": {},
   "outputs": [],
   "source": [
    "infoFromFile = ParticleInfo.ParticleInfo()\n",
    "infoFromFile.read_pickle(filename)"
   ]
  },
  {
   "cell_type": "code",
   "execution_count": null,
   "metadata": {},
   "outputs": [],
   "source": [
    "print(info.get_num_drifters(), info.get_num_samples())\n",
    "print(infoFromFile.get_num_drifters(), infoFromFile.get_num_samples())\n",
    "\n",
    "times = infoFromFile.get_sample_times()\n",
    "drifter_id = 0\n",
    "eta = np.zeros_like(times)\n",
    "hu  = np.zeros_like(times)\n",
    "hv  = np.zeros_like(times)\n",
    "ehu = np.zeros_like(times)\n",
    "ehv = np.zeros_like(times)\n",
    "\n",
    "for t in range(infoFromFile.get_num_samples()):\n",
    "    sample = infoFromFile.get_state_samples(times[t])\n",
    "    extra  = infoFromFile.get_extra_sample(times[t])\n",
    "    eta[t] = sample[0,0]\n",
    "    hu[t]  = sample[0,1]\n",
    "    hv[t]  = sample[0,2]\n",
    "    ehu[t] = extra[0,1]\n",
    "    ehv[t] = extra[0,2]\n",
    "    \n",
    "\n",
    "#print(info.get_state_samples(times[20]))\n",
    "    \n",
    "times = times/(days_to_sec(1))\n",
    "#plt.plot(times, eta)\n",
    "plt.plot(times, hu/270)\n",
    "plt.plot(times, hv/270)\n",
    "plt.plot(times, ehu/270)\n",
    "plt.plot(times, ehv/270)\n"
   ]
  },
  {
   "cell_type": "code",
   "execution_count": null,
   "metadata": {},
   "outputs": [],
   "source": [
    "expected_run_time = 2*10*5\n",
    "expected_storage = 1.3*10*100 + 100*10\n",
    "print(\"expected_run_time\", expected_run_time)\n",
    "print(\"expected_storage\", expected_storage)"
   ]
  },
  {
   "cell_type": "code",
   "execution_count": null,
   "metadata": {},
   "outputs": [],
   "source": [
    "if 'sim' in globals():\n",
    "    sim.cleanUp()\n",
    "    del sim\n",
    "reload(CDKLM16)\n",
    "\n",
    "sim = CDKLM16.CDKLM16.fromfilename(gpu_ctx, \"double_jet_ensemble_init/double_jet_case_00.nc\", cont_write_netcdf=False)\n",
    "\n",
    "for i in range(2):\n",
    "    start_t = sim.t\n",
    "    end_t = start_t + 60\n",
    "    sim.dataAssimilationStep(end_t)\n",
    "\n",
    "print(end_t, sim.t, end_t - sim.t)\n",
    "\n"
   ]
  },
  {
   "cell_type": "code",
   "execution_count": null,
   "metadata": {},
   "outputs": [],
   "source": [
    "ensemble.getNumDrifters()"
   ]
  },
  {
   "cell_type": "code",
   "execution_count": null,
   "metadata": {},
   "outputs": [],
   "source": []
  },
  {
   "cell_type": "code",
   "execution_count": null,
   "metadata": {},
   "outputs": [],
   "source": [
    "ensemble.stepToObservation(days_to_sec(3)+15*60)\n",
    "drifter_positions = ensemble.observeTrueDrifters()\n",
    "print(drifter_positions)\n",
    "drifter_positions[:,0] = np.floor(drifter_positions[:,0]/ensemble.getDx())#.astype(np.int32)\n",
    "drifter_positions[:,1] = np.floor(drifter_positions[:,1]/ensemble.getDy())#.astype(np.int32)\n",
    "drifter_positions = drifter_positions.astype(np.int32)\n",
    "#drifter_positions[:,0] = np.int(np.floor(drifter_positions[:,0]/ensemble.getDx()))\n",
    "#drifter_positions[:,1] = np.int(np.floor(drifter_positions[:,1]/ensemble.getDy()))\n",
    "print(drifter_positions)\n",
    "print(drifter_positions.dtype)\n",
    "print(ensemble.getDrifterCells())\n",
    "\n",
    "\n",
    "#id_x = np.int(np.floor(trueState[d,0]/self.dx))\n",
    "#id_y = np.int(np.floor(trueState[d,1]/self.dy))"
   ]
  },
  {
   "cell_type": "code",
   "execution_count": null,
   "metadata": {},
   "outputs": [],
   "source": [
    "print(ensemble.observations.get_drifter_position(ensemble.t))\n",
    "print(ensemble.observeTrueDrifters() - ensemble.observations.get_drifter_position(ensemble.t))\n"
   ]
  },
  {
   "cell_type": "code",
   "execution_count": null,
   "metadata": {},
   "outputs": [],
   "source": [
    "\n",
    "eta, hu, hv = ensemble.downloadParticleOceanState(0)\n",
    "for i in drifter_positions:\n",
    "    print(eta[i[1],i[0]], hu[i[1], i[0]], hv[i[1], i[0]])\n",
    "drifter_positions.shape\n",
    "print('----------')\n",
    "#etas = eta[drifter_positions[:,1], drifter_positions[:,0]]\n",
    "#hus  =  hu[drifter_positions[:,1], drifter_positions[:,0]]\n",
    "#hvs  =  hv[drifter_positions[:,1], drifter_positions[:,0]]\n",
    "\n",
    "state_sample = np.zeros((drifter_positions.shape[0], 3))\n",
    "#state_sample[:,0] = etas\n",
    "#state_sample[:,1] = hus\n",
    "#state_sample[:,2] = hvs\n",
    "state_sample[:,0] = eta[drifter_positions[:,1], drifter_positions[:,0]]\n",
    "state_sample[:,1] = hu[drifter_positions[:,1], drifter_positions[:,0]]\n",
    "state_sample[:,2] = hv[drifter_positions[:,1], drifter_positions[:,0]]\n",
    "\n",
    "\n",
    "print(state_sample)\n"
   ]
  },
  {
   "cell_type": "code",
   "execution_count": null,
   "metadata": {},
   "outputs": [],
   "source": []
  },
  {
   "cell_type": "code",
   "execution_count": null,
   "metadata": {},
   "outputs": [],
   "source": []
  },
  {
   "cell_type": "code",
   "execution_count": null,
   "metadata": {},
   "outputs": [],
   "source": [
    "ensemble.particles[0].model_time_step, m, endtime"
   ]
  },
  {
   "cell_type": "code",
   "execution_count": null,
   "metadata": {},
   "outputs": [],
   "source": [
    "EnsemblePlot.plotVelocityInfo(ensemble)\n",
    "print('hei')"
   ]
  },
  {
   "cell_type": "code",
   "execution_count": null,
   "metadata": {},
   "outputs": [],
   "source": []
  },
  {
   "cell_type": "code",
   "execution_count": null,
   "metadata": {},
   "outputs": [],
   "source": []
  },
  {
   "cell_type": "code",
   "execution_count": null,
   "metadata": {},
   "outputs": [],
   "source": []
  },
  {
   "cell_type": "code",
   "execution_count": null,
   "metadata": {
    "scrolled": false
   },
   "outputs": [],
   "source": [
    "EnsemblePlot.plotVelocityInfo(ensemble)\n",
    "print('hei')"
   ]
  },
  {
   "cell_type": "code",
   "execution_count": null,
   "metadata": {},
   "outputs": [],
   "source": [
    "for i in range(100):\n",
    "    iewpf.iewpf_2stage(ensemble, perform_step=False)\n",
    "EnsemblePlot.plotVelocityInfo(ensemble)\n",
    "print('hei')"
   ]
  },
  {
   "cell_type": "code",
   "execution_count": null,
   "metadata": {},
   "outputs": [],
   "source": [
    "just_after_endtime = endtime + 300\n",
    "ensemble.stepToObservation(just_after_endtime, model_error_final_step=False, progress_info=True)\n",
    "EnsemblePlot.plotVelocityInfo(ensemble)\n",
    "print('hei')"
   ]
  },
  {
   "cell_type": "code",
   "execution_count": null,
   "metadata": {},
   "outputs": [],
   "source": [
    "15/np.sqrt(ensemble.mean_depth)"
   ]
  },
  {
   "cell_type": "markdown",
   "metadata": {},
   "source": [
    "# Step far ahead"
   ]
  },
  {
   "cell_type": "code",
   "execution_count": null,
   "metadata": {},
   "outputs": [],
   "source": [
    "endtime = days_to_sec(4)\n",
    "ensemble.stepToObservation(endtime, model_error_final_step=False, progress_info=True)"
   ]
  },
  {
   "cell_type": "code",
   "execution_count": null,
   "metadata": {},
   "outputs": [],
   "source": [
    "EnsemblePlot.plotVelocityInfo(ensemble)\n",
    "print('hei')\n",
    "iewpf.iewpf_2stage(ensemble, perform_step=False)\n",
    "EnsemblePlot.plotVelocityInfo(ensemble)\n",
    "print('hei')\n"
   ]
  },
  {
   "cell_type": "code",
   "execution_count": null,
   "metadata": {},
   "outputs": [],
   "source": []
  },
  {
   "cell_type": "code",
   "execution_count": null,
   "metadata": {},
   "outputs": [],
   "source": []
  },
  {
   "cell_type": "code",
   "execution_count": null,
   "metadata": {},
   "outputs": [],
   "source": []
  },
  {
   "cell_type": "code",
   "execution_count": null,
   "metadata": {},
   "outputs": [],
   "source": [
    "obs_times = ensemble.observations.get_observation_times()\n",
    "obs_times[1] - obs_times[0], 300/60"
   ]
  },
  {
   "cell_type": "code",
   "execution_count": null,
   "metadata": {},
   "outputs": [],
   "source": [
    "observations = ensemble.observeParticles()\n",
    "print(observations.shape)"
   ]
  },
  {
   "cell_type": "code",
   "execution_count": null,
   "metadata": {},
   "outputs": [],
   "source": [
    "print(np.var(observations, axis=0)/ensemble.mean_depth**2)"
   ]
  },
  {
   "cell_type": "code",
   "execution_count": null,
   "metadata": {},
   "outputs": [],
   "source": [
    "print(np.sqrt(np.var(observations/ensemble.mean_depth, axis=0)))\n"
   ]
  },
  {
   "cell_type": "code",
   "execution_count": null,
   "metadata": {},
   "outputs": [],
   "source": [
    "innovations = ensemble.getInnovations()\n",
    "print(np.sqrt(np.var(innovations/ensemble.mean_depth, axis=0)))\n",
    "print(np.mean(innovations/ensemble.mean_depth, axis=0))\n",
    "\n"
   ]
  },
  {
   "cell_type": "code",
   "execution_count": null,
   "metadata": {},
   "outputs": [],
   "source": []
  }
 ],
 "metadata": {
  "git": {
   "suppress_outputs": false
  },
  "kernelspec": {
   "display_name": "Python [conda env:gpuocean]",
   "language": "python",
   "name": "conda-env-gpuocean-py"
  },
  "language_info": {
   "codemirror_mode": {
    "name": "ipython",
    "version": 3
   },
   "file_extension": ".py",
   "mimetype": "text/x-python",
   "name": "python",
   "nbconvert_exporter": "python",
   "pygments_lexer": "ipython3",
   "version": "3.6.7"
  }
 },
 "nbformat": 4,
 "nbformat_minor": 2
}
