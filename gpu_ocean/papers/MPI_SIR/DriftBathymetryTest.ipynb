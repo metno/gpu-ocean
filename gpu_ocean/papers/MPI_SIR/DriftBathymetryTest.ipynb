{
 "cells": [
  {
   "cell_type": "markdown",
   "metadata": {},
   "source": [
    "```\n",
    "This notebook shows some tests related to passive drifters simulated\n",
    "on the GPU.\n",
    "\n",
    "Copyright (C) 2018, 2019  SINTEF ICT\n",
    "\n",
    "This program is free software: you can redistribute it and/or modify\n",
    "it under the terms of the GNU General Public License as published by\n",
    "the Free Software Foundation, either version 3 of the License, or\n",
    "(at your option) any later version.\n",
    "\n",
    "This program is distributed in the hope that it will be useful,\n",
    "but WITHOUT ANY WARRANTY; without even the implied warranty of\n",
    "MERCHANTABILITY or FITNESS FOR A PARTICULAR PURPOSE.  See the\n",
    "GNU General Public License for more details.\n",
    "\n",
    "You should have received a copy of the GNU General Public License\n",
    "along with this program.  If not, see <http://www.gnu.org/licenses/>.\n",
    "```"
   ]
  },
  {
   "cell_type": "markdown",
   "metadata": {},
   "source": [
    "# Testing drift with varying bathymetry"
   ]
  },
  {
   "cell_type": "markdown",
   "metadata": {},
   "source": [
    "#### Import modules and set up environment"
   ]
  },
  {
   "cell_type": "code",
   "execution_count": null,
   "metadata": {},
   "outputs": [],
   "source": [
    "#Lets have matplotlib \"inline\"\n",
    "%matplotlib inline\n",
    "%config InlineBackend.figure_format = 'retina'\n",
    "\n",
    "#Import packages we need\n",
    "import numpy as np\n",
    "from matplotlib import animation, rc\n",
    "from matplotlib import pyplot as plt\n",
    "from matplotlib import gridspec\n",
    "\n",
    "\n",
    "import os\n",
    "import datetime\n",
    "import sys\n",
    "from importlib import reload\n",
    "sys.path.insert(0, os.path.abspath(os.path.join(os.getcwd(), '../../')))\n",
    "\n",
    "#Set large figure sizes\n",
    "rc('figure', figsize=(16.0, 12.0))\n",
    "rc('animation', html='html5')\n",
    "\n",
    "#Import our simulator\n",
    "from SWESimulators import CDKLM16, PlotHelper, Common, IPythonMagic\n",
    "#Import initial condition and bathymetry generating functions:\n",
    "from SWESimulators.BathymetryAndICs import *\n",
    "from SWESimulators import GPUDrifterCollection\n"
   ]
  },
  {
   "cell_type": "code",
   "execution_count": null,
   "metadata": {},
   "outputs": [],
   "source": [
    "#%setup_logging passive_gpu_drifter.log\n",
    "%cuda_context_handler gpu_ctx"
   ]
  },
  {
   "cell_type": "markdown",
   "metadata": {
    "collapsed": true
   },
   "source": [
    "# Passive drift trajectories in the SWE simulators\n",
    "\n",
    "Here, we will make a naive implementation of particles drifting within our simplified ocean models.\n",
    "For simplicity, a non-staggered implementation is chosen, as it makes it easier to evaluate the velocity field.\n"
   ]
  },
  {
   "cell_type": "code",
   "execution_count": null,
   "metadata": {},
   "outputs": [],
   "source": [
    "nx = 50\n",
    "ny = 50\n",
    "\n",
    "dx = 4.0\n",
    "dy = 4.0\n",
    "dataShape_Hi = ((ny+4+1, nx+4+1))\n",
    "\n",
    "def runtest(Hi, simulate=True):\n",
    "    \n",
    "    figHi = plt.figure(figsize=(5,4))\n",
    "    plt.imshow(Hi, origin='lower', interpolation='None')\n",
    "    plt.colorbar()\n",
    "    \n",
    "    if not simulate:\n",
    "        return\n",
    "    \n",
    "    #Coriolis well balanced reconstruction scheme\n",
    "    dt = 0.1\n",
    "    g = 9.81\n",
    "\n",
    "    f = 0.0\n",
    "    r = 0.0\n",
    "\n",
    "    ghosts = np.array([2,2,2,2]) # north, east, south, west\n",
    "    validDomain = np.array([2,2,2,2])\n",
    "    bc = Common.BoundaryConditions(2,2,2,2)\n",
    "\n",
    "    # Define which cell index which has lower left corner as position (0,0)\n",
    "    x_zero_ref = 2\n",
    "    y_zero_ref = 2\n",
    "\n",
    "    dataShape = (ny + ghosts[0]+ghosts[2], \n",
    "                 nx + ghosts[1]+ghosts[3])\n",
    "\n",
    "    eta0 = np.zeros(dataShape, dtype=np.float32, order='C');\n",
    "    hu0 = np.zeros(dataShape, dtype=np.float32, order='C');\n",
    "    hv0 = np.ones(dataShape, dtype=np.float32, order='C')*100;\n",
    "\n",
    "\n",
    "\n",
    "    #Calculate radius from center of bump for plotting\n",
    "    y_coords, x_coords = np.mgrid[0:ny*dy:dy, 0:nx*dx:dx]\n",
    "    radius = None\n",
    "\n",
    "\n",
    "    sim = CDKLM16.CDKLM16(gpu_ctx, eta0, hu0, hv0, Hi,\n",
    "                          nx, ny, dx, dy, dt, g, f, r,\n",
    "                          boundary_conditions=bc)\n",
    "\n",
    "    drifters = GPUDrifterCollection.GPUDrifterCollection(gpu_ctx, 64, boundaryConditions=bc,\n",
    "                                                         domain_size_x=dx*nx,\n",
    "                                                         domain_size_y=dy*ny)\n",
    "    sim.attachDrifters(drifters)\n",
    "\n",
    "    eta1, hu1, hv1 = sim.download()\n",
    "    fig = plt.figure()\n",
    "    plotter = PlotHelper.PlotHelper(fig, x_coords, y_coords, radius, \n",
    "                                    eta1, hu1, hv1)\n",
    "\n",
    "    plotter.showDrifters(sim.drifters)\n",
    "\n",
    "    T = 100\n",
    "    sub_t = 100*dt\n",
    "\n",
    "    def animate(i):\n",
    "        if (i>0):\n",
    "            #t = sim.step(sub_t)\n",
    "            t = sim.drifterStep(sub_t)\n",
    "        else:\n",
    "            t = 0.0\n",
    "\n",
    "        #eta1, hu1, hv1 = sim.download(interior_domain_only=True)\n",
    "        #plotter.plot(eta1, hu1, hv1)\n",
    "\n",
    "        plotter.showDrifters(sim.drifters)\n",
    "\n",
    "        fig.suptitle(\"CDKLM16 Time = \" + \"{:04.0f}\".format(t) + \" s\", fontsize=18)\n",
    "\n",
    "        if (i%20 == 0):\n",
    "            print( \"{:03.0f}\".format(100*i / T) + \" % => t=\" + str(t) + \"\\tMax eta: \" + str(np.max(eta1)) + \\\n",
    "            \"\\tMax hu: \" + str(np.max(hu1)) + \\\n",
    "            \"\\tMax hv: \" + str(np.max(hv1)))\n",
    "\n",
    "    anim = animation.FuncAnimation(fig, animate, range(T), interval=100)\n",
    "    plt.close(anim._fig)\n",
    "    return anim\n",
    "\n"
   ]
  },
  {
   "cell_type": "code",
   "execution_count": null,
   "metadata": {
    "scrolled": false
   },
   "outputs": [],
   "source": [
    "# Testing on varying H\n",
    "Hi = np.zeros(dataShape_Hi, dtype=np.float32, order='C')\n",
    "for i in range(dataShape_Hi[1]):\n",
    "    Hi[:, i] = np.cos(10*i/nx)*5 + 10\n",
    "    \n",
    "runtest(Hi, True)"
   ]
  },
  {
   "cell_type": "code",
   "execution_count": null,
   "metadata": {
    "scrolled": false
   },
   "outputs": [],
   "source": [
    "# Testing on varying H\n",
    "Hi = np.zeros(dataShape_Hi, dtype=np.float32, order='C')\n",
    "for j in range(dataShape_Hi[0]):\n",
    "    Hi[j, :] = np.cos(10*j/ny)*5 + 10\n",
    "    \n",
    "runtest(Hi, True)"
   ]
  },
  {
   "cell_type": "code",
   "execution_count": null,
   "metadata": {},
   "outputs": [],
   "source": [
    "# Testing on varying H\n",
    "Hi = np.zeros(dataShape_Hi, dtype=np.float32, order='C')\n",
    "for j in range(dataShape_Hi[0]):\n",
    "    for i in range(dataShape_Hi[1]):\n",
    "        Hi[j, i] = np.cos(10*j/ny)*np.cos(10*i/nx)*5 + 10\n",
    "    \n",
    "runtest(Hi, True)"
   ]
  },
  {
   "cell_type": "code",
   "execution_count": null,
   "metadata": {},
   "outputs": [],
   "source": []
  }
 ],
 "metadata": {
  "git": {
   "suppress_outputs": true
  },
  "kernelspec": {
   "display_name": "Python [conda env:gpuocean_py36] *",
   "language": "python",
   "name": "conda-env-gpuocean_py36-py"
  },
  "language_info": {
   "codemirror_mode": {
    "name": "ipython",
    "version": 3
   },
   "file_extension": ".py",
   "mimetype": "text/x-python",
   "name": "python",
   "nbconvert_exporter": "python",
   "pygments_lexer": "ipython3",
   "version": "3.6.7"
  }
 },
 "nbformat": 4,
 "nbformat_minor": 1
}
