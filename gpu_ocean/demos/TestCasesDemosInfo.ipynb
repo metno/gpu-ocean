{
 "cells": [
  {
   "cell_type": "markdown",
   "metadata": {},
   "source": [
    "```\n",
    "This software is part of GPU Ocean. \n",
    "\n",
    "Copyright (C) 2018 SINTEF Digital\n",
    "Copyright (C) 2018 Norwegian Meteorological Institute\n",
    "\n",
    "This notebook provides the description of the code found in this \n",
    "software package, which is provided as supplementary material to\n",
    "Test Cases for Rotational Shallow-Water Schemes by Holm, Brodtkorb,\n",
    "Broström, Christensen and Sætra.\n",
    "\n",
    "This program is free software: you can redistribute it and/or modify\n",
    "it under the terms of the GNU General Public License as published by\n",
    "the Free Software Foundation, either version 3 of the License, or\n",
    "(at your option) any later version.\n",
    "\n",
    "This program is distributed in the hope that it will be useful,\n",
    "but WITHOUT ANY WARRANTY; without even the implied warranty of\n",
    "MERCHANTABILITY or FITNESS FOR A PARTICULAR PURPOSE.  See the\n",
    "GNU General Public License for more details.\n",
    "\n",
    "You should have received a copy of the GNU General Public License\n",
    "along with this program.  If not, see <http://www.gnu.org/licenses/>.\n",
    "```"
   ]
  },
  {
   "cell_type": "markdown",
   "metadata": {},
   "source": [
    "# Test Cases for Rotational Shallow-Water Schemes - Software Supplement "
   ]
  },
  {
   "cell_type": "markdown",
   "metadata": {},
   "source": [
    "In the folder `testCasesDemos` you will find Jupyter notebooks which set up and run the test cases defined in the paper *Test Cases for Rotation Shallow-Water Schemes* written by Håvard H. Holm, André R. Brodtkorb, Göran Broström, Kai. H. Christensen, and Martin L. Sætra, and which analyse the corresponding results."
   ]
  },
  {
   "cell_type": "markdown",
   "metadata": {},
   "source": [
    "# The test cases\n",
    "The notebooks are named with a CaseX-prefix to make it easy to find the relevant cases. \n",
    "- **Case A: Traditional Non-rotating Shallow-Water Benchmarks** This is really two test cases. First there is the lake-at-rest benchmark, before SWASHES benchmark 4.1.1. Each of them is presented in their own notebook.\n",
    "  - `testCasesDemos/CaseA_LakeAtRest.ipynb`\n",
    "  - `testCasesDemos/CaseA_SwashesDambreak.ipynb`\n",
    "- **Case B: Rossby Adjustment**. One notebook sets up the test and runs the simulations, whereas the other notebook plots results based on the generated results, or existing simulation results available for download. The reference solution can be obtained from one of the octave-files.\n",
    "  - `testCasesDemos/CaseB_RossbyAdjustment.ipynb`\n",
    "  - `testCasesDemos/CaseB_RossbyAdjustment_Plotting.ipynb`\n",
    "  - `testCasesDemos/matlab/python_like_steady_state.m`\n",
    "- **Case C: The Adjustment Problem for Variable Rossby Radius of Deformation** One notebook sets up the test and run simulations, whereas the other read results and produces plots. Reference solution obtained from octave scripts.\n",
    "  - `testCasesDemos/CaseC_VariableRossbyRadius.ipynb`\n",
    "  - `testCasesDemos/CaseC_VariableRossbyRadius_Plotting.ipynb`\n",
    "  - `testCasesDemos/matlab/variable_depth_steady_state.m`\n",
    "- **Case D: Planetary Rossby Waves** One notebook sets up use cases and runs simulations, the other reads and visualize results.\n",
    "  - `testCasesDemos/CaseD_PlanetaryRossbyWaves.ipynb`\n",
    "  - `testCasesDemos/CaseD_E_RossbyWaves_Plotter.ipynb`\n",
    "- **Case E: Topographic Rossby Waves** One notebook sets up use cases and runs simulations, the other reads and visualize results.\n",
    "  - `testCasesDemos/CaseE_TopographicRossbyWaves.ipynb`\n",
    "  - `testCasesDemos/CaseD_E_RossbyWaves_Plotter.ipynb`\n",
    "- **Numerical order:** One notebook present the experimental setup to investigate convergence rates for the four numerical schemes.\n",
    "  - `testCasesDemos/NumericalOrder.ipynb`\n",
    "- **Computational efficiency** The two notebooks runs an experiment and/or reads experiment results to find the optimal block size for each of the numerical schemes, and to compare the performance of the four schemes. The pure python file is used to set up a single benchmark experiment based on given block and domain sizes.\n",
    "  - `testCasesDemos/Performance_BlockSizeExperiment.ipynb`\n",
    "  - `testCasesDemos/Performance_DomainSizeExperiment.ipynb`\n",
    "  - `testCasesDemos/run_benchmark.py`"
   ]
  }
 ],
 "metadata": {
  "kernelspec": {
   "display_name": "Python 2",
   "language": "python",
   "name": "python2"
  },
  "language_info": {
   "codemirror_mode": {
    "name": "ipython",
    "version": 2
   },
   "file_extension": ".py",
   "mimetype": "text/x-python",
   "name": "python",
   "nbconvert_exporter": "python",
   "pygments_lexer": "ipython2",
   "version": "2.7.12"
  }
 },
 "nbformat": 4,
 "nbformat_minor": 2
}
