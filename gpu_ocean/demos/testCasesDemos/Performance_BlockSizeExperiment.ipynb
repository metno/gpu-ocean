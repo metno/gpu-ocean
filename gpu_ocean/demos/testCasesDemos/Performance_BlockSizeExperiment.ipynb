{
 "cells": [
  {
   "cell_type": "markdown",
   "metadata": {},
   "source": [
    "```\n",
    "This software is part of GPU Ocean. \n",
    "\n",
    "Copyright (C) 2018 SINTEF Digital\n",
    "Copyright (C) 2018 Norwegian Meteorological Institute\n",
    "\n",
    "This notebook implements a test to investigate computational performance for\n",
    "different block sizes for all four numerical schemes, as reported under \n",
    "Section 4.8 Computational Efficiency in Test Cases for Rotational \n",
    "Shallow-Water Schemes by Holm, Brodtkorb, Brostr\u00f6m, Christensen and S\u00e6tra.\n",
    "\n",
    "This program is free software: you can redistribute it and/or modify\n",
    "it under the terms of the GNU General Public License as published by\n",
    "the Free Software Foundation, either version 3 of the License, or\n",
    "(at your option) any later version.\n",
    "\n",
    "This program is distributed in the hope that it will be useful,\n",
    "but WITHOUT ANY WARRANTY; without even the implied warranty of\n",
    "MERCHANTABILITY or FITNESS FOR A PARTICULAR PURPOSE.  See the\n",
    "GNU General Public License for more details.\n",
    "\n",
    "You should have received a copy of the GNU General Public License\n",
    "along with this program.  If not, see <http://www.gnu.org/licenses/>.\n",
    "```"
   ]
  },
  {
   "cell_type": "markdown",
   "metadata": {},
   "source": [
    "# Performance: Block Size Experiment\n",
    "\n",
    "This notebook runs a few timesteps of each of the four numerical schemes on a range of different OpenCL block sizes.\n",
    "The efficiency of each simulation run is reported in a text file, which is later read and processed to obtain the most efficient block sizes on the GPU on your given system.\n",
    "\n",
    "### To look at the results shown in the paper\n",
    "Execute the cells below to read the results obtained for the paper and reproduce the optimalization results.\n",
    "\n",
    "### To find your own optimal block sizes\n",
    "Comment out the second to last line in the second cell (which overwrites the `test_filename` variable) in order to produce your own benchmark results. Optimal block sizes are typically not the same across different GPUs, so your results might differ from those reported in the paper.\n"
   ]
  },
  {
   "cell_type": "code",
   "execution_count": null,
   "metadata": {
    "collapsed": true
   },
   "outputs": [],
   "source": [
    "%matplotlib inline\n",
    "\n",
    "import re\n",
    "import numpy as np\n",
    "import pandas as pd\n",
    "import subprocess\n",
    "import os\n",
    "import os.path\n",
    "import time\n",
    "\n",
    "import matplotlib.pyplot as plt\n",
    "from matplotlib import cm\n",
    "from mpl_toolkits.mplot3d import axes3d, Axes3D"
   ]
  },
  {
   "cell_type": "code",
   "execution_count": null,
   "metadata": {
    "collapsed": false
   },
   "outputs": [],
   "source": [
    "# Generate unique filename\n",
    "test_filename = \"blocksize_benchmark_run_0.txt\"\n",
    "file_test = 0\n",
    "while (os.path.isfile(test_filename)):\n",
    "\n",
    "    test_filename = \"blocksize_benchmark_run_\" + str(file_test) + \".txt\"\n",
    "    file_test += 1\n",
    "    \n",
    "    \n",
    "#Use the existing file, do not generate new data\n",
    "test_filename = \"blocksize_benchmark_run_0.txt\"\n",
    "print(\"Storing data in \" + test_filename)"
   ]
  },
  {
   "cell_type": "code",
   "execution_count": null,
   "metadata": {
    "collapsed": false
   },
   "outputs": [],
   "source": [
    "def runBenchmark(filename):\n",
    "    sim = np.array([\"FBL\", \"CTCS\", \"KP\", \"CDKLM\"])\n",
    "    block_width = np.array([4, 8, 12, 16, 24, 32])\n",
    "    block_height = np.array([4, 8, 12, 16, 24, 32])\n",
    "\n",
    "    block_width, block_height = np.meshgrid(block_width, block_height)\n",
    "    \n",
    "    with open(test_filename, 'w') as test_file:\n",
    "        for k in range(len(sim)):\n",
    "            test_file.write(\"##########################################################################\\n\")\n",
    "            test_file.write(\"Using simulator \" + sim[k] + \".\\n\")\n",
    "            test_file.write(\"##########################################################################\\n\")\n",
    "            for j in range(block_width.shape[1]):\n",
    "                for i in range(block_width.shape[0]):\n",
    "                    \n",
    "                    tic = time.time()\n",
    "                    \n",
    "                    test_file.write(\"=========================================\\n\")\n",
    "                    test_file.write(sim[k] + \" [{:02d} x {:02d}]\\n\".format(block_width[i,j], block_height[i,j]))\n",
    "                    test_file.write(\"-----------------------------------------\\n\")\n",
    "                    cmd = [ \"python\", \"run_benchmark.py\", \"--block_width\", str(block_width[i,j]), \"--block_height\", str(block_height[i,j]), \"--simulator\", sim[k]]\n",
    "                    p = subprocess.Popen(cmd, shell=False, stdin=subprocess.PIPE, stdout=subprocess.PIPE, stderr=subprocess.STDOUT)\n",
    "                    output = p.stdout.read()\n",
    "                    test_file.write(output + \"\\n\")\n",
    "                    test_file.write(\"=========================================\\n\")\n",
    "                    test_file.write(\"\\n\")\n",
    "                    \n",
    "                    toc = time.time()\n",
    "                    \n",
    "                    infostr = sim[k] + \" [{:02d} x {:02d}] completed in {:.02f} s\\n\".format(block_width[i,j], block_height[i,j], (toc-tic))\n",
    "                    test_file.write(infostr)\n",
    "                    print(infostr)\n",
    "                    \n",
    "            test_file.write(\"\\n\\n\\n\")\n",
    "            test_file.flush()\n",
    "            os.fsync(test_file)\n",
    "\n",
    "\n",
    "if not (os.path.isfile(test_filename)):\n",
    "    runBenchmark(test_filename)\n",
    "else:\n",
    "    print(\"Using existing run in \" + test_filename)"
   ]
  },
  {
   "cell_type": "code",
   "execution_count": null,
   "metadata": {
    "collapsed": false
   },
   "outputs": [],
   "source": [
    "def getData(filename):\n",
    "    # State variables\n",
    "    simulator = None\n",
    "    block_width = None\n",
    "    block_height = None\n",
    "\n",
    "    data = np.empty((0, 4))\n",
    "\n",
    "    with open(filename) as origin_file:\n",
    "        for line in origin_file:\n",
    "\n",
    "            # Find simulator\n",
    "            match = re.findall(r'(Using simulator)', line)\n",
    "            if match:\n",
    "                simulator = line.split(' ')[2][:-2]\n",
    "\n",
    "            # Find block size\n",
    "            match = re.findall(r'(Running with domain size)', line)\n",
    "            if match:\n",
    "                block_width = line.split(' ')[10][1:]\n",
    "                block_height = line.split(' ')[12][:-1]\n",
    "\n",
    "            # Find simulator megacells\n",
    "            match = re.findall(r'(Maximum megacells)', line)\n",
    "            if match:\n",
    "                megacells = float(line.split(' ')[4])\n",
    "                data = np.append(data, [[simulator, block_width, block_height, megacells]], axis=0)\n",
    "                \n",
    "                block_width = None\n",
    "                block_height = None\n",
    "\n",
    "    return data\n",
    "\n",
    "data = getData(test_filename)\n",
    "print(data)"
   ]
  },
  {
   "cell_type": "code",
   "execution_count": null,
   "metadata": {
    "collapsed": false,
    "scrolled": false
   },
   "outputs": [],
   "source": [
    "simulators = np.unique(data[:,0])\n",
    "block_widths = np.unique(data[:,1])\n",
    "block_heights = np.unique(data[:,2])\n",
    "\n",
    "for simulator in simulators:\n",
    "    print(simulator)\n",
    "    \n",
    "    df = pd.DataFrame(index=block_widths, columns=block_heights)\n",
    "\n",
    "    # Pick this simulator data only and sort into a dataframe\n",
    "    columns = data[:,0] == simulator\n",
    "    for record in data[columns]:\n",
    "        block_width = record[1]\n",
    "        block_height = record[2]\n",
    "        megacells = np.float32(record[3])\n",
    "        df[block_height][block_width] = megacells\n",
    "        \n",
    "    maximum = np.nanmax(df.values)\n",
    "    minimum = np.nanmin(df.values)\n",
    "    mean = np.nanmean(df.values)\n",
    "    print(df)\n",
    "    print(\"Maximum={:.2f}\".format(maximum))\n",
    "    print(\"Minimum={:.2f}\".format(minimum))\n",
    "    print(\"Mean={:.2f}\".format(mean))\n",
    "\n",
    "    # Plot dataframe\n",
    "    x = df.index.values.astype(np.float32)\n",
    "    y = df.columns.values.astype(np.float32)\n",
    "    z = np.transpose(df.values.astype(np.float32))\n",
    "    \n",
    "    fig = plt.figure()\n",
    "    ax = fig.add_subplot(111)\n",
    "    img = ax.imshow(z, origin='lower', cmap=cm.coolwarm, interpolation=\"None\")\n",
    "    plt.colorbar(img)\n",
    "    plt.xticks( range(len(x)), x )\n",
    "    ax.set_xlabel('Block width')\n",
    "    plt.yticks( range(len(y)), y )\n",
    "    ax.set_ylabel('Block height')\n",
    "    plt.title(simulator)\n",
    "    "
   ]
  },
  {
   "cell_type": "code",
   "execution_count": null,
   "metadata": {
    "collapsed": true
   },
   "outputs": [],
   "source": []
  },
  {
   "cell_type": "code",
   "execution_count": null,
   "metadata": {
    "collapsed": true
   },
   "outputs": [],
   "source": []
  }
 ],
 "metadata": {
  "git": {
   "suppress_outputs": true
  },
  "kernelspec": {
   "display_name": "Python 2",
   "language": "python",
   "name": "python2"
  },
  "language_info": {
   "codemirror_mode": {
    "name": "ipython",
    "version": 2
   },
   "file_extension": ".py",
   "mimetype": "text/x-python",
   "name": "python",
   "nbconvert_exporter": "python",
   "pygments_lexer": "ipython2",
   "version": "2.7.12"
  }
 },
 "nbformat": 4,
 "nbformat_minor": 2
}