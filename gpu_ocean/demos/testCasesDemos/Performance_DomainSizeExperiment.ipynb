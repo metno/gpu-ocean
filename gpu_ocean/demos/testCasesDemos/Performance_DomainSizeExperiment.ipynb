{
 "cells": [
  {
   "cell_type": "markdown",
   "metadata": {},
   "source": [
    "```\n",
    "This software is part of GPU Ocean. \n",
    "\n",
    "Copyright (C) 2018 SINTEF Digital\n",
    "Copyright (C) 2018 Norwegian Meteorological Institute\n",
    "\n",
    "This notebook implements a test to investigate computational performance for\n",
    "different domain sizes for all four numerical schemes, as reported under \n",
    "Section 4.8 Computational Efficiency in Test Cases for Rotational \n",
    "Shallow-Water Schemes by Holm, Brodtkorb, Brostr\u00f6m, Christensen and S\u00e6tra.\n",
    "\n",
    "This program is free software: you can redistribute it and/or modify\n",
    "it under the terms of the GNU General Public License as published by\n",
    "the Free Software Foundation, either version 3 of the License, or\n",
    "(at your option) any later version.\n",
    "\n",
    "This program is distributed in the hope that it will be useful,\n",
    "but WITHOUT ANY WARRANTY; without even the implied warranty of\n",
    "MERCHANTABILITY or FITNESS FOR A PARTICULAR PURPOSE.  See the\n",
    "GNU General Public License for more details.\n",
    "\n",
    "You should have received a copy of the GNU General Public License\n",
    "along with this program.  If not, see <http://www.gnu.org/licenses/>.\n",
    "```"
   ]
  },
  {
   "cell_type": "markdown",
   "metadata": {},
   "source": [
    "# Performance: Domain Size Experiment\n",
    "\n",
    "This notebook runs a few timesteps of each of the four numerical schemes on a range of different domain sizes. Each numerical scheme uses their optimal block sizes, as found according to `Performance_BlockSizeExperiment.ipynb`. The run time of each simulation is reported in a text file, which is later read and processed to look at how efficient each scheme is on different domain sizes.\n",
    "\n",
    "### To look at the results presented in the paper\n",
    "Execute the cells below to read the results obtained for the paper and reproduce the performance results.\n",
    "\n",
    "### To produce your own performance comparison \n",
    "Comment out the second to last line in the second cell (which overwrites the `test_filename` variable) in order to produce your own benchmark results. Optimal block sizes are typically not the same across different GPUs, and you should therefore populate the array `optimal_block_size` in the third code cell with your own results from `Performance_BlockSizeExperiment.ipynb`.\n"
   ]
  },
  {
   "cell_type": "code",
   "execution_count": null,
   "metadata": {
    "collapsed": true
   },
   "outputs": [],
   "source": [
    "%matplotlib inline\n",
    "\n",
    "import re\n",
    "import numpy as np\n",
    "import pandas as pd\n",
    "import subprocess\n",
    "import os\n",
    "import os.path\n",
    "import time\n",
    "\n",
    "import matplotlib.pyplot as plt\n",
    "from matplotlib import cm\n",
    "from mpl_toolkits.mplot3d import axes3d, Axes3D"
   ]
  },
  {
   "cell_type": "code",
   "execution_count": null,
   "metadata": {
    "collapsed": false
   },
   "outputs": [],
   "source": [
    "# Generate unique filename\n",
    "test_filename = \"domain_size_benchmark_run_0.txt\"\n",
    "file_test = 0\n",
    "while (os.path.isfile(test_filename)):\n",
    "\n",
    "    test_filename = \"domain_size_benchmark_run_\" + str(file_test) + \".txt\"\n",
    "    file_test += 1\n",
    "    \n",
    "    \n",
    "#Use the existing file, do not generate new data\n",
    "test_filename = \"domain_size_benchmark_run_0.txt\"\n",
    "print(\"Storing data in \" + test_filename)"
   ]
  },
  {
   "cell_type": "code",
   "execution_count": null,
   "metadata": {
    "collapsed": false
   },
   "outputs": [],
   "source": [
    "def runBenchmark(filename):\n",
    "    sim = np.array([\"FBL\", \"CTCS\", \"KP\", \"CDKLM\"])\n",
    "    domain_size = np.array([256, 512, 1024, 2048, 3192, 4096, 5192, 6144])\n",
    "    optimal_block_size =[(32, 8), (32, 4), (32,16), (32,4)] # (block_width, block_height)\n",
    "    \n",
    "    with open(test_filename, 'w') as test_file:\n",
    "        for k in range(len(sim)):\n",
    "            test_file.write(\"##########################################################################\\n\")\n",
    "            test_file.write(\"Using simulator \" + sim[k] + \".\\n\")\n",
    "            test_file.write(\"##########################################################################\\n\")\n",
    "            for i in range(domain_size.shape[0]):\n",
    "\n",
    "                tic = time.time()\n",
    "\n",
    "                test_file.write(\"=========================================\\n\")\n",
    "                test_file.write(sim[k] + \" [{:02d} x {:02d}]\\n\".format(domain_size[i], domain_size[i]))\n",
    "                test_file.write(\"-----------------------------------------\\n\")\n",
    "                cmd = [ \"python\", \"run_benchmark.py\", \\\n",
    "                       \"--nx\", str(domain_size[i]), \"--ny\", str(domain_size[i]), \\\n",
    "                       \"--block_width\", str(optimal_block_size[k][0]), \"--block_height\", str(optimal_block_size[k][1]), \\\n",
    "                       \"--simulator\", sim[k], \"--steps_per_download\", \"1000\"]\n",
    "                p = subprocess.Popen(cmd, shell=False, stdin=subprocess.PIPE, stdout=subprocess.PIPE, stderr=subprocess.STDOUT)\n",
    "                output = p.stdout.read()\n",
    "                test_file.write(output + \"\\n\")\n",
    "                test_file.write(\"=========================================\\n\")\n",
    "                test_file.write(\"\\n\")\n",
    "\n",
    "                toc = time.time()\n",
    "\n",
    "                infostr = sim[k] + \" [{:02d} x {:02d}] completed in {:.02f} s\\n\".format(domain_size[i], domain_size[i], (toc-tic))\n",
    "                test_file.write(infostr)\n",
    "                test_file.flush()\n",
    "                os.fsync(test_file)\n",
    "                print(infostr[:-1])\n",
    "                    \n",
    "            test_file.write(\"\\n\\n\\n\")\n",
    "\n",
    "\n",
    "if not (os.path.isfile(test_filename)):\n",
    "    runBenchmark(test_filename)\n",
    "else:\n",
    "    print(\"Using existing run in \" + test_filename)"
   ]
  },
  {
   "cell_type": "code",
   "execution_count": null,
   "metadata": {
    "collapsed": false
   },
   "outputs": [],
   "source": [
    "def getData(filename):\n",
    "    # State variables\n",
    "    simulator = None\n",
    "    domain_size = None\n",
    "\n",
    "    data = np.empty((0, 3))\n",
    "\n",
    "    with open(filename) as origin_file:\n",
    "        for line in origin_file:\n",
    "\n",
    "            # Find simulator\n",
    "            match = re.findall(r'(Using simulator)', line)\n",
    "            if match:\n",
    "                simulator = line.split(' ')[2][:-2]\n",
    "\n",
    "            # Find block size\n",
    "            match = re.findall(r'(Running with domain size)', line)\n",
    "            if match:\n",
    "                domain_size = line.split(' ')[5][1:]\n",
    "\n",
    "            # Find simulator megacells\n",
    "            match = re.findall(r'(Maximum megacells)', line)\n",
    "            if match:\n",
    "                megacells = float(line.split(' ')[4])\n",
    "                data = np.append(data, [[simulator, domain_size, megacells]], axis=0)\n",
    "                \n",
    "                domain_size = None\n",
    "\n",
    "    return data\n",
    "\n",
    "data = getData(test_filename)\n",
    "print(data)"
   ]
  },
  {
   "cell_type": "code",
   "execution_count": null,
   "metadata": {
    "collapsed": true
   },
   "outputs": [],
   "source": [
    "def setBwStyles(ax):\n",
    "    from cycler import cycler\n",
    "\n",
    "    ax.set_prop_cycle( cycler('marker', ['.', 'x', 4, '+', '*', '1']) +\n",
    "                       cycler('linestyle', ['-.', '--', ':', '-.', '--', ':']) +\n",
    "                       cycler('markersize', [6, 6, 10, 8, 8, 8]) +\n",
    "                       cycler('color', ['k', 'k', 'k', 'k', 'k', 'k']) )"
   ]
  },
  {
   "cell_type": "code",
   "execution_count": null,
   "metadata": {
    "collapsed": false
   },
   "outputs": [],
   "source": [
    "simulators = np.unique(data[:,0])\n",
    "\n",
    "fig = plt.figure()\n",
    "setBwStyles(fig.gca())\n",
    "\n",
    "for simulator in simulators:\n",
    "    print(simulator)\n",
    "    \n",
    "    columns = data[:,0] == simulator\n",
    "    \n",
    "    domain_sizes = data[columns,1].astype(np.float32)\n",
    "    megacells = data[columns,2].astype(np.float32)\n",
    "    \n",
    "    plt.loglog(domain_sizes*domain_sizes, megacells, label=simulator)\n",
    "\n",
    "plt.legend(loc=0)\n",
    "\n",
    "print_domain_sizes = np.array([256, 512, 1024, 2048, 4096])\n",
    "plt.xticks( print_domain_sizes*print_domain_sizes, map(lambda x: \"$\" + str(x) + \"^2$\", print_domain_sizes ) )\n",
    "plt.xlabel(\"Domain size\")\n",
    "plt.ylabel(\"Megacells/s\")\n",
    "plt.savefig(test_filename.replace(\"txt\", \"pdf\"))"
   ]
  },
  {
   "cell_type": "code",
   "execution_count": null,
   "metadata": {
    "collapsed": true
   },
   "outputs": [],
   "source": []
  },
  {
   "cell_type": "code",
   "execution_count": null,
   "metadata": {
    "collapsed": true
   },
   "outputs": [],
   "source": []
  }
 ],
 "metadata": {
  "git": {
   "suppress_outputs": true
  },
  "kernelspec": {
   "display_name": "Python 2",
   "language": "python",
   "name": "python2"
  },
  "language_info": {
   "codemirror_mode": {
    "name": "ipython",
    "version": 2
   },
   "file_extension": ".py",
   "mimetype": "text/x-python",
   "name": "python",
   "nbconvert_exporter": "python",
   "pygments_lexer": "ipython2",
   "version": "2.7.12"
  }
 },
 "nbformat": 4,
 "nbformat_minor": 2
}