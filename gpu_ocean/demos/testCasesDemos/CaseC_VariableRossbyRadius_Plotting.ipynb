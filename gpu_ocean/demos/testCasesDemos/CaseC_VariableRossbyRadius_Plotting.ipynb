{
 "cells": [
  {
   "cell_type": "markdown",
   "metadata": {},
   "source": [
    "```\n",
    "This software is part of GPU Ocean. \n",
    "\n",
    "Copyright (C) 2017, 2018 SINTEF Digital\n",
    "Copyright (C) 2017, 2018 Norwegian Meteorological Institute\n",
    "\n",
    "This notebook implements the plotting of Rossby adjustment for variable Rossby radius \n",
    "of deformation test case, as reported under Case C in Test Cases for \n",
    "Rotational Shallow-Water Schemes by Holm, Brodtkorb, Brostr\u00f6m, Christensen \n",
    "and S\u00e6tra.\n",
    "\n",
    "This program is free software: you can redistribute it and/or modify\n",
    "it under the terms of the GNU General Public License as published by\n",
    "the Free Software Foundation, either version 3 of the License, or\n",
    "(at your option) any later version.\n",
    "\n",
    "This program is distributed in the hope that it will be useful,\n",
    "but WITHOUT ANY WARRANTY; without even the implied warranty of\n",
    "MERCHANTABILITY or FITNESS FOR A PARTICULAR PURPOSE.  See the\n",
    "GNU General Public License for more details.\n",
    "\n",
    "You should have received a copy of the GNU General Public License\n",
    "along with this program.  If not, see <http://www.gnu.org/licenses/>.\n",
    "```"
   ]
  },
  {
   "cell_type": "markdown",
   "metadata": {},
   "source": [
    "# Plotting of Case C: The Adjustment Problem for Variable Rossby Radius of Deformation\n",
    "\n",
    "This notebook creates the plots which analyse the results of Case C. The input to this notebook is expected to be json-files containing lists of simulation results in the form of NetCDF file names. The netcdf and json files can be produced by the notebook `CaseC_VariableRossbyRadius.ipynb`.\n",
    "\n",
    "**To use this notebook**, either\n",
    "- produce your own simulation results and change the input file-names in the code below, or\n",
    "- use the provided files which are used below as default. You would then be required to download the NetCDF files from `http://gpu-ocean.met.no:9000/python/netcdf_2018_01_25/` and `http://gpu-ocean.met.no:9000/python/netcdf_2018_01_26/`.\n",
    "\n",
    "The results obtained in the paper comes from two different excecutions of `CaseC_VariableRossbyRadius.ipynb`. This is because of a typo in one of the parameters for the CDKLM and KP simulators in the first simulation set, and to save time, only those two where reproduced in the second run. The easiest way to read all results from a single json file, is to put the same json file name for both variables `json_file_name` and `json_fvm_file_name`.\n",
    "\n",
    "**Reference solutions** can be generated from octave by running the file `matlab/variable_depth_steady_state.m`. This notebook works both with and without reference solutions."
   ]
  },
  {
   "cell_type": "markdown",
   "metadata": {},
   "source": [
    "# Rossby adjustment on different depths\n",
    "\n",
    "In this notebook we investigate different properties with our numerical schemes related to geostrophic balance when we vary the water depth. Geostrophic balance represent steady state solutions where the pressure gradients are balanced by the Coriolis forces.\n",
    "\n",
    "## Geostrophic Balance\n",
    "\n",
    "The geostrophic equations in rotating shalow water is given by\n",
    "$$ \\frac{\\partial u}{\\partial t} - fv  = - \\frac{1}{\\rho} \\frac{\\partial p}{\\partial x}, $$\n",
    "$$ \\frac{\\partial v}{\\partial t} + fu  = - \\frac{1}{\\rho} \\frac{\\partial p}{\\partial y}. $$\n",
    "By the assumption that the vertical velocity is negligible compared to the horizontal velocity, we integrate the equations vertically.\n",
    "Using hydrostatic pressure $ p = \\rho g (H+\\eta) + p_{atm}$, we get an expression for the change in momentum as\n",
    "$$ \\frac{\\partial hu}{\\partial t} =  fhv - gh\\frac{\\partial \\eta}{\\partial x}, $$\n",
    "$$ \\frac{\\partial hv}{\\partial t} = -fhu - gh\\frac{\\partial \\eta}{\\partial y}. $$\n",
    "At geostrophic balance, the steady state solution is described by $\\frac{\\partial hv}{\\partial t} = \\frac{\\partial hu}{\\partial t} = 0$.\n",
    "\n",
    "\n",
    "*What are the references for the above explanation?*\n",
    "\n",
    "###### Additional geostrophy equation\n",
    "The following equation is related to the above, to describe the steady-state of the surface elevation:\n",
    "$$\\frac{\\partial \\eta}{\\partial t} + hu\\frac{\\partial \\eta }{\\partial x } + hv \\frac{\\partial \\eta }{\\partial y} = 0 $$"
   ]
  },
  {
   "cell_type": "markdown",
   "metadata": {},
   "source": [
    "## Rossby adjustment\n",
    "Rossby adjustment is the process where an initial bump (of some sort), $\\eta_0$, reaches the geostrophic balance steady-state $\\bar{\\eta}$. The size of the steady-state bump can be described by gravity\u00a0$g$, lake-at-rest depth\u00a0$H$ and Coriolis forces $f$ by the Klein-Gordon equation,\n",
    "$$ -c_0^2 \\nabla^2 \\bar{\\eta} + f^2 (\\bar{\\eta} - \\eta_0) = 0, $$\n",
    "or, more commonly (?),\n",
    "$$  \\nabla^2 \\bar{\\eta} -  \\left( \\frac{1}{a} \\right)^2 (\\bar{\\eta} - \\eta_0) = 0. $$\n",
    "In this equation, $(1/a)^2$\u00a0is the Rossby radius. The constant $c_0^2 = gH$, meaning that $a^2 = gH/f^2$. \n",
    "The physical interpretation of the Rossby radius, $a$, is shown in the first figure below the initial imports.\n",
    "\n",
    "Additionally, the steady-state solution should be reached within a period given by $\\approx \\pi/f$.\n"
   ]
  },
  {
   "cell_type": "markdown",
   "metadata": {},
   "source": [
    "## Varying water depth\n",
    "\n",
    "The height of the steady state bump should change relative to the initial condition bump as follows when the depth is changed.\n",
    "* When the depth increase, $\\bar{\\eta}_{max}/{\\eta_0}_{max}$ should decrease\n",
    "* When the depth increase, $\\int\\bar{\\eta}\\;/\\int{\\eta_0}$ should increase.\n",
    "\n",
    "Here, $\\eta_0$ is the initial condition, and $\\bar{\\eta}$ is the steady state.\n",
    "The integral is the sum of $\\eta$ in all cells in a neighbourhood of the bump.\n",
    "\n"
   ]
  },
  {
   "cell_type": "markdown",
   "metadata": {},
   "source": [
    "# Setting up the environment"
   ]
  },
  {
   "cell_type": "code",
   "execution_count": null,
   "metadata": {
    "collapsed": false,
    "scrolled": false
   },
   "outputs": [],
   "source": [
    "#Lets have matplotlib \"inline\"\n",
    "%matplotlib inline\n",
    "%config InlineBackend.figure_format = 'retina'\n",
    "\n",
    "#Import packages we need\n",
    "import numpy as np\n",
    "from matplotlib import animation, rc\n",
    "from matplotlib import pyplot as plt\n",
    "from matplotlib import gridspec as gridspec\n",
    "\n",
    "import os, pyopencl, datetime\n",
    "import json\n",
    "import subprocess\n",
    "import sys\n",
    "sys.path.insert(0, os.path.abspath(os.path.join(os.getcwd(), '../../')))\n",
    "\n",
    "import scipy.io\n",
    "import os.path\n",
    "\n",
    "# requires netcdf4-python (netcdf4-python.googlecode.com)\n",
    "from netCDF4 import Dataset as NetCDFFile\n",
    "\n",
    "#Set large figure sizes\n",
    "rc('figure', figsize=(16.0, 12.0))\n",
    "rc('animation', html='html5')\n",
    "\n",
    "#Finally, import our simulator\n",
    "from SWESimulators import FBL, CTCS, KP07, CDKLM16, SimReader, PlotHelper, Common\n",
    "from SWESimulators.BathymetryAndICs import *"
   ]
  },
  {
   "cell_type": "markdown",
   "metadata": {},
   "source": [
    "## Setting some of the parameters used in the simulations"
   ]
  },
  {
   "cell_type": "code",
   "execution_count": null,
   "metadata": {
    "collapsed": true
   },
   "outputs": [],
   "source": [
    "nx = 800\n",
    "ny = 1000\n",
    "\n",
    "dx = 50000\n",
    "dy = 50000\n",
    "\n",
    "dt = 100\n",
    "g = 9.81\n",
    "f = 1.2e-4\n",
    "r = 0.0\n",
    "\n",
    "geoBalancePlot = True"
   ]
  },
  {
   "cell_type": "markdown",
   "metadata": {},
   "source": [
    "### Evaluating the \"steady state\"ness of the solution by looking at Klein-Gordon"
   ]
  },
  {
   "cell_type": "code",
   "execution_count": null,
   "metadata": {
    "collapsed": false
   },
   "outputs": [],
   "source": [
    "\"\"\"\n",
    "Returns d/dx(0.5*g*h*h) + fhv\n",
    "\"\"\"\n",
    "def geostrophicBalanceEta(eta, H, hu, hv, nx, ny, dx, dy, f, g):\n",
    "    return geostrophicBalance(eta+H, hu, hv, nx, ny, dx, dy, f, g)\n",
    "\n",
    "def geostrophicBalance(h, hu, hv, nx, ny, dx, dy, f, g):\n",
    "    # Expect 0 ghost cells in input arrays\n",
    "    A = hu*hv/h\n",
    "    B = hu*hu/h\n",
    "    C = 0.5*g*h*h\n",
    "    D = -f*hv\n",
    "    \n",
    "    Ay = np.zeros_like(A)\n",
    "    Bx = np.zeros_like(B)\n",
    "    Cx = np.zeros_like(C)\n",
    "    \n",
    "    Ay[1:-1,:] = (A[:-2,:] - A[2:,:])/(2*dy)\n",
    "    Bx[:, 1:-1] = (B[:,:-2] - B[:,2:])/(2*dx)\n",
    "    Cx[:, 1:-1] = (C[:,:-2] - C[:,2:])/(2*dx)\n",
    "    \n",
    "    #geoBalance = (Cx )/D - 1\n",
    "    geoBalance = Cx - D\n",
    "    #geoBalance = (Ay + Bx + Cx )/D - 1\n",
    "    #geoBalance = (Ay + Bx + Cx - D)/(0.5*(Ay + Bx + Cx + D))\n",
    "    return geoBalance\n",
    "\n",
    "def geostrophicBalanceStaggered(eta, H, hu_s, hv_s, nx, ny, dx, dy, f, g):\n",
    "    # Expect 0 ghost cells only\n",
    "       \n",
    "    h = eta + H\n",
    "    hu = 0.5*(hu_s[:, :-1] + hu_s[:, 1:])\n",
    "    hv = 0.5*(hv_s[:-1, :] + hv_s[1:, :])\n",
    "    return geostrophicBalance(h, hu, hv, nx, ny, dx, dy, f, g )\n",
    "\n",
    "## Here, we assume that ghost cells are a part of the picture, and that there are 10 in all direction\n",
    "def evaluateBalance(eta_tot, hu_tot, hv_tot, H):\n",
    "    staggered = not (eta_tot.shape == hu_tot.shape)\n",
    "    eta = eta_tot[10:-10, 10:-10]\n",
    "    hu  =  hu_tot[10:-10, 10:-10]\n",
    "    hv  =  hv_tot[10:-10, 10:-10]\n",
    "    if staggered:\n",
    "        geoBalance_x = geostrophicBalanceStaggered(eta,   H,   hu,   hv, nx, ny, dx, dy,  f, g)\n",
    "        geoBalance_y = geostrophicBalanceStaggered(eta.T, H, hv.T, hu.T, nx, ny, dx, dy, -f, g)\n",
    "    else:\n",
    "        geoBalance_x = geostrophicBalanceEta(eta,   H,   hu,   hv, nx, ny, dx, dy,  f, g)\n",
    "        geoBalance_y = geostrophicBalanceEta(eta.T, H, hv.T, hu.T, nx, ny, dx, dy, -f, g)\n",
    "    print \"max geobalances - (x,y): \", (np.max(geoBalance_x), np.max(geoBalance_y))\n",
    "\n",
    "    if geoBalancePlot:\n",
    "        fig = plt.figure(figsize=(10, 4))\n",
    "        plt.subplot(1,3,1)\n",
    "        plt.imshow(geoBalance_x, interpolation=\"none\", origin='lower')\n",
    "        plt.title(\"x-direction\")\n",
    "        plt.colorbar()\n",
    "        plt.subplot(1,3,2)\n",
    "        plt.imshow(geoBalance_y.T, interpolation=\"none\", origin='lower')\n",
    "        plt.title(\"y-direction\")\n",
    "        plt.colorbar()\n",
    "        plt.subplot(1,3,3)\n",
    "        ax0imshow = plt.imshow(eta, interpolation=\"none\", origin='lower')\n",
    "        plt.title('eta')\n",
    "        ax0imshow.set_clim(-0.01, 0.01)\n",
    "        plt.colorbar()\n",
    "        plt.suptitle('H0 = ' + str(H))\n",
    "        "
   ]
  },
  {
   "cell_type": "markdown",
   "metadata": {},
   "source": [
    "## Start Post Proc\n"
   ]
  },
  {
   "cell_type": "code",
   "execution_count": null,
   "metadata": {
    "collapsed": false
   },
   "outputs": [],
   "source": [
    "\n",
    "jsondir = \"rossbyAdjustmentResults/\"\n",
    "\n",
    "# Staggered results (and wrong FVM results):\n",
    "json_file_name = jsondir + \"all_simulators_2018_01_25-15_42_29.json\"\n",
    "# Results for CDKLM and KP07:\n",
    "json_fvm_file_name = jsondir + \"all_simulators_2018_01_26-12_29_28.json\"\n",
    "\n",
    "json_element = None\n",
    "with open(json_file_name, mode='r') as json_file:\n",
    "    json_element =  json.load(json_file)\n",
    "\n",
    "json_fvm_element = None\n",
    "with open(json_fvm_file_name, mode='r') as json_file:\n",
    "    json_fvm_element = json.load(json_file)\n"
   ]
  },
  {
   "cell_type": "code",
   "execution_count": null,
   "metadata": {
    "collapsed": false,
    "scrolled": false
   },
   "outputs": [],
   "source": [
    "# Read results and find the relative eta diff\n",
    "sim_rel_eta = []\n",
    "sim_H = []\n",
    "sim_name = 'CTCS' # FBL, CTCS, KP07 or CDKLM\n",
    "sim_list = json_element[sim_name]\n",
    "if (sim_name is 'KP07' or sim_name is 'CDKLM'):\n",
    "    sim_list = json_fvm_element[sim_name]\n",
    "for sim in sim_list:\n",
    "    sim_H.append(sim['depth'])\n",
    "    sim_rel_eta.append(sim['eta_max']/sim['eta_init_max'])\n",
    "    \n",
    "    sim_sim = SimReader.SimNetCDFReader(sim['netcdf_file_name'])\n",
    "    sim_eta1, u1, v1, t = sim_sim.getLastTimeStep()\n",
    "    evaluateBalance(sim_eta1, u1, v1, sim['depth'])\n",
    "\n",
    "fig = plt.figure(figsize=(6,4))\n",
    "plt.plot(sim_H, sim_rel_eta)\n",
    "plt.title(sim_name + \" - relative max height\")\n",
    "plt.xlabel(\"depth\")"
   ]
  },
  {
   "cell_type": "markdown",
   "metadata": {},
   "source": [
    "## Read reference solution from matlab output"
   ]
  },
  {
   "cell_type": "code",
   "execution_count": null,
   "metadata": {
    "collapsed": false
   },
   "outputs": [],
   "source": [
    "reference_sol_file_name = \"matlab/varDepthMax.mat\"\n",
    "reference_sol_exists = False\n",
    "if os.path.isfile(reference_sol_file_name):\n",
    "    reference_sol = scipy.io.loadmat(reference_sol_file_name)\n",
    "    reference_sol_exists = True\n",
    "    print \"------------------\"\n",
    "    print type(reference_sol)\n",
    "    for key, val in reference_sol.iteritems():\n",
    "        print key, \": \", type(val)\n",
    "    #    if str(type(val)) == \"<type 'numpy.ndarray'>\":\n",
    "    #        print \"\\t\\t\", val.shape\n",
    "    #print \"-------------------------\"\n",
    "    \n",
    "    reference_hmax = reference_sol['hmax'][0,:]\n",
    "    reference_H = reference_sol['HH'][0,:]\n",
    "    reference_H0 = reference_sol['s']\n",
    "    print type(reference_hmax), reference_hmax.shape\n",
    "    print type(reference_H), reference_H.shape\n",
    "    \n",
    "    fig = plt.figure(figsize=(6,4))\n",
    "    plt.plot(reference_H, reference_hmax)\n",
    "    print reference_H\n",
    "    print reference_hmax\n",
    "    \n",
    "    print type(reference_H0), reference_H0.shape, np.max(reference_H0)"
   ]
  },
  {
   "cell_type": "markdown",
   "metadata": {},
   "source": [
    "### Plotting"
   ]
  },
  {
   "cell_type": "code",
   "execution_count": null,
   "metadata": {
    "collapsed": false
   },
   "outputs": [],
   "source": [
    "sim_names = ['FBL', 'CTCS', 'KP07', 'CDKLM']\n",
    "ticks = ['bs-', 'y^:', 'ro-.', 'gv--']\n",
    "\n",
    "fig = plt.figure(figsize=(6,4))\n",
    "i = 0\n",
    "if reference_sol_exists:\n",
    "    plt.plot(reference_H, reference_hmax, 'mx--', label='Reference')\n",
    "for sim_name in sim_names:\n",
    "    sim_rel_eta = []\n",
    "    sim_H = []\n",
    "    sim_list = json_element[sim_name]\n",
    "    if (sim_name is 'KP07' or sim_name is 'CDKLM'):\n",
    "        sim_list = json_fvm_element[sim_name]\n",
    "    for sim in sim_list:\n",
    "        sim_H.append(sim['depth'])\n",
    "        sim_rel_eta.append(sim['eta_max']/sim['eta_init_max'])\n",
    "    if sim_name == 'KP07':\n",
    "        sim_name = 'KP'\n",
    "    plt.plot(sim_H, sim_rel_eta, ticks[i], label=sim_name)\n",
    "    i = i+1\n",
    "plt.xlabel(\"$H_0$ (m)\", fontsize=14)\n",
    "plt.ylabel(\"$\\max(\\eta)/\\max(\\eta_0)$\", fontsize=14)\n",
    "plt.legend()\n",
    "plt.grid()\n",
    "plt.tight_layout()\n",
    "fig.savefig(jsondir + \"rossby_adjustment_different_depths.png\")\n"
   ]
  }
 ],
 "metadata": {
  "git": {
   "suppress_outputs": true
  },
  "kernelspec": {
   "display_name": "Python 2",
   "language": "python",
   "name": "python2"
  },
  "language_info": {
   "codemirror_mode": {
    "name": "ipython",
    "version": 2
   },
   "file_extension": ".py",
   "mimetype": "text/x-python",
   "name": "python",
   "nbconvert_exporter": "python",
   "pygments_lexer": "ipython2",
   "version": "2.7.12"
  }
 },
 "nbformat": 4,
 "nbformat_minor": 0
}