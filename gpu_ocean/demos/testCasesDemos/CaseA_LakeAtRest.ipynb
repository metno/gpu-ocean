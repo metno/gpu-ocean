{
 "cells": [
  {
   "cell_type": "markdown",
   "metadata": {},
   "source": [
    "```\n",
    "This software is part of GPU Ocean. \n",
    "\n",
    "Copyright (C) 2017, 2018 SINTEF Digital\n",
    "Copyright (C) 2017, 2018 Norwegian Meteorological Institute\n",
    "\n",
    "This notebook implements the lake-at-rest steady-state test case, as \n",
    "reported under Case A in Test Cases for Rotational Shallow-Water Schemes\n",
    "by Holm, Brodtkorb, Brostr\u00f6m, Christensen and S\u00e6tra.\n",
    "\n",
    "This program is free software: you can redistribute it and/or modify\n",
    "it under the terms of the GNU General Public License as published by\n",
    "the Free Software Foundation, either version 3 of the License, or\n",
    "(at your option) any later version.\n",
    "\n",
    "This program is distributed in the hope that it will be useful,\n",
    "but WITHOUT ANY WARRANTY; without even the implied warranty of\n",
    "MERCHANTABILITY or FITNESS FOR A PARTICULAR PURPOSE.  See the\n",
    "GNU General Public License for more details.\n",
    "\n",
    "You should have received a copy of the GNU General Public License\n",
    "along with this program.  If not, see <http://www.gnu.org/licenses/>.\n",
    "```"
   ]
  },
  {
   "cell_type": "markdown",
   "metadata": {},
   "source": [
    "#  Case A, part 1: Lake at rest\n",
    "\n",
    "Checking that all simulators are able to preserve lake at rest given smooth non-constant bottom topography."
   ]
  },
  {
   "cell_type": "markdown",
   "metadata": {},
   "source": [
    "#### Import modules and set up environment"
   ]
  },
  {
   "cell_type": "code",
   "execution_count": null,
   "metadata": {
    "collapsed": false
   },
   "outputs": [],
   "source": [
    "#Lets have matplotlib \"inline\"\n",
    "%matplotlib inline\n",
    "%config InlineBackend.figure_format = 'retina'\n",
    "\n",
    "#Import packages we need\n",
    "import numpy as np\n",
    "from matplotlib import animation, rc\n",
    "from matplotlib import pyplot as plt\n",
    "from mpl_toolkits.mplot3d import Axes3D\n",
    "from matplotlib import cm\n",
    "from matplotlib import colors\n",
    "\n",
    "\n",
    "import os\n",
    "import pyopencl\n",
    "import datetime\n",
    "import sys\n",
    "sys.path.insert(0, os.path.abspath(os.path.join(os.getcwd(), '../../')))\n",
    "\n",
    "\n",
    "#Set large figure sizes\n",
    "rc('figure', figsize=(16.0, 12.0))\n",
    "rc('animation', html='html5')\n",
    "\n",
    "#Import our simulator\n",
    "from SWESimulators import FBL, CTCS,KP07, CDKLM16, PlotHelper, Common\n",
    "#Import initial condition and bathymetry generating functions:\n",
    "from SWESimulators.BathymetryAndICs import *"
   ]
  },
  {
   "cell_type": "code",
   "execution_count": null,
   "metadata": {
    "collapsed": false
   },
   "outputs": [],
   "source": [
    "gpu_ctx = Common.CUDAContext()"
   ]
  },
  {
   "cell_type": "markdown",
   "metadata": {},
   "source": [
    "## Setting simulation parameters"
   ]
  },
  {
   "cell_type": "code",
   "execution_count": null,
   "metadata": {
    "collapsed": false,
    "scrolled": false
   },
   "outputs": [],
   "source": [
    "\"\"\"\n",
    "Generates a smooth bottom topography\n",
    "\"\"\"\n",
    "def make2DBottomTopography(h, H0, nx, ny, dx, dy, halo):\n",
    "    for j in range(0, ny+halo[0]+halo[2]):\n",
    "        y = (j-halo[2])/(4*np.pi)\n",
    "        for i in range(0, nx+halo[1]+halo[3]):\n",
    "            x = (i-halo[3])/(4*np.pi)\n",
    "            h[j,i] = H0 + 0.2*(np.cos(y) + np.sin(x))\n",
    "\n"
   ]
  },
  {
   "cell_type": "code",
   "execution_count": null,
   "metadata": {
    "collapsed": false
   },
   "outputs": [],
   "source": [
    "# Simulation parameters:\n",
    "\n",
    "nx = 200\n",
    "ny = 200\n",
    "dx = 1.0\n",
    "dy = 1.0\n",
    "\n",
    "dt = 0.1\n",
    "T1 = 10.0\n",
    "T2 = 100.0\n",
    "T3 = 1000.0\n",
    "\n",
    "# Other paramters:\n",
    "g = 9.81\n",
    "f = 0.2\n",
    "r = 0.0\n",
    "A = 0.0\n",
    "\n",
    "H0 = 1.0\n"
   ]
  },
  {
   "cell_type": "markdown",
   "metadata": {},
   "source": [
    "# Running and evaluating simulations"
   ]
  },
  {
   "cell_type": "code",
   "execution_count": null,
   "metadata": {
    "collapsed": false,
    "scrolled": false
   },
   "outputs": [],
   "source": [
    "def printStats(eta, hu, hv, t):\n",
    "    print \"-- at time \" + str(t) + \" --\"\n",
    "    print \"Max/min eta: \", np.max(eta), np.min(eta)\n",
    "    print \"Max/min hu : \", np.max(hu),  np.min(hu)\n",
    "    print \"Max/min hv : \", np.max(hv),  np.min(hv)\n",
    "\n",
    "\n",
    "\n",
    "## Non-staggered:\n",
    "boundaryConditions = Common.BoundaryConditions()\n",
    "ghosts = np.array([2,2,2,2]) # north, east, south, west\n",
    "validDomain = np.array([2,2,2,2])\n",
    "    \n",
    "dataShape = (ny + ghosts[0]+ghosts[2], \n",
    "             nx + ghosts[1]+ghosts[3])\n",
    "\n",
    "eta0 = np.zeros(dataShape, dtype=np.float32, order='C');\n",
    "u0 = np.zeros(dataShape, dtype=np.float32, order='C');\n",
    "v0 = np.zeros(dataShape, dtype=np.float32, order='C');\n",
    "\n",
    "# Bathymetry:\n",
    "Hi = np.zeros((dataShape[0]+1, dataShape[1]+1), dtype=np.float32, order='C')\n",
    "make2DBottomTopography(Hi, H0, nx+1, ny+1, dx, dy, ghosts)\n",
    "\n",
    "fig = plt.figure(figsize=(5,5))\n",
    "plt.imshow(-Hi)\n",
    "plt.colorbar()\n",
    "plt.title(\"$H_i$\")\n",
    "\n",
    "\n",
    "# KP07\n",
    "sim = KP07.KP07(gpu_ctx, \\\n",
    "                eta0, Hi, u0, v0, \\\n",
    "                nx, ny, \\\n",
    "                dx, dy, dt, \\\n",
    "                g, f, r, \\\n",
    "                boundary_conditions=boundaryConditions)\n",
    "\n",
    "print \"-------------- KP07 -------------- \"\n",
    "print \"T1 = \" + str(T1)\n",
    "t_kp07 = sim.step(T1)\n",
    "eta_kp07, hu_kp07, hv_kp07 = sim.download()\n",
    "printStats(eta_kp07, hu_kp07, hv_kp07, t_kp07)\n",
    "print \"T2 = \" + str(T2)\n",
    "t_kp07 = sim.step(T2)\n",
    "eta_kp07, hu_kp07, hv_kp07 = sim.download()\n",
    "printStats(eta_kp07, hu_kp07, hv_kp07, t_kp07)\n",
    "print \"T3 = \" + str(T3)\n",
    "t_kp07 = sim.step(T3)\n",
    "eta_kp07, hu_kp07, hv_kp07 = sim.download()\n",
    "printStats(eta_kp07, hu_kp07, hv_kp07, t_kp07)\n",
    "\n",
    "fig = plt.figure(figsize=(5,5))\n",
    "plt.imshow(eta_kp07)\n",
    "plt.colorbar()\n",
    "plt.title(\"KP $\\eta$, t = \" + str(t_kp07))\n",
    "\n",
    "\n",
    "# CDKLM16\n",
    "sim = CDKLM16.CDKLM16(gpu_ctx, \\\n",
    "                      eta0, u0, v0, Hi, \\\n",
    "                      nx, ny, \\\n",
    "                      dx, dy, dt, \\\n",
    "                      g, f, r, \\\n",
    "                      boundary_conditions=boundaryConditions)\n",
    "print \"-------------- CDKLM -------------- \"\n",
    "print \"T1 = \" + str(T1)\n",
    "t_cdklm = sim.step(T2)\n",
    "eta_cdklm, hu_cdklm, hv_cdklm = sim.download()\n",
    "printStats(eta_cdklm, hu_cdklm, hv_cdklm, t_cdklm)\n",
    "print \"T2 = \" + str(T2)\n",
    "t_cdklm = sim.step(T2)\n",
    "eta_cdklm, hu_cdklm, hv_cdklm = sim.download()\n",
    "printStats(eta_cdklm, hu_cdklm, hv_cdklm, t_cdklm)\n",
    "print \"T3 = \" + str(T3)\n",
    "t_cdklm = sim.step(T3)\n",
    "eta_cdklm, hu_cdklm, hv_cdklm = sim.download()\n",
    "printStats(eta_cdklm, hu_cdklm, hv_cdklm, t_cdklm)\n",
    "\n",
    "fig = plt.figure(figsize=(5,5))\n",
    "plt.imshow(eta_cdklm)\n",
    "plt.colorbar()\n",
    "plt.title(\"CDKLM $\\eta$, t = \" + str(t_cdklm))\n",
    "\n",
    "\n",
    "## Staggered CTCS\n",
    "ghosts = [1,1,1,1] # north, east, south, west\n",
    "dataShape = (ny + ghosts[0]+ghosts[2], \n",
    "             nx + ghosts[1]+ghosts[3])\n",
    "h0 = np.ones(dataShape, dtype=np.float32, order='C') \n",
    "eta0_ctcs = np.zeros(dataShape, dtype=np.float32, order='C');\n",
    "u0 = np.zeros((dataShape[0], dataShape[1]+1), dtype=np.float32, order='C');\n",
    "v0 = np.zeros((dataShape[0]+1, dataShape[1]), dtype=np.float32, order='C');    \n",
    "make2DBottomTopography(h0, H0, nx, ny, dx, dy, ghosts)\n",
    "\n",
    "ctcs_sim = CTCS.CTCS(gpu_ctx, \\\n",
    "                     h0, eta0_ctcs, u0, v0, \\\n",
    "                     nx, ny, dx, dy, dt, \\\n",
    "                     g, f, r, A, \\\n",
    "                     boundary_conditions=boundaryConditions )\n",
    "\n",
    "print \"-------------- CTCS -------------- \"\n",
    "print \"T1 = \" + str(T1)\n",
    "t_ctcs = ctcs_sim.step(T1)\n",
    "eta_ctcs, hu_ctcs, hv_ctcs = ctcs_sim.download()\n",
    "printStats(eta_ctcs, hu_ctcs, hv_ctcs, t_ctcs)\n",
    "print \"T2 = \" + str(T2)\n",
    "t_ctcs = ctcs_sim.step(T2)\n",
    "eta_ctcs, hu_ctcs, hv_ctcs = ctcs_sim.download()\n",
    "printStats(eta_ctcs, hu_ctcs, hv_ctcs , t_ctcs)\n",
    "\n",
    "\n",
    "## Staggered FBL\n",
    "ghosts = [0,0,0,0]\n",
    "#validDomain = [None, None, 0, 0]    \n",
    "boundaryConditions = Common.BoundaryConditions()\n",
    "dataShape = (ny + ghosts[0]+ghosts[2], \n",
    "             nx + ghosts[1]+ghosts[3])\n",
    "\n",
    "h0 = np.ones(dataShape, dtype=np.float32, order='C')\n",
    "eta0_fbl = np.zeros(dataShape, dtype=np.float32, order='C');\n",
    "u0 = np.zeros((dataShape[0], dataShape[1]+1), dtype=np.float32, order='C');\n",
    "v0 = np.zeros((dataShape[0]+1, dataShape[1]), dtype=np.float32, order='C');\n",
    "make2DBottomTopography(h0, H0, nx, ny, dx, dy, ghosts)\n",
    "\n",
    "fbl_sim = FBL.FBL(gpu_ctx, \\\n",
    "                  h0, eta0_fbl, u0, v0, \\\n",
    "                  nx, ny, \\\n",
    "                  dx, dy, dt, \\\n",
    "                  g, f, r, \\\n",
    "                  boundary_conditions=boundaryConditions)\n",
    "#t = ctcs_sim.step(dt*370)\n",
    "print \"-------------- FBL -------------- \"\n",
    "print \"T1 = \" + str(T1)\n",
    "t_fbl = fbl_sim.step(T1)\n",
    "eta_fbl, hu_fbl, hv_fbl = fbl_sim.download()\n",
    "printStats(eta_fbl, hu_fbl, hv_fbl, t_fbl)\n",
    "print \"T2 = \" + str(T2)\n",
    "t_fbl = fbl_sim.step(T2)\n",
    "eta_fbl, hu_fbl, hv_fbl = fbl_sim.download()\n",
    "printStats(eta_fbl, hu_fbl, hv_fbl, t_fbl)"
   ]
  },
  {
   "cell_type": "code",
   "execution_count": null,
   "metadata": {
    "collapsed": true
   },
   "outputs": [],
   "source": []
  }
 ],
 "metadata": {
  "git": {
   "suppress_outputs": true
  },
  "kernelspec": {
   "display_name": "Python 2",
   "language": "python",
   "name": "python2"
  },
  "language_info": {
   "codemirror_mode": {
    "name": "ipython",
    "version": 2
   },
   "file_extension": ".py",
   "mimetype": "text/x-python",
   "name": "python",
   "nbconvert_exporter": "python",
   "pygments_lexer": "ipython2",
   "version": "2.7.12"
  }
 },
 "nbformat": 4,
 "nbformat_minor": 0
}