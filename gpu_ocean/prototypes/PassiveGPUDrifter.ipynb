{
 "cells": [
  {
   "cell_type": "markdown",
   "metadata": {},
   "source": [
    "```\n",
    "This notebook sets up and runs a set of benchmarks to compare\n",
    "different numerical discretizations of the SWEs\n",
    "\n",
    "Copyright (C) 2016  SINTEF ICT\n",
    "\n",
    "This program is free software: you can redistribute it and/or modify\n",
    "it under the terms of the GNU General Public License as published by\n",
    "the Free Software Foundation, either version 3 of the License, or\n",
    "(at your option) any later version.\n",
    "\n",
    "This program is distributed in the hope that it will be useful,\n",
    "but WITHOUT ANY WARRANTY; without even the implied warranty of\n",
    "MERCHANTABILITY or FITNESS FOR A PARTICULAR PURPOSE.  See the\n",
    "GNU General Public License for more details.\n",
    "\n",
    "You should have received a copy of the GNU General Public License\n",
    "along with this program.  If not, see <http://www.gnu.org/licenses/>.\n",
    "```"
   ]
  },
  {
   "cell_type": "markdown",
   "metadata": {},
   "source": [
    "# Passive drift functionality on GPU\n",
    "\n",
    "This notebook serves as the laboratory for prototyping implementations of passive drift of an object along simulation results from our simplified ocean models.\n",
    "\n",
    "These drift functions will be used to speed up our basic particle filter application, trying to predict passive drift in a chaotic ocean - see BasicParticleFilter.ipynb.\n",
    "\n",
    "The goals will be\n",
    "- [ ] Make a singleGPUPassiveDrifterEnsamble class, holding data positions on the GPU, but where data assimilation part is executed on the CPU.\n",
    "- [ ] ???"
   ]
  },
  {
   "cell_type": "markdown",
   "metadata": {},
   "source": [
    "#### Import modules and set up environment"
   ]
  },
  {
   "cell_type": "code",
   "execution_count": null,
   "metadata": {
    "collapsed": false
   },
   "outputs": [],
   "source": [
    "#Lets have matplotlib \"inline\"\n",
    "%matplotlib inline\n",
    "%config InlineBackend.figure_format = 'retina'\n",
    "\n",
    "#Import packages we need\n",
    "import numpy as np\n",
    "from matplotlib import animation, rc\n",
    "from matplotlib import pyplot as plt\n",
    "from matplotlib import gridspec\n",
    "\n",
    "\n",
    "import os\n",
    "import pyopencl\n",
    "import datetime\n",
    "import sys\n",
    "sys.path.insert(0, os.path.abspath(os.path.join(os.getcwd(), '../')))\n",
    "\n",
    "#Set large figure sizes\n",
    "rc('figure', figsize=(16.0, 12.0))\n",
    "rc('animation', html='html5')\n",
    "\n",
    "#Import our simulator\n",
    "from SWESimulators import CTCS, CDKLM16, PlotHelper, Common\n",
    "#Import initial condition and bathymetry generating functions:\n",
    "from SWESimulators.BathymetryAndICs import *\n",
    "from SWESimulators import GPUDrifterCollection\n",
    "from SWESimulators import DrifterEnsemble\n",
    "from SWESimulators import DataAssimilationUtils as dautils"
   ]
  },
  {
   "cell_type": "code",
   "execution_count": null,
   "metadata": {
    "collapsed": false
   },
   "outputs": [],
   "source": [
    "#Make sure we get compiler output from OpenCL\n",
    "os.environ[\"PYOPENCL_COMPILER_OUTPUT\"] = \"1\"\n",
    "\n",
    "#Set which CL device to use, and disable kernel caching\n",
    "if (str.lower(sys.platform).startswith(\"linux\")):\n",
    "    os.environ[\"PYOPENCL_CTX\"] = \"0\"\n",
    "else:\n",
    "    os.environ[\"PYOPENCL_CTX\"] = \"1\"\n",
    "os.environ[\"CUDA_CACHE_DISABLE\"] = \"1\"\n",
    "os.environ[\"PYOPENCL_COMPILER_OUTPUT\"] = \"1\"\n",
    "os.environ[\"PYOPENCL_NO_CACHE\"] = \"1\"\n",
    "\n",
    "#Create OpenCL context\n",
    "cl_ctx = pyopencl.create_some_context()\n",
    "print \"Using \", cl_ctx.devices[0].name"
   ]
  },
  {
   "cell_type": "markdown",
   "metadata": {},
   "source": [
    "## Thoughts on code structure\n",
    "\n",
    "The observation will in these initial cases be a chosen model realization. When initializing a data assimilation with N particles, N+1 particles should be created and distributed on simulators.\n",
    "\n",
    "One hypothesis for our ocean simulator is that integrating 100 particles within the same simulation is equally expensive as integrating 1 particle. Each particle integration should be done with a single thread on the GPU, so all 100 particles will can be processed in parallel.\n",
    "\n",
    "If this assumption is true, it is best to have all particle positions continuous in memory. Hence, it will be implemented as an struct of array."
   ]
  },
  {
   "cell_type": "markdown",
   "metadata": {
    "collapsed": false
   },
   "source": [
    "## Create random particles, and create random observation\n",
    "**(This text is mainly copy-paste from BasicParticleFilter.ipynb)**\n",
    "\n",
    "Particles are created in a GlobalParticle class, which holds the positions of all ensemble member particles, and one additional particle which serves as our observation.\n",
    "This class should have all computational functionality that relies on the relationships between particles and the observation, and the ensemble itself.\n",
    "\n",
    "Filtering and resampling of particles does not belong in this class.\n",
    "\n",
    "List of functions that could be useful (and which of them are implemented):\n",
    "- [ ] initialize uniform on unit square\n",
    "- [ ] \n",
    "- [w] initialize gaussian \n",
    "- [w] Calculate distances from observation\n",
    "- [w] get weights from Gaussian distribution\n",
    "- [w] get weights from Cauchy distribution\n",
    "- [w] find ensemble mean position\n",
    "- [w] find ensemble variance\n",
    "- [w] set observation to a given coordinate\n",
    "- [w] copy function\n",
    "\n",
    "**About distances**: In order to calculate distances in a unified way, information about boundary conditions needs to be known by the class. E.g., the distance between a particle at $(0.99, 0.99)$ from an observation at $(0.01, 0.02)$ on a unit square domain, is about $\\sqrt{2}$. However, with periodic boundary conditions, their distance is only $0.05$.\n",
    "\n",
    "Let the domain size be $(L_x, L_y)$, and define the particle and observation positions as $(x_p, y_p)$ and $(x_o, y_o)$, respectively.\n",
    "The minimal distance with a periodic boundary can then be found by\n",
    "$$ d_{x,min} = \\min \\left\\{ |x_p - x_o|, |(x_p - L_x) - x_o|, |(x_p + L_x) - x_o| \\right\\}$$\n",
    "$$ d_{y,min} = \\min \\left\\{ |y_p - y_o|, |(y_p - L_y) - y_o|, |(y_p + L_y) - y_o| \\right\\}$$\n",
    "and \n",
    "$$ d_{min} = \\sqrt{ d_{x,min}^2 + d_{y,min}^2}$$\n",
    "\n",
    "** About ensemble mean position**: When finding the mean position of particles, the above considerations needs to be taken as well. The ensemble mean position should be found by the coordinate position which results in the minimal distance given above.\n",
    "In other words, the position we should consider for the mean is\n",
    "$$ x^*_p = {\\arg\\min}_{x \\in \\{x_p, x_p \\pm L_x \\}} |x - x_o|, $$\n",
    "$$ y^*_p = {\\arg\\min}_{y \\in \\{y_p, y_p \\pm L_y \\}} |y - y_o|. $$"
   ]
  },
  {
   "cell_type": "markdown",
   "metadata": {},
   "source": [
    "## The SingleGPUPassiveDrifterEnsemble class"
   ]
  },
  {
   "cell_type": "code",
   "execution_count": null,
   "metadata": {
    "collapsed": false
   },
   "outputs": [],
   "source": [
    "poses = particlesHost = np.zeros((10 + 1, 2))\n",
    "print poses.shape\n",
    "print poses.dtype\n",
    "poses = poses.astype(np.float32, order='C')\n",
    "print poses.dtype"
   ]
  },
  {
   "cell_type": "code",
   "execution_count": null,
   "metadata": {
    "collapsed": false
   },
   "outputs": [],
   "source": [
    "# Read some simulator field from netcfd:\n",
    "netcdf_file_name = \"netcdf_2018_02_12/CDKLM16_2018_02_12-16_52_49.out\"\n",
    "reload(CDKLM16)\n",
    "if 'sim' in globals():\n",
    "    sim.cleanUp()\n",
    "sim = CDKLM16.CDKLM16.fromfilename(cl_ctx, \\\n",
    "                                   netcdf_file_name, \\\n",
    "                                   cont_write_netcdf=False)\n",
    "#eta0, hu0, hv0 = sim.download()\n",
    "Hi = sim.downloadBathymetry()[0]"
   ]
  },
  {
   "cell_type": "code",
   "execution_count": null,
   "metadata": {
    "collapsed": false,
    "scrolled": false
   },
   "outputs": [],
   "source": [
    "reload(DrifterEnsemble)\n",
    "#Clean up old simulator if any:\n",
    "if 'gpuParticles' in globals():\n",
    "    gpuParticles.cleanUp()\n",
    "    \n",
    "numParticles = 100\n",
    "observation_variance = 5*sim.dx\n",
    "gpuParticles = GPUDrifterCollection.GPUDrifterCollection(cl_ctx, numParticles,\n",
    "                                                         observation_variance=observation_variance,\n",
    "                                                         boundaryConditions=sim.boundary_conditions,\n",
    "                                                         domain_size_x=sim.nx*sim.dx,\n",
    "                                                         domain_size_y=sim.ny*sim.dy)\n",
    "gpuParticles.initializeUniform()\n",
    "fig = plt.figure(figsize=(5,5))\n",
    "# Plot host data:\n",
    "plt.plot(gpuParticles.driftersHost[:-1,0], \\\n",
    "         gpuParticles.driftersHost[:-1,1], 'yo')\n",
    "plt.plot(gpuParticles.driftersHost[-1,0], \\\n",
    "         gpuParticles.driftersHost[-1,1], 'ro')\n",
    "# Plot device data:\n",
    "plt.plot(gpuParticles.getDrifterPositions()[:,0], \\\n",
    "         gpuParticles.getDrifterPositions()[:,1], 'k+')\n",
    "plt.plot(gpuParticles.getObservationPosition()[0], \\\n",
    "         gpuParticles.getObservationPosition()[1], 'k+')\n",
    "\n",
    "# Drift\n",
    "for i in range(20):\n",
    "    for j in range(1000):\n",
    "        gpuParticles.drift(sim.cl_data.h0, sim.cl_data.hu0, sim.cl_data.hv0, np.max(Hi), \\\n",
    "                           sim.nx, sim.ny, sim.dx, sim.dy, sim.dt, \\\n",
    "                           np.int32(2), np.int32(2))\n",
    "    \n",
    "    # Plot device data:\n",
    "    plt.plot(gpuParticles.getDrifterPositions()[:,0], \\\n",
    "             gpuParticles.getDrifterPositions()[:,1], 'r.')\n",
    "    plt.plot(gpuParticles.getObservationPosition()[0], \\\n",
    "             gpuParticles.getObservationPosition()[1], 'b.')\n",
    "\n",
    "print gpuParticles.getDomainSizeX()\n",
    "gpuParticles.plotDistanceInfo()"
   ]
  },
  {
   "cell_type": "code",
   "execution_count": null,
   "metadata": {
    "collapsed": false
   },
   "outputs": [],
   "source": [
    "numParticles = 20\n",
    "observation_variance = 0.1\n",
    "gpu2 = GPUDrifterCollection.GPUDrifterCollection(cl_ctx, numParticles,\n",
    "                                                 observation_variance=observation_variance,\n",
    "                                                 boundaryConditions=sim.boundary_conditions)\n",
    "gpu2.initializeUniform()\n",
    "gpu2.plotDistanceInfo()\n",
    "\n",
    "partpos = gpu2.getDrifterPositions()\n",
    "partpos = partpos*0.3 + 0.5 - 0.3/2\n",
    "gpu2.setDrifterPositions(partpos)\n",
    "gpu2.setObservationPosition(np.array([0.5, 0.9]))\n",
    "gpu2.plotDistanceInfo()\n"
   ]
  },
  {
   "cell_type": "markdown",
   "metadata": {
    "collapsed": false
   },
   "source": [
    "## Test resampling"
   ]
  },
  {
   "cell_type": "code",
   "execution_count": null,
   "metadata": {
    "collapsed": false
   },
   "outputs": [],
   "source": [
    "reload(DrifterEnsemble)\n",
    "numParticles = 100\n",
    "observation_variance = 5*sim.dx\n",
    "dummyEnsemble = DrifterEnsemble.DrifterEnsemble(cl_ctx, numParticles,\n",
    "                                                observation_variance=observation_variance)\n",
    "\n",
    "dummyEnsemble.setGridInfo(sim.nx, sim.ny, sim.dx, sim.dy, sim.dt, sim.boundary_conditions)\n",
    "\n",
    "dummyEnsemble.init()\n",
    "dummyEnsemble.plotDistanceInfo(\"Prior resampling\")\n",
    "\n",
    "dautils.probabilisticResampling(dummyEnsemble, reinitialization_variance=10*sim.dx)\n",
    "dummyEnsemble.enforceBoundaryConditions()\n",
    "dummyEnsemble.plotDistanceInfo(\"After resampling\")\n",
    "\n"
   ]
  },
  {
   "cell_type": "markdown",
   "metadata": {
    "collapsed": true
   },
   "source": [
    "# Passive drift trajectories in the SWE simulators\n",
    "\n",
    "Here, we will make a naive implementation of particles drifting within our simplified ocean models.\n",
    "For simplicity, a non-staggered implementation is chosen, as it makes it easier to evaluate the velocity field.\n"
   ]
  },
  {
   "cell_type": "code",
   "execution_count": null,
   "metadata": {
    "collapsed": false
   },
   "outputs": [],
   "source": [
    "# DEFINE PARAMETERS\n",
    "\n",
    "#Coriolis well balanced reconstruction scheme\n",
    "nx = 50\n",
    "ny = 50\n",
    "\n",
    "dx = 4.0\n",
    "dy = 4.0\n",
    "\n",
    "dt = 0.1\n",
    "g = 9.81\n",
    "\n",
    "f = 0.5\n",
    "\n",
    "ghosts = np.array([2,2,2,2]) # north, east, south, west\n",
    "validDomain = np.array([2,2,2,2])\n",
    "boundaryConditions = Common.BoundaryConditions(2,2,2,2)\n",
    "\n",
    "# Define which cell index which has lower left corner as position (0,0)\n",
    "x_zero_ref = 2\n",
    "y_zero_ref = 2\n",
    "\n",
    "dataShape = (ny + ghosts[0]+ghosts[2], \n",
    "             nx + ghosts[1]+ghosts[3])\n",
    "\n",
    "eta0 = np.zeros(dataShape, dtype=np.float32, order='C');\n",
    "\n",
    "# Add disturbance:\n",
    "addBump(eta0, nx, ny, dx, dy, 0.3, 0.5, 0.05, validDomain)\n",
    "addBump(eta0, nx, ny, dx, dy, 0.7, 0.2, 0.10, validDomain)\n",
    "addBump(eta0, nx, ny, dx, dy, 0.1, 0.8, 0.03, validDomain)\n",
    "eta0 = eta0*0.3\n",
    "\n",
    "#Calculate radius from center of bump for plotting\n",
    "x_center = dx*nx/2.0\n",
    "y_center = dy*ny/2.0\n",
    "y_coords, x_coords = np.mgrid[0:ny*dy:dy, 0:nx*dx:dx]\n",
    "#x_coords = np.subtract(x_coords, x_center)\n",
    "#y_coords = np.subtract(y_coords, y_center)\n",
    "radius = np.sqrt(np.multiply(x_coords, x_coords) + np.multiply(y_coords, y_coords))\n",
    "\n"
   ]
  },
  {
   "cell_type": "code",
   "execution_count": null,
   "metadata": {
    "collapsed": false,
    "scrolled": false
   },
   "outputs": [],
   "source": [
    "# Init particles\n",
    "reload(DrifterEnsemble)\n",
    "reload(PlotHelper)\n",
    "np.random.seed(1)\n",
    "numParticles = 50\n",
    "observation_variance = 5*dx\n",
    "resample_variance = 5*dx\n",
    "\n",
    "## Define a bunch of particles to be released within the given domain\n",
    "drifterEnsemble = DrifterEnsemble.DrifterEnsemble(cl_ctx, numParticles,\n",
    "                                             observation_variance=observation_variance)\n",
    "drifterEnsemble.setGridInfo(nx, ny, dx, dy, dt, boundaryConditions, eta=eta0)\n",
    "drifterEnsemble.setParameters(f=f)\n",
    "drifterEnsemble.init()\n",
    "drifterEnsemble.plotDistanceInfo(title=\"Initial particles\")\n",
    "\n",
    "eta1, hu1, hv1 = drifterEnsemble.sim.download()\n",
    "fig = plt.figure()\n",
    "plotter = PlotHelper.PlotHelper(fig, x_coords, y_coords, radius, \n",
    "                                eta1[validDomain[2]:-validDomain[0], validDomain[3]:-validDomain[1]], \n",
    "                                hu1[validDomain[2]:-validDomain[0], validDomain[3]:-validDomain[1]], \n",
    "                                hv1[validDomain[2]:-validDomain[0], validDomain[3]:-validDomain[1]])\n",
    "\n",
    "plotter.showDrifters(drifterEnsemble.sim.drifters)\n",
    "\n",
    "T = 200\n",
    "sub_t = 1000*dt\n",
    "#loopsPerFrame = 10\n",
    "drifterCollections = [drifterEnsemble.sim.drifters.copy()]\n",
    "plotTitles = [\"Initil ensemble\"]\n",
    "\n",
    "def animate(i):\n",
    "    if (i>0):\n",
    "        t = drifterEnsemble.step(sub_t)\n",
    "    else:\n",
    "        t = 0.0\n",
    "\n",
    "    eta1, hu1, hv1 = drifterEnsemble.sim.download()\n",
    "    plotter.plot(eta1[validDomain[2]:-validDomain[0], validDomain[3]:-validDomain[1]], \n",
    "                 hu1[validDomain[2]:-validDomain[0], validDomain[3]:-validDomain[1]], \n",
    "                 hv1[validDomain[2]:-validDomain[0], validDomain[3]:-validDomain[1]]);\n",
    "    \n",
    "    plotter.showDrifters(drifterEnsemble.sim.drifters)\n",
    "     \n",
    "    fig.suptitle(\"CDKLM16 with GPU drift and residualResampling - Time = \" + \"{:04.0f}\".format(t) + \" s\", fontsize=18)\n",
    "    \n",
    "    if (i%50 == 0 and i > 0):\n",
    "        drifterCollections.append(drifterEnsemble.sim.drifters.copy())\n",
    "        plotTitles.append(\"Before particle filter at t = \" + str(t))\n",
    "        \n",
    "        dautils.residualSampling(drifterEnsemble, reinitialization_variance=resample_variance)\n",
    "         \n",
    "        drifterCollections.append(drifterEnsemble.sim.drifters.copy())\n",
    "        plotTitles.append(\"After particle filter at t = \" + str(t))\n",
    "    \n",
    "    if (i%20 == 0):\n",
    "        print \"{:03.0f}\".format(100*i / T) + \" % => t=\" + str(t) + \"\\tMax eta: \" + str(np.max(eta1)) + \\\n",
    "        \"\\tMax hu: \" + str(np.max(hu1)) + \\\n",
    "        \"\\tMax hv: \" + str(np.max(hv1))\n",
    "        print \"\\t\\tObservation pos: \", drifterEnsemble.observeTrueState()\n",
    "                     \n",
    "anim = animation.FuncAnimation(fig, animate, range(T), interval=100)\n",
    "plt.close(anim._fig)\n",
    "anim\n",
    "\n",
    "### Create a field to start from:\n",
    "#sim.step(dt*T*10)\n",
    "#eta1, hu1, hv1 = sim.download()\n",
    "#plotter.plot(eta1[validDomain[2]:-validDomain[0], validDomain[3]:-validDomain[1]], \n",
    "#             hu1[validDomain[2]:-validDomain[0], validDomain[3]:-validDomain[1]], \n",
    "#             hv1[validDomain[2]:-validDomain[0], validDomain[3]:-validDomain[1]])\n",
    "#sim.cleanUp()"
   ]
  },
  {
   "cell_type": "code",
   "execution_count": null,
   "metadata": {
    "collapsed": false
   },
   "outputs": [],
   "source": []
  },
  {
   "cell_type": "code",
   "execution_count": null,
   "metadata": {
    "collapsed": false,
    "scrolled": false
   },
   "outputs": [],
   "source": [
    "for i in range(len(drifterCollections)):\n",
    "    drifterCollections[i].plotDistanceInfo(title=plotTitles[i])"
   ]
  },
  {
   "cell_type": "code",
   "execution_count": null,
   "metadata": {
    "collapsed": false
   },
   "outputs": [],
   "source": []
  },
  {
   "cell_type": "code",
   "execution_count": null,
   "metadata": {
    "collapsed": false
   },
   "outputs": [],
   "source": []
  }
 ],
 "metadata": {
  "git": {
   "suppress_outputs": true
  },
  "kernelspec": {
   "display_name": "Python 2",
   "language": "python",
   "name": "python2"
  },
  "language_info": {
   "codemirror_mode": {
    "name": "ipython",
    "version": 2
   },
   "file_extension": ".py",
   "mimetype": "text/x-python",
   "name": "python",
   "nbconvert_exporter": "python",
   "pygments_lexer": "ipython2",
   "version": "2.7.12"
  }
 },
 "nbformat": 4,
 "nbformat_minor": 0
}