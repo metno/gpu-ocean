{
 "cells": [
  {
   "cell_type": "markdown",
   "metadata": {},
   "source": [
    "```\n",
    "This notebook sets up and runs a set of benchmarks to compare\n",
    "different numerical discretizations of the SWEs\n",
    "\n",
    "Copyright (C) 2016  SINTEF ICT\n",
    "\n",
    "This program is free software: you can redistribute it and/or modify\n",
    "it under the terms of the GNU General Public License as published by\n",
    "the Free Software Foundation, either version 3 of the License, or\n",
    "(at your option) any later version.\n",
    "\n",
    "This program is distributed in the hope that it will be useful,\n",
    "but WITHOUT ANY WARRANTY; without even the implied warranty of\n",
    "MERCHANTABILITY or FITNESS FOR A PARTICULAR PURPOSE.  See the\n",
    "GNU General Public License for more details.\n",
    "\n",
    "You should have received a copy of the GNU General Public License\n",
    "along with this program.  If not, see <http://www.gnu.org/licenses/>.\n",
    "```"
   ]
  },
  {
   "cell_type": "markdown",
   "metadata": {},
   "source": [
    "#### Import modules and set up environment"
   ]
  },
  {
   "cell_type": "code",
   "execution_count": null,
   "metadata": {
    "collapsed": false
   },
   "outputs": [],
   "source": [
    "#Lets have matplotlib \"inline\"\n",
    "%matplotlib inline\n",
    "%config InlineBackend.figure_format = 'retina'\n",
    "\n",
    "#Import packages we need\n",
    "import numpy as np\n",
    "from matplotlib import animation, rc\n",
    "from matplotlib import pyplot as plt\n",
    "from matplotlib import gridspec\n",
    "\n",
    "\n",
    "import os\n",
    "import pyopencl\n",
    "import datetime\n",
    "import sys\n",
    "sys.path.insert(0, os.path.abspath(os.path.join(os.getcwd(), '../')))\n",
    "\n",
    "#Set large figure sizes\n",
    "rc('figure', figsize=(16.0, 12.0))\n",
    "rc('animation', html='html5')\n",
    "\n",
    "#Import our simulator\n",
    "from SWESimulators import CTCS, CDKLM16, PlotHelper, Common\n",
    "#Import initial condition and bathymetry generating functions:\n",
    "from SWESimulators.BathymetryAndICs import *\n",
    "from SWESimulators import DataAssimilationUtils as dautils\n",
    "\n",
    "from SWESimulators import WindForcingEnsemble"
   ]
  },
  {
   "cell_type": "code",
   "execution_count": null,
   "metadata": {
    "collapsed": false
   },
   "outputs": [],
   "source": [
    "#Make sure we get compiler output from OpenCL\n",
    "os.environ[\"PYOPENCL_COMPILER_OUTPUT\"] = \"1\"\n",
    "\n",
    "#Set which CL device to use, and disable kernel caching\n",
    "if (str.lower(sys.platform).startswith(\"linux\")):\n",
    "    os.environ[\"PYOPENCL_CTX\"] = \"0\"\n",
    "else:\n",
    "    os.environ[\"PYOPENCL_CTX\"] = \"1\"\n",
    "os.environ[\"CUDA_CACHE_DISABLE\"] = \"1\"\n",
    "os.environ[\"PYOPENCL_COMPILER_OUTPUT\"] = \"1\"\n",
    "os.environ[\"PYOPENCL_NO_CACHE\"] = \"1\"\n",
    "\n",
    "#Create OpenCL context\n",
    "cl_ctx = pyopencl.create_some_context()\n",
    "print \"Using \", cl_ctx.devices[0].name"
   ]
  },
  {
   "cell_type": "markdown",
   "metadata": {},
   "source": [
    "## Running multiple Simulators with different wind direction\n",
    "\n",
    "While keeping a track on the drifters...\n",
    "\n",
    "In this case, each particle is a combination of a unique drifter living in a unique model state.\n",
    "\n",
    "Ideas that might evolve into code:\n",
    "- It should be optional for a Drifter to have an observation. An additional `.hasObservation()` method needs to be implemented, and included somewhere.\n"
   ]
  },
  {
   "cell_type": "code",
   "execution_count": null,
   "metadata": {
    "collapsed": false
   },
   "outputs": [],
   "source": [
    "# Parameters\n",
    "nx, ny, dx, dy = 50, 50, 5.0, 5.0\n",
    "dt = 1\n",
    "f = 0.0\n",
    "boundaryConditions = Common.BoundaryConditions(2,2,2,2)"
   ]
  },
  {
   "cell_type": "code",
   "execution_count": null,
   "metadata": {
    "collapsed": true
   },
   "outputs": [],
   "source": [
    "#Calculate radius from center of bump for plotting\n",
    "y_coords, x_coords = np.mgrid[0:ny*dy:dy, 0:nx*dx:dx]\n",
    "radius = np.sqrt(np.multiply(x_coords, x_coords) + np.multiply(y_coords, y_coords))\n"
   ]
  },
  {
   "cell_type": "code",
   "execution_count": null,
   "metadata": {
    "collapsed": false,
    "scrolled": false
   },
   "outputs": [],
   "source": [
    "try:\n",
    "    if 'ensemble' in globals():\n",
    "        ensemble.cleanUp()\n",
    "except TypeError:\n",
    "    pass\n",
    "\n",
    "\n",
    "#obs_type = dautils.ObservationType.DrifterPosition\n",
    "obs_type = dautils.ObservationType.UnderlyingFlow\n",
    "\n",
    "init_var_factor = 6**2\n",
    "\n",
    "numParticles = 30\n",
    "ensemble = WindForcingEnsemble.WindForcingEnsemble(numParticles, cl_ctx, \\\n",
    "                                                   observation_type=obs_type)\n",
    "ensemble.setGridInfo(nx, ny, dx, dy, dt, boundaryConditions)\n",
    "ensemble.setParameters(f)\n",
    "if obs_type == dautils.ObservationType.UnderlyingFlow:\n",
    "    ensemble.setStochasticVariables(observation_variance=0.04**2,\\\n",
    "                                    initialization_variance_factor_drifter_position=init_var_factor)\n",
    "else:\n",
    "    ensemble.setStochasticVariables(initialization_variance_factor_drifter_position=init_var_factor)\n",
    "    \n",
    "driftersPerSim = 1\n",
    "print \"initializing ensemble with \" + str(numParticles) + \" particles (simulators)...\"\n",
    "ensemble.init(driftersPerSim)\n",
    "print \"ensemble of \" + str(numParticles) + \" ocean models, each with \" + str(driftersPerSim) + \" drifter(s).\"\n",
    "startPos = ensemble.observeDrifters()\n",
    "startObs = ensemble.observeTrueDrifters()\n",
    "#print \"StartPos:\\n\", startPos\n",
    "fig = plt.figure(figsize=(5,5))\n",
    "plt.plot(startPos[:,0], startPos[:,1], 'mo')\n",
    "plt.plot(startObs[0], startObs[1], 'co')\n",
    "plt.ylim([0, ny*dy])\n",
    "plt.xlim([0, nx*dx])\n",
    "\n",
    "# initial model integration\n",
    "#for i in range(10):\n",
    "for i in range(5):\n",
    "    print \"iteration \" + str(i)\n",
    "    ensemble.step(100)\n",
    "    pos = ensemble.observeDrifters()\n",
    "    plt.plot(pos[:,0], pos[:,1], 'r.')\n",
    "    obs = ensemble.observeTrueDrifters()\n",
    "    plt.plot(obs[0], obs[1], 'b.')\n",
    "    #print pos\n",
    "\n",
    "# Loop doing resampling + model integration\n",
    "for pf in range(3):\n",
    "    pos = ensemble.observeDrifters()\n",
    "    plt.plot(pos[:,0], pos[:,1], 'kx')\n",
    "    obs = ensemble.observeTrueDrifters()\n",
    "    plt.plot(obs[0], obs[1], 'kx')\n",
    "    \n",
    "    print \"Resampling\"\n",
    "    dautils.probabilisticResampling(ensemble, reinitialization_variance=20)\n",
    "    print \"Resampling done\"\n",
    "\n",
    "    pos = ensemble.observeDrifters()\n",
    "    plt.plot(pos[:,0], pos[:,1], 'rs')\n",
    "    obs = ensemble.observeTrueDrifters()\n",
    "    plt.plot(obs[0], obs[1], 'bs')\n",
    "    #for i in range(10):\n",
    "    for i in range(5):\n",
    "        print \"iteration \" + str(i)\n",
    "        ensemble.step(20)\n",
    "        pos = ensemble.observeDrifters()\n",
    "        plt.plot(pos[:,0], pos[:,1], 'r.')\n",
    "        obs = ensemble.observeTrueDrifters()\n",
    "        plt.plot(obs[0], obs[1], 'b.')\n",
    "        #print pos\n",
    "\n",
    "pos = ensemble.observeParticles()\n",
    "plt.plot(pos[:,0], pos[:,1], 'rx')\n",
    "obs = ensemble.observeTrueDrifters()\n",
    "plt.plot(obs[0], obs[1], 'bx')\n",
    "\n",
    "#distances = ensemble.getDistances()\n",
    "#print distances\n",
    "#print \"len(distances): \", len(distances)\n",
    "#print \"ensemble.getParticlePositions().shape: \", ensemble.getParticlePositions().shape\n",
    "\n",
    "distanceInfoFig = ensemble.plotDistanceInfo()"
   ]
  },
  {
   "cell_type": "code",
   "execution_count": null,
   "metadata": {
    "collapsed": false
   },
   "outputs": [],
   "source": [
    "print \"All observations: \\n\", ensemble.observations\n"
   ]
  },
  {
   "cell_type": "markdown",
   "metadata": {},
   "source": [
    "# Animate the DA simulation"
   ]
  },
  {
   "cell_type": "code",
   "execution_count": null,
   "metadata": {
    "collapsed": false,
    "scrolled": false
   },
   "outputs": [],
   "source": [
    "if 'ensemble' in globals():\n",
    "    ensemble.cleanUp()\n",
    "\n",
    "#obs_type = dautils.ObservationType.DrifterPosition\n",
    "obs_type = dautils.ObservationType.UnderlyingFlow\n",
    "\n",
    "init_var_factor = 10**2\n",
    "\n",
    "numParticles = 30\n",
    "ensemble = WindForcingEnsemble.WindForcingEnsemble(numParticles, cl_ctx, \\\n",
    "                                                   observation_type=obs_type)\n",
    "ensemble.setGridInfo(nx, ny, dx, dy, dt, boundaryConditions)\n",
    "ensemble.setParameters(f)\n",
    "if obs_type == dautils.ObservationType.UnderlyingFlow:\n",
    "    ensemble.setStochasticVariables(observation_variance=0.04**2,\\\n",
    "                                    initialization_variance_factor_drifter_position=init_var_factor)\n",
    "else:\n",
    "    ensemble.setStochasticVariables(initialization_variance_factor_drifter_position=init_var_factor)\n",
    "    \n",
    "\n",
    "driftersPerSim = 1\n",
    "print \"Initializing ensemble with 30 particles (simulators)...\"\n",
    "ensemble.init(driftersPerSim)\n",
    "print \"ensemble of \" + str(numParticles) + \" ocean models, each with \" + str(driftersPerSim) + \" drifter(s).\"\n",
    "\n",
    "fig = plt.figure()\n",
    "plotter = PlotHelper.EnsembleAnimator(fig, ensemble)\n",
    "\n",
    "infoPlots = []\n",
    "\n",
    "T = 5*10 + 3*10\n",
    "resampling_points = [49, 59, 69]\n",
    "sub_t = 10\n",
    "def animate(i):\n",
    "    \n",
    "    if (i>0):\n",
    "        t = ensemble.step(sub_t)\n",
    "    else:\n",
    "        t = 0.0\n",
    "        \n",
    "    for rp in resampling_points:\n",
    "        if i == rp:\n",
    "            infoFig = ensemble.plotDistanceInfo(title=\"Before resampling at t = \" + str(i))\n",
    "            plt.close(infoFig)\n",
    "            infoPlots.append(infoFig)\n",
    "            dautils.probabilisticResampling(ensemble, reinitialization_variance=20)\n",
    "            infoFig = ensemble.plotDistanceInfo(title=\"After resampling at t = \" + str(i))\n",
    "            plt.close(infoFig)\n",
    "            infoPlots.append(infoFig)\n",
    "            \n",
    "    plotter.plot(ensemble);\n",
    "    fig.suptitle(\"Particle Filter with random direction wind = \" + \"{:04.0f}\".format(t) + \" s\", fontsize=18)\n",
    "\n",
    "    if (i%10 == 0):\n",
    "        print \"{:03.0f}\".format(100*i / T) + \" % => t=\" + str(t) \n",
    "    \n",
    "    plotter.plot(ensemble);\n",
    "    fig.suptitle(\"Ensemble = \" + \"{:04.0f}\".format(t) + \" s\", fontsize=18)\n",
    "\n",
    "anim = animation.FuncAnimation(fig, animate, range(T), interval=200)\n",
    "plt.close(anim._fig)\n",
    "anim"
   ]
  },
  {
   "cell_type": "code",
   "execution_count": null,
   "metadata": {
    "collapsed": false,
    "scrolled": false
   },
   "outputs": [],
   "source": [
    "def show_figures(figs):\n",
    "    for f in figs:\n",
    "        dummy = plt.figure(figsize=(3,1))\n",
    "        new_manager = dummy.canvas.manager\n",
    "        new_manager.canvas.figure = f\n",
    "        f.set_canvas(new_manager.canvas)\n",
    "show_figures(infoPlots)\n",
    "fig = ensemble.plotDistanceInfo(title=\"Final ensemble\")"
   ]
  },
  {
   "cell_type": "markdown",
   "metadata": {},
   "source": [
    "## Animate a single ocean state within the ensemble"
   ]
  },
  {
   "cell_type": "code",
   "execution_count": null,
   "metadata": {
    "collapsed": false,
    "scrolled": false
   },
   "outputs": [],
   "source": [
    "if 'ensemble' in globals():\n",
    "    ensemble.cleanUp()\n",
    "\n",
    "numParticles = 10\n",
    "ensemble = WindForcingEnsemble.WindForcingEnsemble(numParticles, cl_ctx)\n",
    "ensemble.setGridInfo(nx, ny, dx, dy, dt, boundaryConditions)\n",
    "ensemble.setParameters(f)\n",
    "ensemble.setStochasticVariables()\n",
    "\n",
    "driftersPerSim = 1\n",
    "ensemble.init(driftersPerSim)\n",
    "print \"ensemble of \" + str(numParticles) + \" ocean models, each with \" + str(driftersPerSim) + \" drifter(s).\"\n",
    "\n",
    "fig = plt.figure()\n",
    "eta, hu, hv = ensemble.particles[0].download()\n",
    "plotter = PlotHelper.PlotHelper(fig, x_coords, y_coords, radius, eta[2:-2, 2:-2], hu[2:-2, 2:-2], hv[2:-2, 2:-2])\n",
    "plotter.showDrifters(ensemble.particles[0].drifters)\n",
    "\n",
    "T = 30\n",
    "def animate(i):\n",
    "    if i <= T/2:\n",
    "        print \"iteration \" + str(i)\n",
    "        ensemble.step(30)\n",
    "\n",
    "        eta, hu, hv = ensemble.particles[0].download()\n",
    "        plotter.plot(eta[2:-2, 2:-2], hu[2:-2, 2:-2], hv[2:-2, 2:-2])\n",
    "        plotter.showDrifters(ensemble.particles[0].drifters)\n",
    "        fig.suptitle(\"CDKLM16 before Particle filter on wind direction, it = \" + str(i), fontsize=18)\n",
    "        #print pos\n",
    "    if i == T/2:\n",
    "        print \"Resampling\"\n",
    "        print \"position : \", ensemble.particles[0].drifters.getDrifterPositions()\n",
    "        dautils.probabilisticResampling(ensemble, reinitialization_variance=0)\n",
    "        print \"position : \", ensemble.particles[0].drifters.getDrifterPositions()\n",
    "        print \"Resampling done\"\n",
    "\n",
    "        eta, hu, hv = ensemble.particles[0].download()\n",
    "        plotter.plot(eta[2:-2, 2:-2], hu[2:-2, 2:-2], hv[2:-2, 2:-2])\n",
    "        plotter.showDrifters(ensemble.particles[0].drifters)\n",
    "        fig.suptitle(\"CDKLM16 at Particle filter on wind direction, it = \" + str(i), fontsize=18)\n",
    "        \n",
    "    if i > T/2:\n",
    "        print \"iteration \" + str(i)\n",
    "        ensemble.step(30)\n",
    "        eta, hu, hv = ensemble.particles[0].download()\n",
    "        plotter.plot(eta[2:-2, 2:-2], hu[2:-2, 2:-2], hv[2:-2, 2:-2])\n",
    "        plotter.showDrifters(ensemble.particles[0].drifters)\n",
    "        fig.suptitle(\"CDKLM16 after Particle filter on wind direction, it = \" + str(i), fontsize=18)\n",
    "        #print pos\n",
    "\n",
    "anim = animation.FuncAnimation(fig, animate, range(T), interval=300)\n",
    "plt.close(anim._fig)\n",
    "anim"
   ]
  },
  {
   "cell_type": "code",
   "execution_count": null,
   "metadata": {
    "collapsed": false,
    "scrolled": false
   },
   "outputs": [],
   "source": [
    "print np.empty(0), len(np.empty(0))\n",
    "\n",
    "print len(ensemble.particles[:-1])\n",
    "ensemble.printMaxOceanStates()"
   ]
  },
  {
   "cell_type": "code",
   "execution_count": null,
   "metadata": {
    "collapsed": false
   },
   "outputs": [],
   "source": [
    "figs = []\n",
    "x = np.linspace(0, 2)\n",
    "for i in range(4):\n",
    "    fig = plt.figure(figsize=(3,1))\n",
    "    plt.plot(x, np.sin((i+1)*x))\n",
    "    plt.close(fig)\n",
    "    figs.append(fig)"
   ]
  },
  {
   "cell_type": "code",
   "execution_count": null,
   "metadata": {
    "collapsed": false
   },
   "outputs": [],
   "source": [
    "def show_figures(figs):\n",
    "    for f in figs:\n",
    "        dummy = plt.figure(figsize=(3,1))\n",
    "        new_manager = dummy.canvas.manager\n",
    "        new_manager.canvas.figure = f\n",
    "        f.set_canvas(new_manager.canvas)\n",
    "show_figures(figs)"
   ]
  }
 ],
 "metadata": {
  "git": {
   "suppress_outputs": true
  },
  "kernelspec": {
   "display_name": "Python 2",
   "language": "python",
   "name": "python2"
  },
  "language_info": {
   "codemirror_mode": {
    "name": "ipython",
    "version": 2
   },
   "file_extension": ".py",
   "mimetype": "text/x-python",
   "name": "python",
   "nbconvert_exporter": "python",
   "pygments_lexer": "ipython2",
   "version": "2.7.12"
  }
 },
 "nbformat": 4,
 "nbformat_minor": 0
}