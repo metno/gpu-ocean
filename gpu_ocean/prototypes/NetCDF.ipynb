{
 "cells": [
  {
   "cell_type": "markdown",
   "metadata": {},
   "source": [
    "```\n",
    "This notebook reads a netcdf file and visualizes its results\n",
    "\n",
    "Copyright (C) 2016  SINTEF ICT\n",
    "\n",
    "This program is free software: you can redistribute it and/or modify\n",
    "it under the terms of the GNU General Public License as published by\n",
    "the Free Software Foundation, either version 3 of the License, or\n",
    "(at your option) any later version.\n",
    "\n",
    "This program is distributed in the hope that it will be useful,\n",
    "but WITHOUT ANY WARRANTY; without even the implied warranty of\n",
    "MERCHANTABILITY or FITNESS FOR A PARTICULAR PURPOSE.  See the\n",
    "GNU General Public License for more details.\n",
    "\n",
    "You should have received a copy of the GNU General Public License\n",
    "along with this program.  If not, see <http://www.gnu.org/licenses/>.\n",
    "```"
   ]
  },
  {
   "cell_type": "code",
   "execution_count": 1,
   "metadata": {},
   "outputs": [],
   "source": [
    "#Lets have matplotlib \"inline\"\n",
    "%matplotlib inline\n",
    "%config InlineBackend.figure_format = 'retina'\n",
    "\n",
    "#Import packages we need\n",
    "import numpy as np\n",
    "from netCDF4 import Dataset\n",
    "from matplotlib import animation, rc\n",
    "from matplotlib import pyplot as plt\n",
    "import numpy as np\n",
    "\n",
    "import pycuda.driver as cuda\n",
    "\n",
    "import sys, os\n",
    "sys.path.insert(0, os.path.abspath(os.path.join(os.getcwd(), '../')))\n",
    "\n",
    "from SWESimulators import IPythonMagic, CDKLM16\n",
    "\n",
    "#Set large figure sizes\n",
    "rc('figure', figsize=(16.0, 12.0))\n",
    "rc('animation', html='html5')"
   ]
  },
  {
   "cell_type": "code",
   "execution_count": 2,
   "metadata": {},
   "outputs": [],
   "source": [
    "%cuda_context_handler gpu_ctx"
   ]
  },
  {
   "cell_type": "code",
   "execution_count": 3,
   "metadata": {},
   "outputs": [
    {
     "name": "stdout",
     "output_type": "stream",
     "text": [
      "time\n",
      "x\n",
      "y\n",
      "x_Hi\n",
      "y_Hi\n",
      "projection_stere\n",
      "land_binary_mask\n",
      "H\n",
      "eta\n",
      "hu\n",
      "hv\n",
      "\n",
      "Attributes:\n",
      "Conventions \t -->  CF-1.4\n",
      "git_hash \t -->  b'8fda2cfe8757a2556ba666c38c5d4a1a22557bba\\n'\n",
      "ignore_ghostcells \t -->  False\n",
      "num_layers \t -->  1\n",
      "staggered_grid \t -->  False\n",
      "simulator_short \t -->  CDKLM16\n",
      "boundary_conditions \t -->  north: Periodic, east: Periodic, south: Periodic, west: Periodic, spongeCells: [0 0 0 0]\n",
      "boundary_conditions_mr \t -->  [2, 2, 2, 2]\n",
      "boundary_conditions_sponge_mr \t -->  [0 0 0 0]\n",
      "time_integrator \t -->  2\n",
      "minmod_theta \t -->  1.3\n",
      "coriolis_force \t -->  0.00014048812\n",
      "coriolis_beta \t -->  0.0\n",
      "y_zero_reference_cell \t -->  0.0\n",
      "eddy_viscosity_coefficient \t -->  NA\n",
      "g \t -->  9.80616\n",
      "nx \t -->  500\n",
      "ny \t -->  300\n",
      "dx \t -->  2220.0\n",
      "dy \t -->  2220.0\n",
      "dt \t -->  8.824381277962194\n",
      "auto_dt \t -->  False\n",
      "bottom_friction_r \t -->  0.0\n",
      "ghost_cells_north \t -->  2\n",
      "ghost_cells_east \t -->  2\n",
      "ghost_cells_south \t -->  2\n",
      "ghost_cells_west \t -->  2\n",
      "model_time_step \t -->  60\n",
      "small_scale_perturbation \t -->  True\n",
      "small_scale_perturbation_amplitude \t -->  0.00025\n",
      "small_scale_perturbation_interpolation_factor \t -->  5\n"
     ]
    }
   ],
   "source": [
    "# open a the netCDF file for reading.\n",
    "filename = r'ctcs_1a.nc'\n",
    "filename = r'C:/Users/florianb/Documents/GPU-Ocean/data/true_state/double_jet_case_truth.nc'\n",
    "ncfile = Dataset(filename,'r') \n",
    "\n",
    "for var in ncfile.variables:\n",
    "    print(var)\n",
    "\n",
    "print (\"\\nAttributes:\")    \n",
    "for attr in ncfile.ncattrs():\n",
    "    print( attr, \"\\t --> \", ncfile.getncattr(attr) )"
   ]
  },
  {
   "cell_type": "code",
   "execution_count": 4,
   "metadata": {},
   "outputs": [],
   "source": [
    "# sim = CDKLM16.CDKLM16.fromfilename(gpu_ctx, filename)  "
   ]
  },
  {
   "cell_type": "code",
   "execution_count": null,
   "metadata": {
    "scrolled": true
   },
   "outputs": [],
   "source": [
    "eta = ncfile.variables['eta']\n",
    "t,nx,ny = eta.shape\n",
    "\n",
    "eta_max = np.max(eta)\n",
    "eta_min = np.min(eta)\n",
    "\n",
    "fig = plt.figure()\n",
    "im = plt.imshow(eta[0,:,:], interpolation='spline36', vmax=eta_max, vmin=eta_min)\n",
    "plt.axis('equal')\n",
    "plt.colorbar()\n",
    "\n",
    "def animate(i):\n",
    "    im.set_data(eta[i,:,:])        \n",
    "\n",
    "anim = animation.FuncAnimation(fig, animate, range(t), interval=100)\n",
    "plt.close(anim._fig)\n",
    "anim"
   ]
  },
  {
   "cell_type": "code",
   "execution_count": 6,
   "metadata": {},
   "outputs": [],
   "source": [
    "ncfile.close()"
   ]
  }
 ],
 "metadata": {
  "kernelspec": {
   "display_name": "Python [conda env:gpuocean] *",
   "language": "python",
   "name": "conda-env-gpuocean-py"
  },
  "language_info": {
   "codemirror_mode": {
    "name": "ipython",
    "version": 3
   },
   "file_extension": ".py",
   "mimetype": "text/x-python",
   "name": "python",
   "nbconvert_exporter": "python",
   "pygments_lexer": "ipython3",
   "version": "3.7.8"
  }
 },
 "nbformat": 4,
 "nbformat_minor": 1
}
