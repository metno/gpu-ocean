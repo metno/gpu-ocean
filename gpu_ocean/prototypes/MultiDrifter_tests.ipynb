{
 "cells": [
  {
   "cell_type": "markdown",
   "metadata": {},
   "source": [
    "```\n",
    "This notebook sets up and runs a set of benchmarks to compare\n",
    "different numerical discretizations of the SWEs\n",
    "\n",
    "Copyright (C) 2016  SINTEF ICT\n",
    "\n",
    "This program is free software: you can redistribute it and/or modify\n",
    "it under the terms of the GNU General Public License as published by\n",
    "the Free Software Foundation, either version 3 of the License, or\n",
    "(at your option) any later version.\n",
    "\n",
    "This program is distributed in the hope that it will be useful,\n",
    "but WITHOUT ANY WARRANTY; without even the implied warranty of\n",
    "MERCHANTABILITY or FITNESS FOR A PARTICULAR PURPOSE.  See the\n",
    "GNU General Public License for more details.\n",
    "\n",
    "You should have received a copy of the GNU General Public License\n",
    "along with this program.  If not, see <http://www.gnu.org/licenses/>.\n",
    "```"
   ]
  },
  {
   "cell_type": "markdown",
   "metadata": {},
   "source": [
    "# Sketchbook to design the software for multiple drifters\n"
   ]
  },
  {
   "cell_type": "markdown",
   "metadata": {},
   "source": [
    "\n"
   ]
  },
  {
   "cell_type": "markdown",
   "metadata": {},
   "source": [
    "## Set environment"
   ]
  },
  {
   "cell_type": "code",
   "execution_count": null,
   "metadata": {
    "collapsed": false
   },
   "outputs": [],
   "source": [
    "%matplotlib inline\n",
    "%config InlineBackend.figure_format = 'retina'\n",
    "\n",
    "import numpy as np\n",
    "import matplotlib\n",
    "from matplotlib import pyplot as plt\n",
    "from matplotlib import animation, rc\n",
    "from scipy.special import lambertw\n",
    "import matplotlib.gridspec as gridspec\n",
    "\n",
    "\n",
    "import pyopencl\n",
    "import os\n",
    "import sys\n",
    "\n",
    "sys.path.insert(0, os.path.abspath(os.path.join(os.getcwd(), '../')))\n",
    "\n",
    "#Set large figure sizes\n",
    "rc('figure', figsize=(16.0, 12.0))\n",
    "rc('animation', html='html5')\n",
    "matplotlib.rcParams['contour.negative_linestyle'] = 'solid'\n",
    "\n",
    "#Import our simulator\n",
    "from SWESimulators import CDKLM16, PlotHelper, Common\n",
    "\n",
    "from SWESimulators import BathymetryAndICs as BC\n",
    "from SWESimulators import OceanStateNoise\n",
    "from SWESimulators import OceanNoiseEnsemble\n",
    "from SWESimulators import BaseOceanStateEnsemble\n",
    "from SWESimulators import DataAssimilationUtils as dautils\n"
   ]
  },
  {
   "cell_type": "code",
   "execution_count": null,
   "metadata": {
    "collapsed": false
   },
   "outputs": [],
   "source": [
    "#Make sure we get compiler output from OpenCL\n",
    "os.environ[\"PYOPENCL_COMPILER_OUTPUT\"] = \"1\"\n",
    "\n",
    "#Set which CL device to use, and disable kernel caching\n",
    "if (str.lower(sys.platform).startswith(\"linux\")):\n",
    "    os.environ[\"PYOPENCL_CTX\"] = \"0\"\n",
    "else:\n",
    "    os.environ[\"PYOPENCL_CTX\"] = \"1\"\n",
    "os.environ[\"CUDA_CACHE_DISABLE\"] = \"1\"\n",
    "os.environ[\"PYOPENCL_COMPILER_OUTPUT\"] = \"1\"\n",
    "os.environ[\"PYOPENCL_NO_CACHE\"] = \"1\"\n",
    "\n",
    "#Create OpenCL context\n",
    "cl_ctx = pyopencl.create_some_context()\n",
    "cl_queue = pyopencl.CommandQueue(cl_ctx)\n",
    "print \"Using \", cl_ctx.devices[0].name"
   ]
  },
  {
   "cell_type": "markdown",
   "metadata": {},
   "source": [
    "# Ensemble\n",
    "\n",
    "We need an ensemble where each particle\n",
    "- runs an independent ocean model\n",
    "- drift a drifter\n",
    "- applies a localized small-scale error\n",
    "- observes the drifter position\n",
    "\n",
    "Needs to be done:\n",
    "- Initialize models (create netcdf with init, add error with amp 10*q0(?), put drifter into a small area of the \n",
    "- make useful plots to evaluate the results\n",
    "    - Suggestion: 3-line [eta, hu, hv] plot, with truth, ensemble (mean field with individual drifters), mean-square diff?\n",
    "    - 3x3/4x4/5x5 plot of eta from different ensemble members?\n",
    "    - Standard animation of a single ensemble member.\n"
   ]
  },
  {
   "cell_type": "markdown",
   "metadata": {},
   "source": [
    "### Utility functions"
   ]
  },
  {
   "cell_type": "code",
   "execution_count": null,
   "metadata": {
    "collapsed": true
   },
   "outputs": [],
   "source": []
  },
  {
   "cell_type": "markdown",
   "metadata": {
    "collapsed": false
   },
   "source": [
    "## Define a small ensemble"
   ]
  },
  {
   "cell_type": "code",
   "execution_count": null,
   "metadata": {
    "collapsed": false,
    "scrolled": false
   },
   "outputs": [],
   "source": [
    "# DEFINE PARAMETERS\n",
    "\n",
    "#Coriolis well balanced reconstruction scheme\n",
    "nx = 32\n",
    "ny = 32\n",
    "\n",
    "dx = 4.0\n",
    "dy = 4.0\n",
    "\n",
    "dt = 0.05*3\n",
    "g = 9.81\n",
    "r = 0.0\n",
    "\n",
    "f = 0.05\n",
    "beta = 0.0\n",
    "\n",
    "ghosts = np.array([2,2,2,2]) # north, east, south, west\n",
    "validDomain = np.array([2,2,2,2])\n",
    "boundaryConditions = Common.BoundaryConditions(2,2,2,2)\n",
    "\n",
    "# Define which cell index which has lower left corner as position (0,0)\n",
    "x_zero_ref = 2\n",
    "y_zero_ref = 2\n",
    "\n",
    "dataShape = (ny + ghosts[0]+ghosts[2], \n",
    "             nx + ghosts[1]+ghosts[3])\n",
    "dataShapeHi = (ny + ghosts[0]+ghosts[2]+1, \n",
    "             nx + ghosts[1]+ghosts[3]+1)\n",
    "\n",
    "eta0 = np.zeros(dataShape, dtype=np.float32, order='C');\n",
    "hv0 = np.zeros(dataShape, dtype=np.float32, order='C');\n",
    "hu0 = np.zeros(dataShape, dtype=np.float32, order='C');\n",
    "waterDepth = 1.0\n",
    "Hi = np.ones(dataShapeHi, dtype=np.float32, order='C')*waterDepth\n",
    "\n",
    "if 'sim' in globals():\n",
    "    sim.cleanUp()\n",
    "if 'ensemble' in globals():\n",
    "    ensemble.cleanUp()\n",
    "    \n",
    "q0 = 0.5*dt*f/(g*waterDepth)\n",
    "\n",
    "\n",
    "reload(CDKLM16)\n",
    "reload(BaseOceanStateEnsemble)\n",
    "reload(OceanNoiseEnsemble)\n",
    "reload(PlotHelper)\n",
    "reload(dautils)\n",
    "sim = CDKLM16.CDKLM16(cl_ctx, eta0, hu0, hv0, Hi, \\\n",
    "                      nx, ny, dx, dy, dt, g, f, r, \\\n",
    "                      boundary_conditions=boundaryConditions, \\\n",
    "                      write_netcdf=False, \\\n",
    "                      small_scale_perturbation=True, \\\n",
    "                      small_scale_perturbation_amplitude=q0)\n",
    "\n",
    "sim.perturbState(q0_scale=50)\n",
    "\n",
    "ensemble_size = 4\n",
    "ensemble = OceanNoiseEnsemble.OceanNoiseEnsemble(ensemble_size, cl_ctx,\n",
    "                                                 #observation_type=dautils.ObservationType.UnderlyingFlow)\n",
    "                                                 observation_type=dautils.ObservationType.DirectUnderlyingFlow)\n",
    "ensemble.setGridInfoFromSim(sim)\n",
    "ensemble.setStochasticVariables(#observation_variance_factor=2.0,\n",
    "                                small_scale_perturbation_amplitude=q0,\n",
    "                                observation_variance = 0.1**2,\n",
    "                                initialization_variance_factor_drifter_position = 1.0)\n",
    "                                #initialization_variance_factor_ocean_field=50)\n",
    "\n",
    "ensemble.init(driftersPerOceanModel=6)\n",
    "\n",
    "\n",
    "#for p in range(len(ensemble.particles)):\n",
    "#    ensemble.particles[p].perturbState(q0_scale=30)\n",
    "t = ensemble.step(dt*10)    \n",
    "    \n",
    "#ensemble.plotEnsemble()\n"
   ]
  },
  {
   "cell_type": "code",
   "execution_count": null,
   "metadata": {
    "collapsed": false,
    "scrolled": false
   },
   "outputs": [],
   "source": [
    "print \"Number of particles: \", ensemble.getNumParticles()\n",
    "print \"Number of drifters per model: \", ensemble.driftersPerOceanModel\n",
    "print \"---------------------------------------------------\\n\"\n",
    "\n",
    "print \"true drifter position: \"\n",
    "print ensemble.observeTrueDrifters()\n",
    "print \"before change: 1D array (2)\"\n",
    "print \"after  change: 2D array (drifters, 2)\"\n",
    "\n",
    "print \" \"\n",
    "print \"particle drifter positions:\"\n",
    "print ensemble.observeDrifters()\n",
    "print \"before change: 2D array (particles, 2)\"\n",
    "print \"after  change: 3D array (particles, drifters, 2)\"\n",
    "print \"---------------------------------------------------\\n\"\n",
    "\n",
    "print \"true state: \"\n",
    "print ensemble.observeTrueState()\n",
    "print \"before change: 1D array (4)\"\n",
    "print \"after  change: 2D array (drifters, 4)\"\n",
    "print \" \"\n",
    "\n",
    "print \"particle states: \"\n",
    "print ensemble.observeParticles()\n",
    "print \"before change: 2D array (particles, 2)\"\n",
    "print \"after  change: 3D array (particles, drifters, 2)\"\n",
    "print \"---------------------------------------------------\\n\"\n",
    "\n",
    "print \"innovations: \"\n",
    "print ensemble.getInnovations()\n",
    "print \"before change: 2D array\"\n",
    "print \"after  change: 3D array (particles, drifters, 2)\"\n",
    "print \" \"\n",
    "\n",
    "print \"norm of innovations: \"\n",
    "print ensemble.getInnovationNorms()\n",
    "print \"before change: 1D array\"\n",
    "print \"after  change: 1D array (particles)\"\n",
    "print \"---------------------------------------------------\\n\"\n",
    "\n",
    "\n",
    "print \"distances: \"\n",
    "print ensemble.getDistances()\n",
    "print \"before change: ?? array\"\n",
    "print \"after  change: 2D array (particles, drifters)\"\n",
    "print \"---------------------------------------------------\\n\"\n",
    "\n",
    "\n",
    "print \"gaussian weights: \"\n",
    "print ensemble.getGaussianWeight()\n",
    "print \"before change: 1D array (particles)\"\n",
    "print \"after  change: 1D array (particles)\""
   ]
  },
  {
   "cell_type": "code",
   "execution_count": null,
   "metadata": {
    "collapsed": false
   },
   "outputs": [],
   "source": [
    "     \n",
    "#ensemble.step(dt)\n",
    "ensemble.observation_type = 3\n",
    "fig = ensemble.plotDistanceInfo()"
   ]
  },
  {
   "cell_type": "code",
   "execution_count": null,
   "metadata": {
    "collapsed": false
   },
   "outputs": [],
   "source": [
    "ensemble.plotEnsemble()"
   ]
  },
  {
   "cell_type": "code",
   "execution_count": null,
   "metadata": {
    "collapsed": false
   },
   "outputs": [],
   "source": []
  },
  {
   "cell_type": "markdown",
   "metadata": {},
   "source": [
    "# Test animations and plots"
   ]
  },
  {
   "cell_type": "code",
   "execution_count": null,
   "metadata": {
    "collapsed": false,
    "scrolled": false
   },
   "outputs": [],
   "source": [
    "if 'sim' in globals():\n",
    "    sim.cleanUp()\n",
    "if 'ensemble' in globals():\n",
    "    ensemble.cleanUp()\n",
    "    \n",
    "q0 = 0.5*dt*f/(g*waterDepth)\n",
    "\n",
    "\n",
    "reload(CDKLM16)\n",
    "reload(BaseOceanStateEnsemble)\n",
    "reload(OceanNoiseEnsemble)\n",
    "reload(PlotHelper)\n",
    "reload(dautils)\n",
    "sim = CDKLM16.CDKLM16(cl_ctx, eta0, hu0, hv0, Hi, \\\n",
    "                      nx, ny, dx, dy, dt, g, f, r, \\\n",
    "                      boundary_conditions=boundaryConditions, \\\n",
    "                      write_netcdf=False, \\\n",
    "                      small_scale_perturbation=True, \\\n",
    "                      small_scale_perturbation_amplitude=q0)\n",
    "\n",
    "sim.perturbState(q0_scale=50)\n",
    "\n",
    "ensemble_size = 20\n",
    "ensemble = OceanNoiseEnsemble.OceanNoiseEnsemble(ensemble_size, cl_ctx, \n",
    "                                                 #observation_type=dautils.ObservationType.UnderlyingFlow)\n",
    "                                                 observation_type=dautils.ObservationType.DirectUnderlyingFlow)\n",
    "ensemble.setGridInfoFromSim(sim)\n",
    "ensemble.setStochasticVariables(#observation_variance_factor=2.0,\n",
    "                                observation_variance = 0.1**2,\n",
    "                                small_scale_perturbation_amplitude=q0)\n",
    "                                #initialization_variance_factor_ocean_field=50)\n",
    "\n",
    "ensemble.init(driftersPerOceanModel=1)\n",
    "\n",
    "\n",
    "fig = plt.figure()\n",
    "plotter = PlotHelper.EnsembleAnimator(fig, ensemble, trueStateOnly=False)\n",
    "\n",
    "#T = 50\n",
    "sub_t = 10*dt\n",
    "\n",
    "T = 40\n",
    "resampling_points = range(5, T, 5)\n",
    "infoPlots = []\n",
    "\n",
    "\n",
    "def animate(i):\n",
    "    if (i>0):\n",
    "        t = ensemble.step(sub_t)\n",
    "    else:\n",
    "        t = 0.0\n",
    "\n",
    "    for rp in resampling_points:\n",
    "        if i == rp:\n",
    "            print \"resampling at iteration \" + str(i)\n",
    "            infoFig = ensemble.plotDistanceInfo(title=\"it = \" + str(i) + \" before resampling\")\n",
    "            plt.close(infoFig)\n",
    "            infoPlots.append(infoFig)\n",
    "            \n",
    "            dautils.residualSampling(ensemble)\n",
    "            \n",
    "            infoFig = ensemble.plotDistanceInfo(title=\"it = \" + str(i) + \" post resampling\")\n",
    "            plt.close(infoFig)\n",
    "            infoPlots.append(infoFig)\n",
    "    \n",
    "    plotter.plot(ensemble);\n",
    "    \n",
    "    ensemble.getEnsembleVarAndRMSEUnderDrifter(i)\n",
    "\n",
    "    fig.suptitle(\"Ensemble = \" + \"{:04.0f}\".format(t) + \" s\", fontsize=18)\n",
    "\n",
    "    if (i%10 == 0):\n",
    "        print \"{:03.0f}\".format(100*i / T) + \" % => t=\" + str(t) \n",
    "\n",
    "anim = animation.FuncAnimation(fig, animate, range(T), interval=100)\n",
    "plt.close(anim._fig)\n",
    "anim"
   ]
  },
  {
   "cell_type": "code",
   "execution_count": null,
   "metadata": {
    "collapsed": false,
    "scrolled": false
   },
   "outputs": [],
   "source": [
    "def show_figures(figs):\n",
    "    for f in figs:\n",
    "        dummy = plt.figure()\n",
    "        new_manager = dummy.canvas.manager\n",
    "        new_manager.canvas.figure = f\n",
    "        f.set_canvas(new_manager.canvas)\n",
    "        filename= f._suptitle.get_text().replace(\" \", \"_\").replace(\"=_\", \"\") + \".png\"\n",
    "        #plt.savefig(filename)\n",
    "show_figures(infoPlots)\n",
    "fig = ensemble.plotDistanceInfo(title=\"Final ensemble\")"
   ]
  },
  {
   "cell_type": "code",
   "execution_count": null,
   "metadata": {
    "collapsed": false,
    "scrolled": false
   },
   "outputs": [],
   "source": []
  },
  {
   "cell_type": "code",
   "execution_count": null,
   "metadata": {
    "collapsed": false
   },
   "outputs": [],
   "source": [
    "fig = plt.figure(figsize=(10,3))\n",
    "plt.plot(ensemble.tArray, ensemble.rmseUnderDrifter_eta, label='eta')\n",
    "plt.plot(ensemble.tArray, ensemble.rmseUnderDrifter_hu,  label='hu')\n",
    "plt.plot(ensemble.tArray, ensemble.rmseUnderDrifter_hv,  label='hv')\n",
    "plt.plot(resampling_points, 0.05*np.ones_like(resampling_points), 'o')\n",
    "plt.title(\"RMSE under drifter\")\n",
    "plt.legend(loc=0)\n",
    "plt.grid()\n",
    "plt.ylim([0, 0.6])\n",
    "\n",
    "fig = plt.figure(figsize=(10,3))\n",
    "plt.plot(ensemble.tArray, ensemble.varianceUnderDrifter_eta, label='eta')\n",
    "plt.plot(ensemble.tArray, ensemble.varianceUnderDrifter_hu,  label='hu')\n",
    "plt.plot(ensemble.tArray, ensemble.varianceUnderDrifter_hv,  label='hv')\n",
    "plt.plot(resampling_points, 0.05*np.ones_like(resampling_points), 'o')\n",
    "plt.title(\"Variance under drifter\")\n",
    "plt.legend(loc=0)\n",
    "plt.grid()\n",
    "plt.ylim([0, 0.6])\n",
    "\n",
    "fig = plt.figure(figsize=(10,3))\n",
    "plt.plot(ensemble.tArray, ensemble.rUnderDrifter_eta, label='eta')\n",
    "plt.plot(ensemble.tArray, ensemble.rUnderDrifter_hu,  label='hu')\n",
    "plt.plot(ensemble.tArray, ensemble.rUnderDrifter_hv,  label='hv')\n",
    "plt.plot(resampling_points, 1.0*np.ones_like(resampling_points), 'o')\n",
    "plt.title(\"r = var/rmse under drifter\")\n",
    "plt.legend(loc=0)\n",
    "plt.grid()\n",
    "plt.ylim([0, 5])\n",
    "\n",
    "print np.sqrt(ensemble.observation_cov[0,0])"
   ]
  },
  {
   "cell_type": "code",
   "execution_count": null,
   "metadata": {
    "collapsed": false,
    "scrolled": false
   },
   "outputs": [],
   "source": [
    "print ensemble.observation_type\n",
    "print \"-------\"\n",
    "\n",
    "print ensemble.observeTrueDrifters()\n",
    "print \"--------\"\n",
    "print ensemble.observeDrifters()[0,:,:]\n",
    "print \"--------\"\n",
    "\n",
    "newPos = np.empty((ensemble.driftersPerOceanModel, 2))\n",
    "newPos[:,:] = ensemble.observeTrueDrifters()\n",
    "print newPos\n",
    "print \"--------\"\n",
    "\n",
    "ensemble.particles[0].drifters.setDrifterPositions(newPos)\n",
    "print ensemble.observeDrifters()[0,:,:]\n"
   ]
  },
  {
   "cell_type": "code",
   "execution_count": null,
   "metadata": {
    "collapsed": true
   },
   "outputs": [],
   "source": []
  }
 ],
 "metadata": {
  "git": {
   "suppress_outputs": true
  },
  "kernelspec": {
   "display_name": "Python 2",
   "language": "python",
   "name": "python2"
  },
  "language_info": {
   "codemirror_mode": {
    "name": "ipython",
    "version": 2
   },
   "file_extension": ".py",
   "mimetype": "text/x-python",
   "name": "python",
   "nbconvert_exporter": "python",
   "pygments_lexer": "ipython2",
   "version": "2.7.12"
  }
 },
 "nbformat": 4,
 "nbformat_minor": 0
}