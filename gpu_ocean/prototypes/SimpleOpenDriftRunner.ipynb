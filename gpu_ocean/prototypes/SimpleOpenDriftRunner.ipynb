{
 "cells": [
  {
   "cell_type": "markdown",
   "metadata": {},
   "source": [
    "# Simple OpenDrift Runner"
   ]
  },
  {
   "cell_type": "markdown",
   "metadata": {},
   "source": [
    "Simple example of running OpenDrift with simulation output (nc-file) and randomly seeded particles as input.\n",
    "\n",
    "** NOTE: **\n",
    "The input nc-file must be written with *ignore_ghostcells* set to True, and *offset_x*- and *offset_y*-values set to produce valid and 'reasonable' lonlat-values for OpenDrift. Only tested with CTCS."
   ]
  },
  {
   "cell_type": "markdown",
   "metadata": {},
   "source": [
    "## Setup and initialization"
   ]
  },
  {
   "cell_type": "code",
   "execution_count": null,
   "metadata": {
    "collapsed": true
   },
   "outputs": [],
   "source": [
    "# Configuration\n",
    "filename = 'netcdf_2018_02_12/CTCS_2018_02_12-16_43_12.nc' # netCDF-file with simulation timeseries\n",
    "opendrift_directory = '/home/martinls/src/opendrift'"
   ]
  },
  {
   "cell_type": "code",
   "execution_count": null,
   "metadata": {
    "collapsed": false,
    "scrolled": false
   },
   "outputs": [],
   "source": [
    "#Lets have matplotlib \"inline\"\n",
    "%matplotlib inline\n",
    "%config InlineBackend.figure_format = 'retina'\n",
    "\n",
    "#Import packages we need\n",
    "import numpy as np\n",
    "np.random.seed(983214)\n",
    "from matplotlib import animation, rc\n",
    "from matplotlib import pyplot as plt\n",
    "\n",
    "import os\n",
    "import pyopencl\n",
    "import datetime\n",
    "import sys\n",
    "import glob\n",
    "import math as m\n",
    "\n",
    "import sys\n",
    "from datetime import datetime\n",
    "\n",
    "sys.path.insert(0, os.path.abspath(os.path.join(os.getcwd(), '../')))\n",
    "\n",
    "#Set large figure sizes\n",
    "rc('figure', figsize=(16.0, 12.0))\n",
    "rc('animation', html='html5')\n",
    "\n",
    "#Import our simulator\n",
    "from SWESimulators import FBL, CTCS, SimWriter, PlotHelper, Common\n",
    "#Import initial condition and bathymetry generating functions:\n",
    "from SWESimulators.BathymetryAndICs import *"
   ]
  },
  {
   "cell_type": "markdown",
   "metadata": {},
   "source": [
    "## Setup OpenDrift"
   ]
  },
  {
   "cell_type": "code",
   "execution_count": null,
   "metadata": {
    "collapsed": false
   },
   "outputs": [],
   "source": [
    "sys.path.append(opendrift_directory)\n",
    "\n",
    "#from opendrift.models.leeway import Leeway\n",
    "from opendrift.models.oceandrift import OceanDrift\n",
    "#from opendrift.models.openoil3D import OpenOil3D\n",
    "\n",
    "from opendrift.readers import reader_netCDF_CF_generic\n",
    "#from opendrift.readers import reader_basemap_landmask\n",
    "\n",
    "#from opendrift.readers.interpolation import ReaderBlock\n",
    "\n",
    "print \"Required input variables for drift model:\"\n",
    "print OceanDrift.required_variables\n",
    "print \"Available fallback values:\"\n",
    "print OceanDrift.fallback_values"
   ]
  },
  {
   "cell_type": "markdown",
   "metadata": {},
   "source": [
    "## Print nc-file header and plot data"
   ]
  },
  {
   "cell_type": "code",
   "execution_count": null,
   "metadata": {
    "collapsed": false
   },
   "outputs": [],
   "source": [
    "import netCDF4 as nc\n",
    "\n",
    "def ncdump(nc_fid, verb=True):\n",
    "    '''\n",
    "    ncdump outputs dimensions, variables and their attribute information.\n",
    "    The information is similar to that of NCAR's ncdump utility.\n",
    "    ncdump requires a valid instance of Dataset.\n",
    "\n",
    "    Parameters\n",
    "    ----------\n",
    "    nc_fid : netCDF4.Dataset\n",
    "        A netCDF4 dateset object\n",
    "    verb : Boolean\n",
    "        whether or not nc_attrs, nc_dims, and nc_vars are printed\n",
    "\n",
    "    Returns\n",
    "    -------\n",
    "    nc_attrs : list\n",
    "        A Python list of the NetCDF file global attributes\n",
    "    nc_dims : list\n",
    "        A Python list of the NetCDF file dimensions\n",
    "    nc_vars : list\n",
    "        A Python list of the NetCDF file variables\n",
    "    '''\n",
    "    def print_ncattr(key):\n",
    "        \"\"\"\n",
    "        Prints the NetCDF file attributes for a given key\n",
    "\n",
    "        Parameters\n",
    "        ----------\n",
    "        key : unicode\n",
    "            a valid netCDF4.Dataset.variables key\n",
    "        \"\"\"\n",
    "        try:\n",
    "            print \"\\t\\ttype:\", repr(nc_fid.variables[key].dtype)\n",
    "            for ncattr in nc_fid.variables[key].ncattrs():\n",
    "                print '\\t\\t%s:' % ncattr,\\\n",
    "                      repr(nc_fid.variables[key].getncattr(ncattr))\n",
    "        except KeyError:\n",
    "            print \"\\t\\tWARNING: %s does not contain variable attributes\" % key\n",
    "\n",
    "    # NetCDF global attributes\n",
    "    nc_attrs = nc_fid.ncattrs()\n",
    "    if verb:\n",
    "        print \"NetCDF Global Attributes:\"\n",
    "        for nc_attr in nc_attrs:\n",
    "            print '\\t%s:' % nc_attr, repr(nc_fid.getncattr(nc_attr))\n",
    "    nc_dims = [dim for dim in nc_fid.dimensions]  # list of nc dimensions\n",
    "    # Dimension shape information.\n",
    "    if verb:\n",
    "        print \"NetCDF dimension information:\"\n",
    "        for dim in nc_dims:\n",
    "            print \"\\tName:\", dim \n",
    "            print \"\\t\\tsize:\", len(nc_fid.dimensions[dim])\n",
    "            print_ncattr(dim)\n",
    "    # Variable information.\n",
    "    nc_vars = [var for var in nc_fid.variables]  # list of nc variables\n",
    "    if verb:\n",
    "        print \"NetCDF variable information:\"\n",
    "        for var in nc_vars:\n",
    "            if var not in nc_dims:\n",
    "                print '\\tName:', var\n",
    "                print \"\\t\\tdimensions:\", nc_fid.variables[var].dimensions\n",
    "                print \"\\t\\tsize:\", nc_fid.variables[var].size\n",
    "                print_ncattr(var)\n",
    "    return nc_attrs, nc_dims, nc_vars"
   ]
  },
  {
   "cell_type": "code",
   "execution_count": null,
   "metadata": {
    "collapsed": false
   },
   "outputs": [],
   "source": [
    "ncfile = nc.Dataset(filename, 'r')\n",
    "nc_attrs, nc_dims, nc_vars = ncdump(ncfile, verb=False)\n",
    "\n",
    "u = np.array(ncfile.variables['hu'])\n",
    "v = np.array(ncfile.variables['hv'])\n",
    "x = np.array(ncfile.variables['x'])\n",
    "y = np.array(ncfile.variables['y'])\n",
    "t = np.array(ncfile.variables['time'])\n",
    "\n",
    "ncfile.close()\n",
    "\n",
    "w = np.sqrt(u*u+v*v)\n",
    "\n",
    "timestep = 1\n",
    "\n",
    "#print 'timestep = ', t\n",
    "#print 'x = ', x\n",
    "#print 'y = ', y\n",
    "\n",
    "plt.figure()\n",
    "plt.imshow(w[timestep, :, :])\n",
    "plt.colorbar()"
   ]
  },
  {
   "cell_type": "markdown",
   "metadata": {},
   "source": [
    "## Initialize OpenDrift nc-reader and print reader information"
   ]
  },
  {
   "cell_type": "code",
   "execution_count": null,
   "metadata": {
    "collapsed": false
   },
   "outputs": [],
   "source": [
    "reader_arctic = reader_netCDF_CF_generic.Reader(filename)\n",
    "reader_arctic.buffer = 10\n",
    "reader_arctic.verticalbuffer = 0\n",
    "\n",
    "# Separate reader for landmask\n",
    "#reader_basemap = reader_basemap_landmask.Reader(\n",
    "#                       llcrnrlon=5, llcrnrlat=55,\n",
    "#                       urcrnrlon=15, urcrnrlat=65,\n",
    "#                       resolution='h', projection='merc')\n",
    "\n",
    "print reader_arctic"
   ]
  },
  {
   "cell_type": "markdown",
   "metadata": {},
   "source": [
    "## Seed random-position particles"
   ]
  },
  {
   "cell_type": "code",
   "execution_count": null,
   "metadata": {
    "collapsed": false
   },
   "outputs": [],
   "source": [
    "def getCenter(reader):\n",
    "    dims = np.array([reader.numx, reader.numy])\n",
    "    center_xy = [reader.x[dims[0]/2], reader.y[dims[1]/2]]\n",
    "    [lon, lat] = reader.xy2lonlat(center_xy[0], center_xy[1])\n",
    "    return lon, lat\n",
    "\n",
    "lon, lat = getCenter(reader_arctic)\n",
    "print lon\n",
    "print lat"
   ]
  },
  {
   "cell_type": "code",
   "execution_count": null,
   "metadata": {
    "collapsed": false
   },
   "outputs": [],
   "source": [
    "def sampleParticles(particles, radius_max, center_lat, center_lon):\n",
    "\n",
    "    angle = np.random.rand(particles) * np.pi * 2\n",
    "    radius = np.random.rand(particles)*radius_max\n",
    "\n",
    "    lats = center_lat + np.sin(angle)*radius\n",
    "    lons = center_lon + np.cos(angle)*radius\n",
    "    \n",
    "    return lats, lons\n",
    "\n",
    "num_particles = 50\n",
    "max_radius = 1\n",
    "lat_array, lon_array = sampleParticles(num_particles, max_radius, lat, lon)\n",
    "\n",
    "#num_particles = 2\n",
    "#lat_array = [lat + 0.1, lat + 0.1]\n",
    "#lon_array = [lon - 0.1, lon + 0.1]\n",
    "\n",
    "\n",
    "plt.figure()\n",
    "plt.plot(lat, lon, 'rx')\n",
    "plt.plot(lat_array, lon_array, '.')\n",
    "\n",
    "plot_axis = plt.axis()"
   ]
  },
  {
   "cell_type": "markdown",
   "metadata": {},
   "source": [
    "## Advect the particles using velocity field imported from nc-file"
   ]
  },
  {
   "cell_type": "code",
   "execution_count": null,
   "metadata": {
    "collapsed": false,
    "scrolled": true
   },
   "outputs": [],
   "source": [
    "def simulateDrift(lon, lat, reader, start_time, end_time, reader_land_mask=None):\n",
    "    o = OceanDrift(loglevel=20) # Output a minimum of information\n",
    "    o.add_reader(reader) # with land mask from reader\n",
    "    \n",
    "    #o.add_reader([reader_land_mask, reader]) # with land mask from reader_land_mask\n",
    "    \n",
    "    #o.fallback_values['x_wind'] = 0\n",
    "    #o.fallback_values['y_wind'] = 0\n",
    "    #o.fallback_values['x_sea_water_velocity'] = 1.0\n",
    "    #o.fallback_values['y_sea_water_velocity'] = 0.0\n",
    "    #o.fallback_values['land_binary_mask'] = 0\n",
    "    \n",
    "    #o.set_config('processes:turbulentmixing', False)\n",
    "    #o.set_config('general:coastline_action', 'none')\n",
    "\n",
    "    print 'start time = ', start_time\n",
    "    print 'end time = ', end_time\n",
    "    num_timesteps = 100\n",
    "    num_particles = len(lat)\n",
    "\n",
    "    o.seed_elements(lon=lon, lat=lat, number=num_particles, radius=1, time=start_time)\n",
    "\n",
    "    dt = (end_time - start_time).total_seconds() / num_timesteps\n",
    "    o.run(end_time=end_time, time_step=dt, outfile='opendrift_output.nc')\n",
    "    \n",
    "    particleid=slice(None)\n",
    "    timesteps=slice(None)\n",
    "    lat_out=np.transpose(o.history['lat'][particleid, timesteps])\n",
    "    lon_out=np.transpose(o.history['lon'][particleid, timesteps])\n",
    "    \n",
    "    print o\n",
    "    #o.plot(background=['x_sea_water_velocity', 'y_sea_water_velocity'], buffer=.5)\n",
    "    o.animation()\n",
    "    o.plot()\n",
    "    \n",
    "    return lat_out, lon_out\n",
    "\n",
    "    \n",
    "lat_out, lon_out = simulateDrift(lon_array, lat_array, reader_arctic, reader_arctic.start_time, reader_arctic.end_time)#, reader_basemap)\n",
    "print 'Timesteps, num_particles'\n",
    "print lat_out.shape\n",
    "\n",
    "plt.figure()\n",
    "#plt.axis(plot_axis)\n",
    "plt.plot(lat_array, lon_array, 'x')\n",
    "plt.plot(lat_out, lon_out, '.')\n",
    "plt.plot(lat, lon, 'd')"
   ]
  },
  {
   "cell_type": "code",
   "execution_count": null,
   "metadata": {
    "collapsed": true
   },
   "outputs": [],
   "source": []
  }
 ],
 "metadata": {
  "git": {
   "suppress_outputs": true
  },
  "kernelspec": {
   "display_name": "Python 2",
   "language": "python",
   "name": "python2"
  },
  "language_info": {
   "codemirror_mode": {
    "name": "ipython",
    "version": 2
   },
   "file_extension": ".py",
   "mimetype": "text/x-python",
   "name": "python",
   "nbconvert_exporter": "python",
   "pygments_lexer": "ipython2",
   "version": "2.7.12"
  }
 },
 "nbformat": 4,
 "nbformat_minor": 0
}