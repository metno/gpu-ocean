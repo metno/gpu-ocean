{
 "cells": [
  {
   "cell_type": "markdown",
   "metadata": {},
   "source": [
    "```\n",
    "This notebook reads a netcdf file and visualizes its results\n",
    "\n",
    "Copyright (C) 2016  SINTEF ICT\n",
    "\n",
    "This program is free software: you can redistribute it and/or modify\n",
    "it under the terms of the GNU General Public License as published by\n",
    "the Free Software Foundation, either version 3 of the License, or\n",
    "(at your option) any later version.\n",
    "\n",
    "This program is distributed in the hope that it will be useful,\n",
    "but WITHOUT ANY WARRANTY; without even the implied warranty of\n",
    "MERCHANTABILITY or FITNESS FOR A PARTICULAR PURPOSE.  See the\n",
    "GNU General Public License for more details.\n",
    "\n",
    "You should have received a copy of the GNU General Public License\n",
    "along with this program.  If not, see <http://www.gnu.org/licenses/>.\n",
    "```"
   ]
  },
  {
   "cell_type": "markdown",
   "metadata": {},
   "source": [
    "## Bathymetry from NetCDF\n",
    "\n",
    "The goal of this note book is to read Bathymetry from a netcdf file, and put it into a simulator."
   ]
  },
  {
   "cell_type": "code",
   "execution_count": null,
   "metadata": {
    "collapsed": false
   },
   "outputs": [],
   "source": [
    "#Lets have matplotlib \"inline\"\n",
    "%matplotlib inline\n",
    "%config InlineBackend.figure_format = 'retina'\n",
    "\n",
    "#Import packages we need\n",
    "import numpy as np\n",
    "from netCDF4 import Dataset\n",
    "from matplotlib import animation, rc\n",
    "from matplotlib import pyplot as plt\n",
    "import numpy as np\n",
    "\n",
    "import sys, os\n",
    "sys.path.insert(0, os.path.abspath(os.path.join(os.getcwd(), '../')))\n",
    "\n",
    "from SWESimulators import Common, CDKLM16, SimReader, CTCS, PlotHelper\n",
    "from SWESimulators import BathymetryAndICs as bic\n",
    "\n",
    "#Set large figure sizes\n",
    "rc('figure', figsize=(16.0, 12.0))\n",
    "rc('animation', html='html5')"
   ]
  },
  {
   "cell_type": "code",
   "execution_count": null,
   "metadata": {
    "collapsed": false
   },
   "outputs": [],
   "source": [
    "gpu_ctx = Common.CUDAContext()"
   ]
  },
  {
   "cell_type": "markdown",
   "metadata": {},
   "source": [
    "We use the following file (in the cell below):\n",
    "```\n",
    "wget http://thredds.met.no/thredds/ncss/fou-hi/nordic4km-1h/Nordic-4km_SURF_1h_avg_00.nc?var=h&var=latitude&var=longitude&var=mask&disableLLSubset=on&disableProjSubset=on&horizStride=1&time_start=2018-08-15T00%3A00%3A00Z&time_end=2018-08-21T00%3A00%3A00Z&timeStride=1&vertCoord=\n",
    "```\n",
    "\n",
    "...or read directly from URL (two cells below)."
   ]
  },
  {
   "cell_type": "code",
   "execution_count": null,
   "metadata": {
    "collapsed": false
   },
   "outputs": [],
   "source": [
    "# open a the netCDF file for reading.\n",
    "filename = 'data/Nordic-4km_SURF_1h_avg_00.nc?var=h'\n",
    "ncfile = Dataset(filename,'r') \n",
    "\n",
    "for var in ncfile.variables:\n",
    "    print var\n",
    "\n",
    "print (\"\\nAttributes:\")    \n",
    "for attr in ncfile.ncattrs():\n",
    "    print attr, \"\\t --> \", ncfile.getncattr(attr)\n",
    "    \n",
    "X = ncfile.variables['X']\n",
    "Y = ncfile.variables['Y']\n",
    "H = ncfile.variables['h']"
   ]
  },
  {
   "cell_type": "code",
   "execution_count": null,
   "metadata": {},
   "outputs": [],
   "source": [
    "# Read netCDF data through THREDDS server\n",
    "url = 'http://thredds.met.no/thredds/dodsC/fou-hi/nordic4km-1h/Nordic-4km_SURF_1h_avg_00.nc'\n",
    "\n",
    "ncfile = Dataset(url)\n",
    "\n",
    "X = ncfile.variables['X']\n",
    "Y = ncfile.variables['Y']\n",
    "H = ncfile.variables['h']"
   ]
  },
  {
   "cell_type": "code",
   "execution_count": null,
   "metadata": {
    "collapsed": false
   },
   "outputs": [],
   "source": [
    "print( \"shapes: \", X.shape, Y.shape, H.shape)\n",
    "print( \"min/max H: \", np.min(H), np.max(H))\n",
    "fig = plt.figure(figsize=(6,3))\n",
    "plt.imshow(H, interpolation=\"None\", origin='lower')\n",
    "plt.colorbar()\n",
    "\n",
    "npH = np.array(H)\n",
    "\n",
    "posH = npH > 15\n",
    "print type(posH)\n",
    "fig = plt.figure(figsize=(5, 3))\n",
    "plt.imshow(posH , interpolation=\"None\", origin='lower')\n"
   ]
  },
  {
   "cell_type": "code",
   "execution_count": null,
   "metadata": {
    "collapsed": false
   },
   "outputs": [],
   "source": [
    "# Obtaining chunk of ocean between UK and Iceland\n",
    "\n",
    "atlantic_startX = 0\n",
    "atlantic_endY = 578\n",
    "\n",
    "atlantic_startY = 300\n",
    "atlantic_endX = 300\n",
    "\n",
    "def plotChunk(H, startX, endX, startY, endY, chunkTitle=\"Chunk\"):\n",
    "    H_chunk = H[startY:endY, startX:endX]\n",
    "    print \"shape H_chunk:\", H_chunk.shape\n",
    "    \n",
    "    fig = plt.figure(figsize=(10,10))\n",
    "    plt.subplot(2,2,1)\n",
    "    plt.imshow(H, origin='lower')\n",
    "    plt.title(\"Global field\")\n",
    "    \n",
    "    plt.subplot(2,2,3)\n",
    "    plt.imshow(H > 15, origin='lower')\n",
    "    plt.title(\"Global landmask\")\n",
    "    \n",
    "    plt.subplot(2,2,2)\n",
    "    plt.imshow(H_chunk, origin='lower')\n",
    "    plt.title(chunkTitle + \" field\")\n",
    "    \n",
    "    plt.subplot(2,2,4)\n",
    "    plt.imshow(H_chunk > 15, origin='lower')\n",
    "    plt.title(chunkTitle + \" landmask\")\n",
    "    \n",
    "    print( \"(min, max) of section: \", (np.min(H_chunk), np.max(H_chunk)))\n",
    "    \n",
    "plotChunk(npH, atlantic_startX, atlantic_endX, atlantic_startY, atlantic_endY, \"Atlantic\")\n",
    "    \n"
   ]
  },
  {
   "cell_type": "code",
   "execution_count": null,
   "metadata": {
    "collapsed": false
   },
   "outputs": [],
   "source": [
    "# Obtaining chunk of the North Sea\n",
    "\n",
    "northSea_startX = 350\n",
    "northSea_endX = 740\n",
    "\n",
    "northSea_startY = 240\n",
    "northSea_endY = 420\n",
    "\n",
    "plotChunk(npH, northSea_startX, northSea_endX, northSea_startY, northSea_endY, \"North Sea\")\n",
    "    \n"
   ]
  },
  {
   "cell_type": "code",
   "execution_count": null,
   "metadata": {
    "collapsed": false
   },
   "outputs": [],
   "source": [
    "# Checking the X and Y variables\n",
    "#fig = plt.figure(figsize=(3,3))\n",
    "#plt.plot(X, label='X')\n",
    "#plt.plot(Y, label='Y')\n",
    "#plt.legend()\n",
    "\n",
    "dx = X[1] - X[0]\n",
    "dy = Y[1] - Y[0]\n",
    "print(\"(dx, dy) in the start of the file:  \",(dx, dy))\n",
    "print(\"(dx, dy) somewhere else in the file:\", (X[400] - X[399], Y[400] - Y[399]))\n",
    "print \"lenght of north sea: \", dx*(northSea_endX - northSea_startX)\n",
    "print \"And that makes roughly sense\""
   ]
  },
  {
   "cell_type": "markdown",
   "metadata": {},
   "source": [
    "# Making a simulation of any of the two above sections\n"
   ]
  },
  {
   "cell_type": "code",
   "execution_count": null,
   "metadata": {
    "collapsed": false,
    "scrolled": false
   },
   "outputs": [],
   "source": [
    "def selectSection(H, startX, endX, startY, endY, chunkTitle=\"Chunk\"):\n",
    "    H_selection = H[startY:endY, startX:endX]\n",
    "    nx = endX - startX\n",
    "    ny = endY - startY\n",
    "    return H_selection, nx, ny\n",
    "    \n",
    "h0, nx, ny = selectSection(npH, atlantic_startX, atlantic_endX, atlantic_startY, atlantic_endY)\n",
    "#H, nx, ny = selectSection(npH, northSea_startX, northSea_endX, northSea_startY, northSea_endY)\n",
    "\n",
    "# X and Y are in km, we need m\n",
    "dx = (X[1] - X[0])*1000\n",
    "dy = (Y[1] - Y[0])*1000\n",
    "\n",
    "# Adjusting nx and ny according to boundary condition\n",
    "nx = nx-20\n",
    "ny = ny-20\n",
    "\n",
    "ghostCells = [10,10,10,10]\n",
    "dataShape = (ny + ghostCells[0] + ghostCells[2], nx + ghostCells[1] + ghostCells[3])\n",
    "#boundaryConditions = Common.BoundaryConditions(2,2,2,2)\n",
    "boundaryConditions = Common.BoundaryConditions(3,3,3,3, spongeCells=ghostCells)\n",
    "\n",
    "\n",
    "dt = 5\n",
    "g = 9.81\n",
    "f = 0.00004\n",
    "r = 0.0\n",
    "A = 10\n",
    "\n",
    "eta0 = np.zeros(dataShape, dtype=np.float32, order='C');\n",
    "u0 = np.zeros((dataShape[0], dataShape[1]+1), dtype=np.float32, order='C');\n",
    "v0 = np.zeros((dataShape[0]+1, dataShape[1]), dtype=np.float32, order='C'); \n",
    "\n",
    "bic.addBump(eta0, nx, ny, dx, dy, 0.2, 0.2, 200, ghostCells)\n",
    "#bic.addBump(eta0, nx, ny, dx, dy, 0.2, 0.2, 200, ghostCells)\n",
    "#bic.addBump(eta0, nx, ny, dx, dy, 0.2, 0.2, 200, ghostCells)\n",
    "#bic.addBump(eta0, nx, ny, dx, dy, 0.2, 0.2, 200, ghostCells)\n",
    "\n",
    "fig = plt.figure(figsize=(4,4))\n",
    "plt.imshow(eta0, origin=\"lower\")\n",
    "plt.colorbar()\n",
    "plt.title(\"Initial conditions\")\n",
    "fig = plt.figure(figsize=(4,4))\n",
    "plt.imshow(h0, origin=\"lower\")\n",
    "plt.colorbar()\n",
    "plt.title(\"Bathymetry\")\n",
    "\n",
    "\n",
    "x_center = dx*nx*0.3\n",
    "y_center = dy*ny*0.2\n",
    "y_coords, x_coords = np.mgrid[0:ny*dy:dy, 0:nx*dx:dx]\n",
    "x_coords = np.subtract(x_coords, x_center)\n",
    "y_coords = np.subtract(y_coords, y_center)\n",
    "radius = np.sqrt(np.multiply(x_coords, x_coords) + np.multiply(y_coords, y_coords))\n",
    "\n",
    "if 'sim' in globals():\n",
    "    sim.cleanUp()\n",
    "reload(CTCS)\n",
    "reload(PlotHelper)\n",
    "sim = CTCS.CTCS(gpu_ctx, \\\n",
    "                h0, eta0, u0, v0, \\\n",
    "                nx, ny, \\\n",
    "                dx, dy, dt, \\\n",
    "                g, f, r, A, \\\n",
    "                boundary_conditions=boundaryConditions )\n",
    "\n",
    "fig = plt.figure()\n",
    "eta1, u1, v1 = sim.download(interior_domain_only=True)\n",
    "plotter = PlotHelper.PlotHelper(fig, x_coords, y_coords, radius, eta1, u1, v1)\n",
    "\n",
    "#T = 300\n",
    "T = 50\n",
    "def animate(i):\n",
    "    if (i>0):\n",
    "        t = sim.step(10.0*dt)\n",
    "    else:\n",
    "        t = 0.0\n",
    "    eta1, u1, v1 = sim.download(interior_domain_only=True)\n",
    "\n",
    "    plotter.plot(eta1, u1, v1);\n",
    "    fig.suptitle(\"CTCS Time = \" + \"{:04.0f}\".format(t) + \" s\", fontsize=18)\n",
    "\n",
    "    if (i%10 == 0):\n",
    "        print \"{:03.0f}\".format(100.0*i / T) + \" % => t=\" + str(t)\n",
    "\n",
    "anim = animation.FuncAnimation(fig, animate, range(T), interval=100)\n",
    "plt.close(anim._fig)\n",
    "anim\n"
   ]
  },
  {
   "cell_type": "code",
   "execution_count": null,
   "metadata": {
    "collapsed": true
   },
   "outputs": [],
   "source": [
    "ncfile.close()"
   ]
  },
  {
   "cell_type": "code",
   "execution_count": null,
   "metadata": {
    "collapsed": false
   },
   "outputs": [],
   "source": [
    "from __future__ import unicode_literals\n",
    "#from builtins import str\n",
    "print (str)\n",
    "str(\"heisann\", 'utf8')"
   ]
  }
 ],
 "metadata": {
  "git": {
   "suppress_outputs": true
  },
  "kernelspec": {
   "display_name": "Python 2",
   "language": "python",
   "name": "python2"
  },
  "language_info": {
   "codemirror_mode": {
    "name": "ipython",
    "version": 2
   },
   "file_extension": ".py",
   "mimetype": "text/x-python",
   "name": "python",
   "nbconvert_exporter": "python",
   "pygments_lexer": "ipython2",
   "version": "2.7.12"
  }
 },
 "nbformat": 4,
 "nbformat_minor": 2
}