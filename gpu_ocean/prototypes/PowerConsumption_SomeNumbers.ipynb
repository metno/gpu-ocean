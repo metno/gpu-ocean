{
 "cells": [
  {
   "cell_type": "markdown",
   "metadata": {},
   "source": [
    "# Power consumptions"
   ]
  },
  {
   "cell_type": "markdown",
   "metadata": {},
   "source": [
    "From the GPUs in the paper, the Tesla P100 has the best values for Mcells/Joule"
   ]
  },
  {
   "cell_type": "code",
   "execution_count": 6,
   "metadata": {},
   "outputs": [],
   "source": [
    "ctcs_megacells_per_joule_p100 = 89.086702\n",
    "cdklm_megacells_per_joule_p100 = 23.236586"
   ]
  },
  {
   "cell_type": "markdown",
   "metadata": {},
   "source": [
    "Writing down some hard facts about NorKyst800"
   ]
  },
  {
   "cell_type": "code",
   "execution_count": 13,
   "metadata": {},
   "outputs": [],
   "source": [
    "number_of_cells_Norkyst_800 = 2167500\n",
    "dt_Norkyst_800 = 0.92\n",
    "runtime_Norkyst800_cdklm_p100 = 3*60 + 13"
   ]
  },
  {
   "cell_type": "markdown",
   "metadata": {},
   "source": [
    "Total number of cells computed. \n",
    "\n",
    "We don't care whether one timestep requires a two-step Runge-Kutta update. One timestep is one timestep, and that's what counts."
   ]
  },
  {
   "cell_type": "code",
   "execution_count": 10,
   "metadata": {},
   "outputs": [],
   "source": [
    "number_of_timesteps_24h = 24*3600 / dt_Norkyst_800\n",
    "number_of_cells_Norkyst_24h = number_of_timesteps_24h * number_of_cells_Norkyst_800"
   ]
  },
  {
   "cell_type": "markdown",
   "metadata": {},
   "source": [
    "Power consumption for running 24 hours of NorKyst800 domain on a V100 using CDKLM:"
   ]
  },
  {
   "cell_type": "code",
   "execution_count": 15,
   "metadata": {},
   "outputs": [
    {
     "name": "stdout",
     "output_type": "stream",
     "text": [
      "Joules for running 24h Norkyst800 domain using CDKLM: 8760.173363640013\n",
      "Estimated effect of p100: 45.38949929347157 W\n"
     ]
    }
   ],
   "source": [
    "joules_norkyst800_24h_cdklm = number_of_cells_Norkyst_24h / (cdklm_megacells_per_joule_p100 * 1e6)\n",
    "print(\"Joules for running 24h Norkyst800 domain using CDKLM: \" + str(joules_norkyst800_24h_cdklm))\n",
    "estimated_effect_of_p100 = joules_norkyst800_24h_cdklm / runtime_Norkyst800_cdklm_p100\n",
    "print(\"Estimated effect of p100: \" + str(estimated_effect_of_p100) + \" W\")"
   ]
  },
  {
   "cell_type": "markdown",
   "metadata": {},
   "source": [
    "If CTCS has the same $\\Delta t$ and runs the same number of grid cells:"
   ]
  },
  {
   "cell_type": "code",
   "execution_count": 17,
   "metadata": {},
   "outputs": [
    {
     "name": "stdout",
     "output_type": "stream",
     "text": [
      "Joules for running 24h Norkyst800 domain using CTCS: 2284.926000955007\n"
     ]
    }
   ],
   "source": [
    "joules_norkyst800_24h_ctcs = number_of_cells_Norkyst_24h / (ctcs_megacells_per_joule_p100 * 1e6)\n",
    "print(\"Joules for running 24h Norkyst800 domain using CTCS: \" + str(joules_norkyst800_24h_ctcs))\n"
   ]
  }
 ],
 "metadata": {
  "kernelspec": {
   "display_name": "Python [conda env:gpuocean] *",
   "language": "python",
   "name": "conda-env-gpuocean-py"
  },
  "language_info": {
   "codemirror_mode": {
    "name": "ipython",
    "version": 3
   },
   "file_extension": ".py",
   "mimetype": "text/x-python",
   "name": "python",
   "nbconvert_exporter": "python",
   "pygments_lexer": "ipython3",
   "version": "3.7.9"
  }
 },
 "nbformat": 4,
 "nbformat_minor": 4
}
